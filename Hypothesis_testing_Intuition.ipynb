{
 "cells": [
  {
   "cell_type": "markdown",
   "metadata": {},
   "source": [
    "`HYPOTHESIS TESTING INTUITION`\n",
    "- hey ,welcome , in this notebook am going to share the basics of of Hypothesis testing , I may nt dive deep into the statiscal terminologies but i will try some how , so whats is Hypothesis testing \n",
    "Hypothesis Testing-- In laymans term Hypothesis testing allows us to answer questions about the population as regards by looking at the sample\n",
    "* So we should take into note thats its almost impossible to `prove` that a  `theory or particular hypothesis is correct`\n",
    "* All we can say that a particular Sample Comfronts a Particular Hypothesis\n",
    "  \n",
    "`TYPES OF HYPOTHESIS`\n",
    "- `Null` Hypothsis is a statement of of Values not expected \n",
    "- `Alternative` Hypothesis is a statement of values expected (what we realy want to show)\n",
    "- They are very many statiscal terms as regards these , am just trying to make meaning more easier and interpretable"
   ]
  },
  {
   "cell_type": "markdown",
   "metadata": {},
   "source": [
    "`PROJECT OVERVIEW`\n",
    "- Am going to work with some Health care related terms , so in health care there is some experiments where they do, so imagine they wanted to test if the effect of a drug for treating malaria is effective , so they carry experiments , where they choose a control group , usually called the Placebo group , this group is given a drug that is similar to the real drug but has no effects at all , then a group which we shall call the New Intervension , this group is given the real drug and then the results are tracked and measured for both \n",
    "- Hey Usually in Health care , theses experimeents are done with consent , so the placebo group know they are participating in the experiment\n",
    "  \n",
    "`PROJECT HYPOTHESIS` \n",
    "-  `Null`--- There is no difference in the means of the Two groups\n",
    "-  `Alternative`---There is a difference in the means of the two groups \n",
    "  \n",
    "`NOTE` \n",
    "- We always happy if our research is in the alternative hypothesis but remember always report the correct underlying assumption as forcing something that doesnot exist would lead to `P-Hacking`"
   ]
  },
  {
   "cell_type": "code",
   "execution_count": 1,
   "metadata": {},
   "outputs": [],
   "source": [
    "## importing neccessary libraries \n",
    "import numpy as np \n",
    "import matplotlib.pyplot as plt \n",
    "import pandas as pd \n",
    "import plotly.express as px \n",
    "import plotly.graph_objects as go \n",
    "from scipy import stats  \n",
    "import patsy\n",
    "import plotly.io as io\n",
    "io.templates.default = 'ggplot2+seaborn'\n",
    "from rich.console import Console \n",
    "console = Console()"
   ]
  },
  {
   "cell_type": "markdown",
   "metadata": {},
   "source": [
    "    Generaring Data\n",
    "    * Am going to perform an Independent Sample T-tets , so am going to geneerate data with two variables \n",
    "    * Placebo variable - this is going to be our control group\n",
    "    * New_Intervseion- Variable exposed to the new treatment\n",
    "  \n",
    "  "
   ]
  },
  {
   "cell_type": "code",
   "execution_count": 2,
   "metadata": {},
   "outputs": [],
   "source": [
    "## Intervension group\n",
    "New_Intervention = stats.norm.rvs(loc=50,scale=5,size=100,random_state=3)\n",
    "## Placebo group\n",
    "Placebo =  stats.norm.rvs(loc=48,scale=7,size=100,random_state=3)"
   ]
  },
  {
   "cell_type": "code",
   "execution_count": 3,
   "metadata": {},
   "outputs": [
    {
     "data": {
      "text/html": [
       "<pre style=\"white-space:pre;overflow-x:auto;line-height:normal;font-family:Menlo,'DejaVu Sans Mono',consolas,'Courier New',monospace\">Mean of the Intervesion group  is = <span style=\"color: #008080; text-decoration-color: #008080; font-weight: bold\">49.45681462796969</span>\n",
       "</pre>\n"
      ],
      "text/plain": [
       "Mean of the Intervesion group  is = \u001b[1;36m49.45681462796969\u001b[0m\n"
      ]
     },
     "metadata": {},
     "output_type": "display_data"
    },
    {
     "data": {
      "text/html": [
       "<pre style=\"white-space:pre;overflow-x:auto;line-height:normal;font-family:Menlo,'DejaVu Sans Mono',consolas,'Courier New',monospace\">Mean of the Placebo group is = <span style=\"color: #008080; text-decoration-color: #008080; font-weight: bold\">47.23954047915756</span>\n",
       "</pre>\n"
      ],
      "text/plain": [
       "Mean of the Placebo group is = \u001b[1;36m47.23954047915756\u001b[0m\n"
      ]
     },
     "metadata": {},
     "output_type": "display_data"
    }
   ],
   "source": [
    "console.print(f'Mean of the Intervesion group  is = {New_Intervention.mean()}')\n",
    "console.print(f'Mean of the Placebo group is = {Placebo.mean()}')"
   ]
  },
  {
   "cell_type": "code",
   "execution_count": 4,
   "metadata": {},
   "outputs": [
    {
     "data": {
      "text/html": [
       "<pre style=\"white-space:pre;overflow-x:auto;line-height:normal;font-family:Menlo,'DejaVu Sans Mono',consolas,'Courier New',monospace\">Stabdard deviation of the Intervesion is = <span style=\"color: #008080; text-decoration-color: #008080; font-weight: bold\">5.319966842666896</span>\n",
       "</pre>\n"
      ],
      "text/plain": [
       "Stabdard deviation of the Intervesion is = \u001b[1;36m5.319966842666896\u001b[0m\n"
      ]
     },
     "metadata": {},
     "output_type": "display_data"
    },
    {
     "data": {
      "text/html": [
       "<pre style=\"white-space:pre;overflow-x:auto;line-height:normal;font-family:Menlo,'DejaVu Sans Mono',consolas,'Courier New',monospace\">Standard deviation of the Placebo = <span style=\"color: #008080; text-decoration-color: #008080; font-weight: bold\">7.447953579733653</span>\n",
       "</pre>\n"
      ],
      "text/plain": [
       "Standard deviation of the Placebo = \u001b[1;36m7.447953579733653\u001b[0m\n"
      ]
     },
     "metadata": {},
     "output_type": "display_data"
    }
   ],
   "source": [
    "console.print(f'Stabdard deviation of the Intervesion is = {New_Intervention.std()}')\n",
    "console.print(f'Standard deviation of the Placebo = {Placebo.std()}')"
   ]
  },
  {
   "cell_type": "markdown",
   "metadata": {},
   "source": [
    "`How to check for an Independent t-test`\n",
    "- Simply pass the variables to the function"
   ]
  },
  {
   "cell_type": "code",
   "execution_count": 5,
   "metadata": {},
   "outputs": [
    {
     "data": {
      "text/plain": [
       "TtestResult(statistic=2.4103616553305383, pvalue=0.01685096672771992, df=198.0)"
      ]
     },
     "execution_count": 5,
     "metadata": {},
     "output_type": "execute_result"
    }
   ],
   "source": [
    "## intaitlize the test \n",
    "stats.ttest_ind(New_Intervention , Placebo)"
   ]
  },
  {
   "cell_type": "markdown",
   "metadata": {},
   "source": [
    "`Box-whisker-plot`"
   ]
  },
  {
   "cell_type": "code",
   "execution_count": 6,
   "metadata": {},
   "outputs": [
    {
     "data": {
      "application/vnd.plotly.v1+json": {
       "config": {
        "plotlyServerURL": "https://plot.ly"
       },
       "data": [
        {
         "boxmean": true,
         "boxpoints": "suspectedoutliers",
         "name": "Placebo",
         "type": "box",
         "y": [
          60.52039931401223,
          51.05556895358393,
          48.67548227650406,
          34.955551076448565,
          46.05828258239921,
          45.51668714511709,
          47.42080962962278,
          43.61099526223307,
          47.693272817168506,
          44.65947378748348,
          38.80294672646123,
          54.192356663497094,
          54.16922629545271,
          59.96701144557064,
          48.350235495238024,
          45.16725809779376,
          44.182480366663285,
          37.174658790919224,
          54.87657203980712,
          40.29252658921967,
          39.70467431085879,
          46.56045070404221,
          58.40303848552213,
          49.657013870588386,
          40.833504020514724,
          43.009047599215656,
          52.3767147631398,
          46.87640645769153,
          42.61814554776539,
          46.389784944054426,
          53.215393864837594,
          61.83277548188412,
          39.29113669730844,
          43.61508162168141,
          42.37363733796396,
          31.066417787749312,
          41.53345584812948,
          40.83286967410014,
          55.86784571270228,
          47.07660037039369,
          36.63700187915327,
          52.52672816589121,
          45.506104683872785,
          35.79801274132579,
          43.82345250821061,
          43.8798393421823,
          41.882823915663906,
          48.207996707527116,
          32.26219562696376,
          46.12566694607761,
          55.092284093205464,
          53.969584886679044,
          55.75731249954495,
          55.83573458723224,
          58.412801923947775,
          40.171895209197444,
          53.920833849400275,
          34.9737732974052,
          43.77980427194947,
          34.5986956961593,
          55.33703258572378,
          57.33616473609741,
          46.61809724589225,
          60.42251521984154,
          43.276907427818,
          49.05431805755516,
          49.070619919337375,
          40.55063308244433,
          51.06562627896057,
          61.572849222803455,
          40.825483877743395,
          54.2953691208857,
          46.91845203670499,
          60.387391123056204,
          51.38651843320371,
          52.73351479904144,
          52.50214296417003,
          49.74360694708084,
          38.22965548151527,
          57.74164035421365,
          38.40531691213589,
          49.66994234684131,
          52.29853961427865,
          42.13461409108394,
          49.015442498724695,
          56.17517600411149,
          47.83126870950139,
          41.779398075029356,
          27.589835737451015,
          41.197116481991735,
          43.86244883059887,
          44.385078425480685,
          41.28002673840948,
          50.6410666387924,
          43.977041056551066,
          47.23381966283574,
          52.75350119877855,
          42.01193981938083,
          45.898557478363145,
          63.107045394398426
         ]
        },
        {
         "boxmean": true,
         "boxpoints": "suspectedoutliers",
         "name": "New Intervesion",
         "type": "box",
         "y": [
          58.943142367151594,
          52.182549252559944,
          50.482487340360045,
          40.68253648317754,
          48.613058987428005,
          48.22620510365507,
          49.586292592587704,
          46.86499661588076,
          49.78090915512036,
          47.61390984820249,
          43.43067623318659,
          54.42311190249792,
          54.40659021103765,
          58.54786531826474,
          50.250168210884304,
          47.97661292699554,
          47.273200261902346,
          42.26761342208516,
          54.9118371712908,
          44.49466184944262,
          44.07476736489914,
          48.971750502887296,
          57.43074177537295,
          51.18358133613456,
          44.88107430036766,
          46.43503399943975,
          53.126224830814145,
          49.19743318406538,
          46.15581824840385,
          48.8498463886103,
          53.72528133202685,
          59.88055391563151,
          43.77938335522032,
          46.867915444058156,
          45.98116952711712,
          37.90458413410665,
          45.381039891521056,
          44.880621195785814,
          55.61988979478734,
          49.340428835995496,
          41.88357277082376,
          53.23337726135086,
          48.21864620276627,
          41.284294815232705,
          47.016751791579004,
          47.057028101558785,
          45.630588511188506,
          50.14856907680508,
          38.75871116211697,
          48.66119067576972,
          55.06591720943247,
          54.263989204770745,
          55.54093749967496,
          55.596953276594455,
          57.4377156599627,
          44.40849657799818,
          54.22916703528591,
          40.69555235528943,
          46.98557447996391,
          40.42763978297093,
          55.24073756123128,
          56.668689097212436,
          49.01292660420875,
          58.87322515702967,
          46.626362448441434,
          50.75308432682511,
          50.76472851381241,
          44.679023630317374,
          52.189733056400414,
          59.69489230200247,
          44.875345626959565,
          54.49669222920407,
          49.22746574050356,
          58.84813651646871,
          52.41894173800265,
          53.38108199931531,
          53.21581640297859,
          51.24543353362917,
          43.021182486796626,
          56.95831453872404,
          43.146654937239916,
          51.192815962029506,
          53.07038543877047,
          45.81043863648853,
          50.72531607051764,
          55.83941143150821,
          49.87947764964385,
          45.55671291073526,
          35.42131124103644,
          45.14079748713695,
          47.044606307570625,
          47.417913161057626,
          45.20001909886392,
          51.886476170566,
          47.126457897536476,
          49.452728330596955,
          53.39535799912753,
          45.72281415670059,
          48.498969627402246,
          60.790746710284594
         ]
        }
       ],
       "layout": {
        "template": {
         "data": {
          "bar": [
           {
            "error_x": {
             "color": "rgb(36,36,36)"
            },
            "error_y": {
             "color": "rgb(36,36,36)"
            },
            "marker": {
             "line": {
              "color": "rgb(234,234,242)",
              "width": 0.5
             },
             "pattern": {
              "fillmode": "overlay",
              "size": 10,
              "solidity": 0.2
             }
            },
            "type": "bar"
           }
          ],
          "barpolar": [
           {
            "marker": {
             "line": {
              "color": "rgb(234,234,242)",
              "width": 0.5
             },
             "pattern": {
              "fillmode": "overlay",
              "size": 10,
              "solidity": 0.2
             }
            },
            "type": "barpolar"
           }
          ],
          "carpet": [
           {
            "aaxis": {
             "endlinecolor": "rgb(36,36,36)",
             "gridcolor": "white",
             "linecolor": "white",
             "minorgridcolor": "white",
             "startlinecolor": "rgb(36,36,36)"
            },
            "baxis": {
             "endlinecolor": "rgb(36,36,36)",
             "gridcolor": "white",
             "linecolor": "white",
             "minorgridcolor": "white",
             "startlinecolor": "rgb(36,36,36)"
            },
            "type": "carpet"
           }
          ],
          "choropleth": [
           {
            "colorbar": {
             "outlinewidth": 0,
             "tickcolor": "rgb(36,36,36)",
             "ticklen": 8,
             "ticks": "outside",
             "tickwidth": 2
            },
            "type": "choropleth"
           }
          ],
          "contour": [
           {
            "colorbar": {
             "outlinewidth": 0,
             "tickcolor": "rgb(36,36,36)",
             "ticklen": 8,
             "ticks": "outside",
             "tickwidth": 2
            },
            "colorscale": [
             [
              0,
              "rgb(2,4,25)"
             ],
             [
              0.06274509803921569,
              "rgb(24,15,41)"
             ],
             [
              0.12549019607843137,
              "rgb(47,23,57)"
             ],
             [
              0.18823529411764706,
              "rgb(71,28,72)"
             ],
             [
              0.25098039215686274,
              "rgb(97,30,82)"
             ],
             [
              0.3137254901960784,
              "rgb(123,30,89)"
             ],
             [
              0.3764705882352941,
              "rgb(150,27,91)"
             ],
             [
              0.4392156862745098,
              "rgb(177,22,88)"
             ],
             [
              0.5019607843137255,
              "rgb(203,26,79)"
             ],
             [
              0.5647058823529412,
              "rgb(223,47,67)"
             ],
             [
              0.6274509803921569,
              "rgb(236,76,61)"
             ],
             [
              0.6901960784313725,
              "rgb(242,107,73)"
             ],
             [
              0.7529411764705882,
              "rgb(244,135,95)"
             ],
             [
              0.8156862745098039,
              "rgb(245,162,122)"
             ],
             [
              0.8784313725490196,
              "rgb(246,188,153)"
             ],
             [
              0.9411764705882353,
              "rgb(247,212,187)"
             ],
             [
              1,
              "rgb(250,234,220)"
             ]
            ],
            "type": "contour"
           }
          ],
          "contourcarpet": [
           {
            "colorbar": {
             "outlinewidth": 0,
             "tickcolor": "rgb(36,36,36)",
             "ticklen": 8,
             "ticks": "outside",
             "tickwidth": 2
            },
            "type": "contourcarpet"
           }
          ],
          "heatmap": [
           {
            "colorbar": {
             "outlinewidth": 0,
             "tickcolor": "rgb(36,36,36)",
             "ticklen": 8,
             "ticks": "outside",
             "tickwidth": 2
            },
            "colorscale": [
             [
              0,
              "rgb(2,4,25)"
             ],
             [
              0.06274509803921569,
              "rgb(24,15,41)"
             ],
             [
              0.12549019607843137,
              "rgb(47,23,57)"
             ],
             [
              0.18823529411764706,
              "rgb(71,28,72)"
             ],
             [
              0.25098039215686274,
              "rgb(97,30,82)"
             ],
             [
              0.3137254901960784,
              "rgb(123,30,89)"
             ],
             [
              0.3764705882352941,
              "rgb(150,27,91)"
             ],
             [
              0.4392156862745098,
              "rgb(177,22,88)"
             ],
             [
              0.5019607843137255,
              "rgb(203,26,79)"
             ],
             [
              0.5647058823529412,
              "rgb(223,47,67)"
             ],
             [
              0.6274509803921569,
              "rgb(236,76,61)"
             ],
             [
              0.6901960784313725,
              "rgb(242,107,73)"
             ],
             [
              0.7529411764705882,
              "rgb(244,135,95)"
             ],
             [
              0.8156862745098039,
              "rgb(245,162,122)"
             ],
             [
              0.8784313725490196,
              "rgb(246,188,153)"
             ],
             [
              0.9411764705882353,
              "rgb(247,212,187)"
             ],
             [
              1,
              "rgb(250,234,220)"
             ]
            ],
            "type": "heatmap"
           }
          ],
          "heatmapgl": [
           {
            "colorbar": {
             "outlinewidth": 0,
             "tickcolor": "rgb(36,36,36)",
             "ticklen": 8,
             "ticks": "outside",
             "tickwidth": 2
            },
            "colorscale": [
             [
              0,
              "rgb(2,4,25)"
             ],
             [
              0.06274509803921569,
              "rgb(24,15,41)"
             ],
             [
              0.12549019607843137,
              "rgb(47,23,57)"
             ],
             [
              0.18823529411764706,
              "rgb(71,28,72)"
             ],
             [
              0.25098039215686274,
              "rgb(97,30,82)"
             ],
             [
              0.3137254901960784,
              "rgb(123,30,89)"
             ],
             [
              0.3764705882352941,
              "rgb(150,27,91)"
             ],
             [
              0.4392156862745098,
              "rgb(177,22,88)"
             ],
             [
              0.5019607843137255,
              "rgb(203,26,79)"
             ],
             [
              0.5647058823529412,
              "rgb(223,47,67)"
             ],
             [
              0.6274509803921569,
              "rgb(236,76,61)"
             ],
             [
              0.6901960784313725,
              "rgb(242,107,73)"
             ],
             [
              0.7529411764705882,
              "rgb(244,135,95)"
             ],
             [
              0.8156862745098039,
              "rgb(245,162,122)"
             ],
             [
              0.8784313725490196,
              "rgb(246,188,153)"
             ],
             [
              0.9411764705882353,
              "rgb(247,212,187)"
             ],
             [
              1,
              "rgb(250,234,220)"
             ]
            ],
            "type": "heatmapgl"
           }
          ],
          "histogram": [
           {
            "marker": {
             "pattern": {
              "fillmode": "overlay",
              "size": 10,
              "solidity": 0.2
             }
            },
            "type": "histogram"
           }
          ],
          "histogram2d": [
           {
            "colorbar": {
             "outlinewidth": 0,
             "tickcolor": "rgb(36,36,36)",
             "ticklen": 8,
             "ticks": "outside",
             "tickwidth": 2
            },
            "colorscale": [
             [
              0,
              "rgb(2,4,25)"
             ],
             [
              0.06274509803921569,
              "rgb(24,15,41)"
             ],
             [
              0.12549019607843137,
              "rgb(47,23,57)"
             ],
             [
              0.18823529411764706,
              "rgb(71,28,72)"
             ],
             [
              0.25098039215686274,
              "rgb(97,30,82)"
             ],
             [
              0.3137254901960784,
              "rgb(123,30,89)"
             ],
             [
              0.3764705882352941,
              "rgb(150,27,91)"
             ],
             [
              0.4392156862745098,
              "rgb(177,22,88)"
             ],
             [
              0.5019607843137255,
              "rgb(203,26,79)"
             ],
             [
              0.5647058823529412,
              "rgb(223,47,67)"
             ],
             [
              0.6274509803921569,
              "rgb(236,76,61)"
             ],
             [
              0.6901960784313725,
              "rgb(242,107,73)"
             ],
             [
              0.7529411764705882,
              "rgb(244,135,95)"
             ],
             [
              0.8156862745098039,
              "rgb(245,162,122)"
             ],
             [
              0.8784313725490196,
              "rgb(246,188,153)"
             ],
             [
              0.9411764705882353,
              "rgb(247,212,187)"
             ],
             [
              1,
              "rgb(250,234,220)"
             ]
            ],
            "type": "histogram2d"
           }
          ],
          "histogram2dcontour": [
           {
            "colorbar": {
             "outlinewidth": 0,
             "tickcolor": "rgb(36,36,36)",
             "ticklen": 8,
             "ticks": "outside",
             "tickwidth": 2
            },
            "colorscale": [
             [
              0,
              "rgb(2,4,25)"
             ],
             [
              0.06274509803921569,
              "rgb(24,15,41)"
             ],
             [
              0.12549019607843137,
              "rgb(47,23,57)"
             ],
             [
              0.18823529411764706,
              "rgb(71,28,72)"
             ],
             [
              0.25098039215686274,
              "rgb(97,30,82)"
             ],
             [
              0.3137254901960784,
              "rgb(123,30,89)"
             ],
             [
              0.3764705882352941,
              "rgb(150,27,91)"
             ],
             [
              0.4392156862745098,
              "rgb(177,22,88)"
             ],
             [
              0.5019607843137255,
              "rgb(203,26,79)"
             ],
             [
              0.5647058823529412,
              "rgb(223,47,67)"
             ],
             [
              0.6274509803921569,
              "rgb(236,76,61)"
             ],
             [
              0.6901960784313725,
              "rgb(242,107,73)"
             ],
             [
              0.7529411764705882,
              "rgb(244,135,95)"
             ],
             [
              0.8156862745098039,
              "rgb(245,162,122)"
             ],
             [
              0.8784313725490196,
              "rgb(246,188,153)"
             ],
             [
              0.9411764705882353,
              "rgb(247,212,187)"
             ],
             [
              1,
              "rgb(250,234,220)"
             ]
            ],
            "type": "histogram2dcontour"
           }
          ],
          "mesh3d": [
           {
            "colorbar": {
             "outlinewidth": 0,
             "tickcolor": "rgb(36,36,36)",
             "ticklen": 8,
             "ticks": "outside",
             "tickwidth": 2
            },
            "type": "mesh3d"
           }
          ],
          "parcoords": [
           {
            "line": {
             "colorbar": {
              "outlinewidth": 0,
              "tickcolor": "rgb(36,36,36)",
              "ticklen": 8,
              "ticks": "outside",
              "tickwidth": 2
             }
            },
            "type": "parcoords"
           }
          ],
          "pie": [
           {
            "automargin": true,
            "type": "pie"
           }
          ],
          "scatter": [
           {
            "fillpattern": {
             "fillmode": "overlay",
             "size": 10,
             "solidity": 0.2
            },
            "type": "scatter"
           }
          ],
          "scatter3d": [
           {
            "line": {
             "colorbar": {
              "outlinewidth": 0,
              "tickcolor": "rgb(36,36,36)",
              "ticklen": 8,
              "ticks": "outside",
              "tickwidth": 2
             }
            },
            "marker": {
             "colorbar": {
              "outlinewidth": 0,
              "tickcolor": "rgb(36,36,36)",
              "ticklen": 8,
              "ticks": "outside",
              "tickwidth": 2
             }
            },
            "type": "scatter3d"
           }
          ],
          "scattercarpet": [
           {
            "marker": {
             "colorbar": {
              "outlinewidth": 0,
              "tickcolor": "rgb(36,36,36)",
              "ticklen": 8,
              "ticks": "outside",
              "tickwidth": 2
             }
            },
            "type": "scattercarpet"
           }
          ],
          "scattergeo": [
           {
            "marker": {
             "colorbar": {
              "outlinewidth": 0,
              "tickcolor": "rgb(36,36,36)",
              "ticklen": 8,
              "ticks": "outside",
              "tickwidth": 2
             }
            },
            "type": "scattergeo"
           }
          ],
          "scattergl": [
           {
            "marker": {
             "colorbar": {
              "outlinewidth": 0,
              "tickcolor": "rgb(36,36,36)",
              "ticklen": 8,
              "ticks": "outside",
              "tickwidth": 2
             }
            },
            "type": "scattergl"
           }
          ],
          "scattermapbox": [
           {
            "marker": {
             "colorbar": {
              "outlinewidth": 0,
              "tickcolor": "rgb(36,36,36)",
              "ticklen": 8,
              "ticks": "outside",
              "tickwidth": 2
             }
            },
            "type": "scattermapbox"
           }
          ],
          "scatterpolar": [
           {
            "marker": {
             "colorbar": {
              "outlinewidth": 0,
              "tickcolor": "rgb(36,36,36)",
              "ticklen": 8,
              "ticks": "outside",
              "tickwidth": 2
             }
            },
            "type": "scatterpolar"
           }
          ],
          "scatterpolargl": [
           {
            "marker": {
             "colorbar": {
              "outlinewidth": 0,
              "tickcolor": "rgb(36,36,36)",
              "ticklen": 8,
              "ticks": "outside",
              "tickwidth": 2
             }
            },
            "type": "scatterpolargl"
           }
          ],
          "scatterternary": [
           {
            "marker": {
             "colorbar": {
              "outlinewidth": 0,
              "tickcolor": "rgb(36,36,36)",
              "ticklen": 8,
              "ticks": "outside",
              "tickwidth": 2
             }
            },
            "type": "scatterternary"
           }
          ],
          "surface": [
           {
            "colorbar": {
             "outlinewidth": 0,
             "tickcolor": "rgb(36,36,36)",
             "ticklen": 8,
             "ticks": "outside",
             "tickwidth": 2
            },
            "colorscale": [
             [
              0,
              "rgb(2,4,25)"
             ],
             [
              0.06274509803921569,
              "rgb(24,15,41)"
             ],
             [
              0.12549019607843137,
              "rgb(47,23,57)"
             ],
             [
              0.18823529411764706,
              "rgb(71,28,72)"
             ],
             [
              0.25098039215686274,
              "rgb(97,30,82)"
             ],
             [
              0.3137254901960784,
              "rgb(123,30,89)"
             ],
             [
              0.3764705882352941,
              "rgb(150,27,91)"
             ],
             [
              0.4392156862745098,
              "rgb(177,22,88)"
             ],
             [
              0.5019607843137255,
              "rgb(203,26,79)"
             ],
             [
              0.5647058823529412,
              "rgb(223,47,67)"
             ],
             [
              0.6274509803921569,
              "rgb(236,76,61)"
             ],
             [
              0.6901960784313725,
              "rgb(242,107,73)"
             ],
             [
              0.7529411764705882,
              "rgb(244,135,95)"
             ],
             [
              0.8156862745098039,
              "rgb(245,162,122)"
             ],
             [
              0.8784313725490196,
              "rgb(246,188,153)"
             ],
             [
              0.9411764705882353,
              "rgb(247,212,187)"
             ],
             [
              1,
              "rgb(250,234,220)"
             ]
            ],
            "type": "surface"
           }
          ],
          "table": [
           {
            "cells": {
             "fill": {
              "color": "rgb(231,231,240)"
             },
             "line": {
              "color": "white"
             }
            },
            "header": {
             "fill": {
              "color": "rgb(183,183,191)"
             },
             "line": {
              "color": "white"
             }
            },
            "type": "table"
           }
          ]
         },
         "layout": {
          "annotationdefaults": {
           "arrowcolor": "rgb(67,103,167)",
           "arrowhead": 0,
           "arrowwidth": 1
          },
          "autotypenumbers": "strict",
          "coloraxis": {
           "colorbar": {
            "outlinewidth": 0,
            "tickcolor": "rgb(36,36,36)",
            "ticklen": 8,
            "ticks": "outside",
            "tickwidth": 2
           }
          },
          "colorscale": {
           "sequential": [
            [
             0,
             "rgb(2,4,25)"
            ],
            [
             0.06274509803921569,
             "rgb(24,15,41)"
            ],
            [
             0.12549019607843137,
             "rgb(47,23,57)"
            ],
            [
             0.18823529411764706,
             "rgb(71,28,72)"
            ],
            [
             0.25098039215686274,
             "rgb(97,30,82)"
            ],
            [
             0.3137254901960784,
             "rgb(123,30,89)"
            ],
            [
             0.3764705882352941,
             "rgb(150,27,91)"
            ],
            [
             0.4392156862745098,
             "rgb(177,22,88)"
            ],
            [
             0.5019607843137255,
             "rgb(203,26,79)"
            ],
            [
             0.5647058823529412,
             "rgb(223,47,67)"
            ],
            [
             0.6274509803921569,
             "rgb(236,76,61)"
            ],
            [
             0.6901960784313725,
             "rgb(242,107,73)"
            ],
            [
             0.7529411764705882,
             "rgb(244,135,95)"
            ],
            [
             0.8156862745098039,
             "rgb(245,162,122)"
            ],
            [
             0.8784313725490196,
             "rgb(246,188,153)"
            ],
            [
             0.9411764705882353,
             "rgb(247,212,187)"
            ],
            [
             1,
             "rgb(250,234,220)"
            ]
           ],
           "sequentialminus": [
            [
             0,
             "rgb(2,4,25)"
            ],
            [
             0.06274509803921569,
             "rgb(24,15,41)"
            ],
            [
             0.12549019607843137,
             "rgb(47,23,57)"
            ],
            [
             0.18823529411764706,
             "rgb(71,28,72)"
            ],
            [
             0.25098039215686274,
             "rgb(97,30,82)"
            ],
            [
             0.3137254901960784,
             "rgb(123,30,89)"
            ],
            [
             0.3764705882352941,
             "rgb(150,27,91)"
            ],
            [
             0.4392156862745098,
             "rgb(177,22,88)"
            ],
            [
             0.5019607843137255,
             "rgb(203,26,79)"
            ],
            [
             0.5647058823529412,
             "rgb(223,47,67)"
            ],
            [
             0.6274509803921569,
             "rgb(236,76,61)"
            ],
            [
             0.6901960784313725,
             "rgb(242,107,73)"
            ],
            [
             0.7529411764705882,
             "rgb(244,135,95)"
            ],
            [
             0.8156862745098039,
             "rgb(245,162,122)"
            ],
            [
             0.8784313725490196,
             "rgb(246,188,153)"
            ],
            [
             0.9411764705882353,
             "rgb(247,212,187)"
            ],
            [
             1,
             "rgb(250,234,220)"
            ]
           ]
          },
          "colorway": [
           "rgb(76,114,176)",
           "rgb(221,132,82)",
           "rgb(85,168,104)",
           "rgb(196,78,82)",
           "rgb(129,114,179)",
           "rgb(147,120,96)",
           "rgb(218,139,195)",
           "rgb(140,140,140)",
           "rgb(204,185,116)",
           "rgb(100,181,205)"
          ],
          "font": {
           "color": "rgb(36,36,36)"
          },
          "geo": {
           "bgcolor": "white",
           "lakecolor": "white",
           "landcolor": "rgb(234,234,242)",
           "showlakes": true,
           "showland": true,
           "subunitcolor": "white"
          },
          "hoverlabel": {
           "align": "left"
          },
          "hovermode": "closest",
          "paper_bgcolor": "white",
          "plot_bgcolor": "rgb(234,234,242)",
          "polar": {
           "angularaxis": {
            "gridcolor": "white",
            "linecolor": "white",
            "showgrid": true,
            "tickcolor": "rgb(51,51,51)",
            "ticks": ""
           },
           "bgcolor": "rgb(234,234,242)",
           "radialaxis": {
            "gridcolor": "white",
            "linecolor": "white",
            "showgrid": true,
            "tickcolor": "rgb(51,51,51)",
            "ticks": ""
           }
          },
          "scene": {
           "xaxis": {
            "backgroundcolor": "rgb(234,234,242)",
            "gridcolor": "white",
            "gridwidth": 2,
            "linecolor": "white",
            "showbackground": true,
            "showgrid": true,
            "tickcolor": "rgb(51,51,51)",
            "ticks": "",
            "zerolinecolor": "white"
           },
           "yaxis": {
            "backgroundcolor": "rgb(234,234,242)",
            "gridcolor": "white",
            "gridwidth": 2,
            "linecolor": "white",
            "showbackground": true,
            "showgrid": true,
            "tickcolor": "rgb(51,51,51)",
            "ticks": "",
            "zerolinecolor": "white"
           },
           "zaxis": {
            "backgroundcolor": "rgb(234,234,242)",
            "gridcolor": "white",
            "gridwidth": 2,
            "linecolor": "white",
            "showbackground": true,
            "showgrid": true,
            "tickcolor": "rgb(51,51,51)",
            "ticks": "",
            "zerolinecolor": "white"
           }
          },
          "shapedefaults": {
           "fillcolor": "rgb(67,103,167)",
           "line": {
            "width": 0
           },
           "opacity": 0.5
          },
          "ternary": {
           "aaxis": {
            "gridcolor": "white",
            "linecolor": "white",
            "showgrid": true,
            "tickcolor": "rgb(51,51,51)",
            "ticks": ""
           },
           "baxis": {
            "gridcolor": "white",
            "linecolor": "white",
            "showgrid": true,
            "tickcolor": "rgb(51,51,51)",
            "ticks": ""
           },
           "bgcolor": "rgb(234,234,242)",
           "caxis": {
            "gridcolor": "white",
            "linecolor": "white",
            "showgrid": true,
            "tickcolor": "rgb(51,51,51)",
            "ticks": ""
           }
          },
          "xaxis": {
           "automargin": true,
           "gridcolor": "white",
           "linecolor": "white",
           "showgrid": true,
           "tickcolor": "rgb(51,51,51)",
           "ticks": "",
           "title": {
            "standoff": 15
           },
           "zerolinecolor": "white"
          },
          "yaxis": {
           "automargin": true,
           "gridcolor": "white",
           "linecolor": "white",
           "showgrid": true,
           "tickcolor": "rgb(51,51,51)",
           "ticks": "",
           "title": {
            "standoff": 15
           },
           "zerolinecolor": "white"
          }
         }
        },
        "title": {
         "text": "Box-Whisker-Plot"
        },
        "yaxis": {
         "title": {
          "text": "Group Means"
         }
        }
       }
      }
     },
     "metadata": {},
     "output_type": "display_data"
    }
   ],
   "source": [
    "## creating a fig \n",
    "fig = go.Figure()\n",
    "## adding the trace  \n",
    "fig.add_trace( \n",
    "    go.Box( \n",
    "        y=Placebo, \n",
    "        boxpoints='suspectedoutliers',  \n",
    "        boxmean=True,  \n",
    "        name='Placebo'\n",
    "    )\n",
    ")\n",
    "\n",
    "## adding the sceond Trace  \n",
    "fig.add_trace(  \n",
    "    go.Box( \n",
    "        y=New_Intervention,  \n",
    "        boxmean=True, \n",
    "        boxpoints='suspectedoutliers', \n",
    "        name='New Intervesion'\n",
    "    )\n",
    "\n",
    ")\n",
    "\n",
    "## update the layout  \n",
    "fig.update_layout( \n",
    "    title = 'Box-Whisker-Plot',  \n",
    "    yaxis = dict(title='Group Means')\n",
    "\n",
    ")"
   ]
  },
  {
   "cell_type": "markdown",
   "metadata": {},
   "source": [
    "* from the boxplot can we assume that there is a statiscally differeence between the two means"
   ]
  },
  {
   "cell_type": "markdown",
   "metadata": {},
   "source": [
    "`Is there a difference`\n",
    "- The is question is now , is there a difference between the calculated means of 49.45 and  and 47.23\n",
    "- lets start by subtracting the means from each other"
   ]
  },
  {
   "cell_type": "code",
   "execution_count": 7,
   "metadata": {},
   "outputs": [
    {
     "data": {
      "text/plain": [
       "2.2172741488121304"
      ]
     },
     "execution_count": 7,
     "metadata": {},
     "output_type": "execute_result"
    }
   ],
   "source": [
    "New_Intervention.mean() - Placebo.mean()"
   ]
  },
  {
   "cell_type": "code",
   "execution_count": 8,
   "metadata": {},
   "outputs": [
    {
     "data": {
      "text/plain": [
       "-2.2172741488121304"
      ]
     },
     "execution_count": 8,
     "metadata": {},
     "output_type": "execute_result"
    }
   ],
   "source": [
    "Placebo.mean() - New_Intervention.mean()"
   ]
  },
  {
   "cell_type": "markdown",
   "metadata": {},
   "source": [
    "`Creating the t-distribution`"
   ]
  },
  {
   "cell_type": "code",
   "execution_count": 9,
   "metadata": {},
   "outputs": [
    {
     "data": {
      "application/vnd.plotly.v1+json": {
       "config": {
        "plotlyServerURL": "https://plot.ly"
       },
       "data": [
        {
         "mode": "lines",
         "name": "PDF",
         "type": "scatter",
         "x": [
          -3,
          -2.969849246231156,
          -2.9396984924623117,
          -2.909547738693467,
          -2.879396984924623,
          -2.849246231155779,
          -2.819095477386935,
          -2.7889447236180906,
          -2.758793969849246,
          -2.728643216080402,
          -2.698492462311558,
          -2.6683417085427137,
          -2.6381909547738696,
          -2.608040201005025,
          -2.577889447236181,
          -2.5477386934673367,
          -2.5175879396984926,
          -2.4874371859296485,
          -2.457286432160804,
          -2.4271356783919598,
          -2.3969849246231156,
          -2.3668341708542715,
          -2.3366834170854274,
          -2.306532663316583,
          -2.2763819095477387,
          -2.2462311557788945,
          -2.2160804020100504,
          -2.1859296482412063,
          -2.1557788944723617,
          -2.1256281407035176,
          -2.0954773869346734,
          -2.0653266331658293,
          -2.035175879396985,
          -2.0050251256281406,
          -1.9748743718592965,
          -1.9447236180904524,
          -1.914572864321608,
          -1.8844221105527639,
          -1.8542713567839197,
          -1.8241206030150754,
          -1.7939698492462313,
          -1.763819095477387,
          -1.7336683417085428,
          -1.7035175879396987,
          -1.6733668341708543,
          -1.6432160804020102,
          -1.6130653266331658,
          -1.5829145728643217,
          -1.5527638190954773,
          -1.5226130653266332,
          -1.492462311557789,
          -1.4623115577889447,
          -1.4321608040201006,
          -1.4020100502512562,
          -1.3718592964824121,
          -1.341708542713568,
          -1.3115577889447236,
          -1.2814070351758795,
          -1.2512562814070352,
          -1.221105527638191,
          -1.190954773869347,
          -1.1608040201005025,
          -1.1306532663316584,
          -1.100502512562814,
          -1.07035175879397,
          -1.0402010050251258,
          -1.0100502512562815,
          -0.9798994974874371,
          -0.949748743718593,
          -0.9195979899497488,
          -0.8894472361809047,
          -0.8592964824120606,
          -0.829145728643216,
          -0.7989949748743719,
          -0.7688442211055277,
          -0.7386934673366836,
          -0.7085427135678395,
          -0.6783919597989949,
          -0.6482412060301508,
          -0.6180904522613067,
          -0.5879396984924625,
          -0.5577889447236184,
          -0.5276381909547738,
          -0.4974874371859297,
          -0.46733668341708556,
          -0.43718592964824143,
          -0.4070351758793973,
          -0.37688442211055273,
          -0.3467336683417086,
          -0.31658291457286447,
          -0.28643216080402034,
          -0.2562814070351762,
          -0.22613065326633164,
          -0.1959798994974875,
          -0.16582914572864338,
          -0.13567839195979925,
          -0.10552763819095468,
          -0.07537688442211055,
          -0.045226130653266416,
          -0.015075376884422287,
          0.015075376884421843,
          0.045226130653266416,
          0.07537688442211055,
          0.10552763819095468,
          0.1356783919597988,
          0.16582914572864293,
          0.1959798994974875,
          0.22613065326633164,
          0.25628140703517577,
          0.2864321608040199,
          0.316582914572864,
          0.3467336683417086,
          0.37688442211055273,
          0.40703517587939686,
          0.437185929648241,
          0.4673366834170851,
          0.4974874371859297,
          0.5276381909547738,
          0.557788944723618,
          0.5879396984924621,
          0.6180904522613062,
          0.6482412060301508,
          0.6783919597989949,
          0.708542713567839,
          0.7386934673366832,
          0.7688442211055273,
          0.7989949748743719,
          0.829145728643216,
          0.8592964824120601,
          0.8894472361809043,
          0.9195979899497484,
          0.949748743718593,
          0.9798994974874371,
          1.0100502512562812,
          1.0402010050251258,
          1.0703517587939695,
          1.100502512562814,
          1.1306532663316577,
          1.1608040201005023,
          1.190954773869347,
          1.2211055276381906,
          1.2512562814070352,
          1.2814070351758788,
          1.3115577889447234,
          1.341708542713568,
          1.3718592964824117,
          1.4020100502512562,
          1.4321608040201,
          1.4623115577889445,
          1.492462311557789,
          1.5226130653266328,
          1.5527638190954773,
          1.582914572864321,
          1.6130653266331656,
          1.6432160804020102,
          1.6733668341708539,
          1.7035175879396984,
          1.7336683417085421,
          1.7638190954773867,
          1.7939698492462313,
          1.824120603015075,
          1.8542713567839195,
          1.8844221105527632,
          1.9145728643216078,
          1.9447236180904524,
          1.974874371859296,
          2.0050251256281406,
          2.0351758793969843,
          2.065326633165829,
          2.0954773869346734,
          2.125628140703517,
          2.1557788944723617,
          2.1859296482412054,
          2.21608040201005,
          2.2462311557788945,
          2.2763819095477382,
          2.306532663316583,
          2.3366834170854265,
          2.366834170854271,
          2.3969849246231156,
          2.4271356783919593,
          2.457286432160804,
          2.4874371859296476,
          2.517587939698492,
          2.5477386934673367,
          2.5778894472361804,
          2.608040201005025,
          2.6381909547738687,
          2.6683417085427132,
          2.698492462311558,
          2.7286432160804015,
          2.758793969849246,
          2.7889447236180906,
          2.8190954773869343,
          2.849246231155779,
          2.8793969849246226,
          2.909547738693467,
          2.9396984924623117,
          2.9698492462311554,
          3
         ],
         "y": [
          0.004780780171998872,
          0.005213028336169956,
          0.005679811489990097,
          0.006183428684554951,
          0.0067262881485123365,
          0.00731090842434121,
          0.007939919094980798,
          0.008616061058503651,
          0.009342186307547597,
          0.010121257169479241,
          0.010956344962785518,
          0.01185062802500631,
          0.012807389067662022,
          0.013830011814121789,
          0.01492197687722839,
          0.016086856834772827,
          0.017328310462618218,
          0.018650076087433375,
          0.02005596402363175,
          0.021549848062239262,
          0.02313565598304951,
          0.024817359065578425,
          0.026598960579010365,
          0.028484483236535636,
          0.030477955605213235,
          0.03258339746874709,
          0.03480480414732247,
          0.03714612978589608,
          0.039611269630042384,
          0.042204041316596615,
          0.04492816521486819,
          0.04778724386307644,
          0.05078474055383727,
          0.0539239571319452,
          0.05720801107728211,
          0.060639811955380124,
          0.06422203732788145,
          0.06795710822480586,
          0.07184716429005693,
          0.07589403872088397,
          0.08009923313097629,
          0.08446389247539386,
          0.08898878018353706,
          0.09367425365372865,
          0.09852024026961138,
          0.10352621410436758,
          0.10869117348362889,
          0.11401361958177793,
          0.11949153622905571,
          0.12512237110838664,
          0.1309030185210504,
          0.136829803899176,
          0.14289847024046934,
          0.14910416663653797,
          0.15544143906062063,
          0.16190422357343018,
          0.16848584209716175,
          0.1751790008975116,
          0.18197579190180008,
          0.18886769696803415,
          0.195845595205027,
          0.20289977342757284,
          0.21001993981323663,
          0.21719524080866176,
          0.22441428131352173,
          0.23166514814948935,
          0.238935436799991,
          0.2462122813842271,
          0.2534823878061258,
          0.26073206999574233,
          0.26794728913730514,
          0.27511369575484335,
          0.28221667450330085,
          0.2892413914904692,
          0.2961728439331535,
          0.30299591192993547,
          0.3096954121129223,
          0.31625615292217174,
          0.3226629912292527,
          0.3289008900208336,
          0.33495497683944986,
          0.3408106026668583,
          0.3464534009257867,
          0.3518693462685478,
          0.3570448128160389,
          0.3619666315081563,
          0.3666221462267102,
          0.3709992683545512,
          0.3750865294398523,
          0.37887313164231395,
          0.3823489956484524,
          0.38550480575603224,
          0.38833205184303915,
          0.39082306795425165,
          0.39297106725833275,
          0.3947701731502779,
          0.39621544629785255,
          0.39730290745613817,
          0.3980295559012796,
          0.39839338336275554,
          0.39839338336275554,
          0.3980295559012796,
          0.39730290745613817,
          0.39621544629785255,
          0.3947701731502779,
          0.39297106725833275,
          0.39082306795425165,
          0.38833205184303915,
          0.3855048057560323,
          0.3823489956484525,
          0.378873131642314,
          0.3750865294398523,
          0.3709992683545512,
          0.3666221462267103,
          0.36196663150815633,
          0.357044812816039,
          0.3518693462685478,
          0.3464534009257867,
          0.3408106026668584,
          0.33495497683944997,
          0.3289008900208338,
          0.3226629912292527,
          0.31625615292217174,
          0.3096954121129224,
          0.3029959119299355,
          0.29617284393315363,
          0.2892413914904692,
          0.28221667450330085,
          0.2751136957548434,
          0.26794728913730526,
          0.26073206999574244,
          0.2534823878061258,
          0.2462122813842271,
          0.23893543679999107,
          0.23166514814948935,
          0.22441428131352184,
          0.21719524080866176,
          0.21001993981323674,
          0.20289977342757293,
          0.195845595205027,
          0.18886769696803424,
          0.18197579190180008,
          0.17517900089751176,
          0.16848584209716178,
          0.16190422357343018,
          0.15544143906062075,
          0.14910416663653797,
          0.14289847024046948,
          0.13682980389917604,
          0.1309030185210504,
          0.12512237110838675,
          0.11949153622905571,
          0.11401361958177814,
          0.10869117348362893,
          0.10352621410436758,
          0.09852024026961148,
          0.09367425365372865,
          0.08898878018353715,
          0.08446389247539389,
          0.08009923313097629,
          0.07589403872088404,
          0.071847164290057,
          0.06795710822480595,
          0.06422203732788145,
          0.060639811955380124,
          0.057208011077282156,
          0.0539239571319452,
          0.05078474055383734,
          0.04778724386307648,
          0.04492816521486819,
          0.042204041316596635,
          0.039611269630042384,
          0.03714612978589616,
          0.034804804147322496,
          0.03258339746874709,
          0.030477955605213262,
          0.028484483236535636,
          0.026598960579010414,
          0.024817359065578457,
          0.02313565598304951,
          0.02154984806223929,
          0.02005596402363175,
          0.018650076087433416,
          0.01732831046261825,
          0.016086856834772827,
          0.014921976877228403,
          0.013830011814121789,
          0.012807389067662057,
          0.011850628025006332,
          0.010956344962785518,
          0.010121257169479252,
          0.009342186307547597,
          0.008616061058503651,
          0.007939919094980812,
          0.00731090842434121,
          0.006726288148512343,
          0.006183428684554951,
          0.005679811489990097,
          0.00521302833616997,
          0.004780780171998872
         ]
        }
       ],
       "layout": {
        "template": {
         "data": {
          "bar": [
           {
            "error_x": {
             "color": "rgb(36,36,36)"
            },
            "error_y": {
             "color": "rgb(36,36,36)"
            },
            "marker": {
             "line": {
              "color": "rgb(234,234,242)",
              "width": 0.5
             },
             "pattern": {
              "fillmode": "overlay",
              "size": 10,
              "solidity": 0.2
             }
            },
            "type": "bar"
           }
          ],
          "barpolar": [
           {
            "marker": {
             "line": {
              "color": "rgb(234,234,242)",
              "width": 0.5
             },
             "pattern": {
              "fillmode": "overlay",
              "size": 10,
              "solidity": 0.2
             }
            },
            "type": "barpolar"
           }
          ],
          "carpet": [
           {
            "aaxis": {
             "endlinecolor": "rgb(36,36,36)",
             "gridcolor": "white",
             "linecolor": "white",
             "minorgridcolor": "white",
             "startlinecolor": "rgb(36,36,36)"
            },
            "baxis": {
             "endlinecolor": "rgb(36,36,36)",
             "gridcolor": "white",
             "linecolor": "white",
             "minorgridcolor": "white",
             "startlinecolor": "rgb(36,36,36)"
            },
            "type": "carpet"
           }
          ],
          "choropleth": [
           {
            "colorbar": {
             "outlinewidth": 0,
             "tickcolor": "rgb(36,36,36)",
             "ticklen": 8,
             "ticks": "outside",
             "tickwidth": 2
            },
            "type": "choropleth"
           }
          ],
          "contour": [
           {
            "colorbar": {
             "outlinewidth": 0,
             "tickcolor": "rgb(36,36,36)",
             "ticklen": 8,
             "ticks": "outside",
             "tickwidth": 2
            },
            "colorscale": [
             [
              0,
              "rgb(2,4,25)"
             ],
             [
              0.06274509803921569,
              "rgb(24,15,41)"
             ],
             [
              0.12549019607843137,
              "rgb(47,23,57)"
             ],
             [
              0.18823529411764706,
              "rgb(71,28,72)"
             ],
             [
              0.25098039215686274,
              "rgb(97,30,82)"
             ],
             [
              0.3137254901960784,
              "rgb(123,30,89)"
             ],
             [
              0.3764705882352941,
              "rgb(150,27,91)"
             ],
             [
              0.4392156862745098,
              "rgb(177,22,88)"
             ],
             [
              0.5019607843137255,
              "rgb(203,26,79)"
             ],
             [
              0.5647058823529412,
              "rgb(223,47,67)"
             ],
             [
              0.6274509803921569,
              "rgb(236,76,61)"
             ],
             [
              0.6901960784313725,
              "rgb(242,107,73)"
             ],
             [
              0.7529411764705882,
              "rgb(244,135,95)"
             ],
             [
              0.8156862745098039,
              "rgb(245,162,122)"
             ],
             [
              0.8784313725490196,
              "rgb(246,188,153)"
             ],
             [
              0.9411764705882353,
              "rgb(247,212,187)"
             ],
             [
              1,
              "rgb(250,234,220)"
             ]
            ],
            "type": "contour"
           }
          ],
          "contourcarpet": [
           {
            "colorbar": {
             "outlinewidth": 0,
             "tickcolor": "rgb(36,36,36)",
             "ticklen": 8,
             "ticks": "outside",
             "tickwidth": 2
            },
            "type": "contourcarpet"
           }
          ],
          "heatmap": [
           {
            "colorbar": {
             "outlinewidth": 0,
             "tickcolor": "rgb(36,36,36)",
             "ticklen": 8,
             "ticks": "outside",
             "tickwidth": 2
            },
            "colorscale": [
             [
              0,
              "rgb(2,4,25)"
             ],
             [
              0.06274509803921569,
              "rgb(24,15,41)"
             ],
             [
              0.12549019607843137,
              "rgb(47,23,57)"
             ],
             [
              0.18823529411764706,
              "rgb(71,28,72)"
             ],
             [
              0.25098039215686274,
              "rgb(97,30,82)"
             ],
             [
              0.3137254901960784,
              "rgb(123,30,89)"
             ],
             [
              0.3764705882352941,
              "rgb(150,27,91)"
             ],
             [
              0.4392156862745098,
              "rgb(177,22,88)"
             ],
             [
              0.5019607843137255,
              "rgb(203,26,79)"
             ],
             [
              0.5647058823529412,
              "rgb(223,47,67)"
             ],
             [
              0.6274509803921569,
              "rgb(236,76,61)"
             ],
             [
              0.6901960784313725,
              "rgb(242,107,73)"
             ],
             [
              0.7529411764705882,
              "rgb(244,135,95)"
             ],
             [
              0.8156862745098039,
              "rgb(245,162,122)"
             ],
             [
              0.8784313725490196,
              "rgb(246,188,153)"
             ],
             [
              0.9411764705882353,
              "rgb(247,212,187)"
             ],
             [
              1,
              "rgb(250,234,220)"
             ]
            ],
            "type": "heatmap"
           }
          ],
          "heatmapgl": [
           {
            "colorbar": {
             "outlinewidth": 0,
             "tickcolor": "rgb(36,36,36)",
             "ticklen": 8,
             "ticks": "outside",
             "tickwidth": 2
            },
            "colorscale": [
             [
              0,
              "rgb(2,4,25)"
             ],
             [
              0.06274509803921569,
              "rgb(24,15,41)"
             ],
             [
              0.12549019607843137,
              "rgb(47,23,57)"
             ],
             [
              0.18823529411764706,
              "rgb(71,28,72)"
             ],
             [
              0.25098039215686274,
              "rgb(97,30,82)"
             ],
             [
              0.3137254901960784,
              "rgb(123,30,89)"
             ],
             [
              0.3764705882352941,
              "rgb(150,27,91)"
             ],
             [
              0.4392156862745098,
              "rgb(177,22,88)"
             ],
             [
              0.5019607843137255,
              "rgb(203,26,79)"
             ],
             [
              0.5647058823529412,
              "rgb(223,47,67)"
             ],
             [
              0.6274509803921569,
              "rgb(236,76,61)"
             ],
             [
              0.6901960784313725,
              "rgb(242,107,73)"
             ],
             [
              0.7529411764705882,
              "rgb(244,135,95)"
             ],
             [
              0.8156862745098039,
              "rgb(245,162,122)"
             ],
             [
              0.8784313725490196,
              "rgb(246,188,153)"
             ],
             [
              0.9411764705882353,
              "rgb(247,212,187)"
             ],
             [
              1,
              "rgb(250,234,220)"
             ]
            ],
            "type": "heatmapgl"
           }
          ],
          "histogram": [
           {
            "marker": {
             "pattern": {
              "fillmode": "overlay",
              "size": 10,
              "solidity": 0.2
             }
            },
            "type": "histogram"
           }
          ],
          "histogram2d": [
           {
            "colorbar": {
             "outlinewidth": 0,
             "tickcolor": "rgb(36,36,36)",
             "ticklen": 8,
             "ticks": "outside",
             "tickwidth": 2
            },
            "colorscale": [
             [
              0,
              "rgb(2,4,25)"
             ],
             [
              0.06274509803921569,
              "rgb(24,15,41)"
             ],
             [
              0.12549019607843137,
              "rgb(47,23,57)"
             ],
             [
              0.18823529411764706,
              "rgb(71,28,72)"
             ],
             [
              0.25098039215686274,
              "rgb(97,30,82)"
             ],
             [
              0.3137254901960784,
              "rgb(123,30,89)"
             ],
             [
              0.3764705882352941,
              "rgb(150,27,91)"
             ],
             [
              0.4392156862745098,
              "rgb(177,22,88)"
             ],
             [
              0.5019607843137255,
              "rgb(203,26,79)"
             ],
             [
              0.5647058823529412,
              "rgb(223,47,67)"
             ],
             [
              0.6274509803921569,
              "rgb(236,76,61)"
             ],
             [
              0.6901960784313725,
              "rgb(242,107,73)"
             ],
             [
              0.7529411764705882,
              "rgb(244,135,95)"
             ],
             [
              0.8156862745098039,
              "rgb(245,162,122)"
             ],
             [
              0.8784313725490196,
              "rgb(246,188,153)"
             ],
             [
              0.9411764705882353,
              "rgb(247,212,187)"
             ],
             [
              1,
              "rgb(250,234,220)"
             ]
            ],
            "type": "histogram2d"
           }
          ],
          "histogram2dcontour": [
           {
            "colorbar": {
             "outlinewidth": 0,
             "tickcolor": "rgb(36,36,36)",
             "ticklen": 8,
             "ticks": "outside",
             "tickwidth": 2
            },
            "colorscale": [
             [
              0,
              "rgb(2,4,25)"
             ],
             [
              0.06274509803921569,
              "rgb(24,15,41)"
             ],
             [
              0.12549019607843137,
              "rgb(47,23,57)"
             ],
             [
              0.18823529411764706,
              "rgb(71,28,72)"
             ],
             [
              0.25098039215686274,
              "rgb(97,30,82)"
             ],
             [
              0.3137254901960784,
              "rgb(123,30,89)"
             ],
             [
              0.3764705882352941,
              "rgb(150,27,91)"
             ],
             [
              0.4392156862745098,
              "rgb(177,22,88)"
             ],
             [
              0.5019607843137255,
              "rgb(203,26,79)"
             ],
             [
              0.5647058823529412,
              "rgb(223,47,67)"
             ],
             [
              0.6274509803921569,
              "rgb(236,76,61)"
             ],
             [
              0.6901960784313725,
              "rgb(242,107,73)"
             ],
             [
              0.7529411764705882,
              "rgb(244,135,95)"
             ],
             [
              0.8156862745098039,
              "rgb(245,162,122)"
             ],
             [
              0.8784313725490196,
              "rgb(246,188,153)"
             ],
             [
              0.9411764705882353,
              "rgb(247,212,187)"
             ],
             [
              1,
              "rgb(250,234,220)"
             ]
            ],
            "type": "histogram2dcontour"
           }
          ],
          "mesh3d": [
           {
            "colorbar": {
             "outlinewidth": 0,
             "tickcolor": "rgb(36,36,36)",
             "ticklen": 8,
             "ticks": "outside",
             "tickwidth": 2
            },
            "type": "mesh3d"
           }
          ],
          "parcoords": [
           {
            "line": {
             "colorbar": {
              "outlinewidth": 0,
              "tickcolor": "rgb(36,36,36)",
              "ticklen": 8,
              "ticks": "outside",
              "tickwidth": 2
             }
            },
            "type": "parcoords"
           }
          ],
          "pie": [
           {
            "automargin": true,
            "type": "pie"
           }
          ],
          "scatter": [
           {
            "fillpattern": {
             "fillmode": "overlay",
             "size": 10,
             "solidity": 0.2
            },
            "type": "scatter"
           }
          ],
          "scatter3d": [
           {
            "line": {
             "colorbar": {
              "outlinewidth": 0,
              "tickcolor": "rgb(36,36,36)",
              "ticklen": 8,
              "ticks": "outside",
              "tickwidth": 2
             }
            },
            "marker": {
             "colorbar": {
              "outlinewidth": 0,
              "tickcolor": "rgb(36,36,36)",
              "ticklen": 8,
              "ticks": "outside",
              "tickwidth": 2
             }
            },
            "type": "scatter3d"
           }
          ],
          "scattercarpet": [
           {
            "marker": {
             "colorbar": {
              "outlinewidth": 0,
              "tickcolor": "rgb(36,36,36)",
              "ticklen": 8,
              "ticks": "outside",
              "tickwidth": 2
             }
            },
            "type": "scattercarpet"
           }
          ],
          "scattergeo": [
           {
            "marker": {
             "colorbar": {
              "outlinewidth": 0,
              "tickcolor": "rgb(36,36,36)",
              "ticklen": 8,
              "ticks": "outside",
              "tickwidth": 2
             }
            },
            "type": "scattergeo"
           }
          ],
          "scattergl": [
           {
            "marker": {
             "colorbar": {
              "outlinewidth": 0,
              "tickcolor": "rgb(36,36,36)",
              "ticklen": 8,
              "ticks": "outside",
              "tickwidth": 2
             }
            },
            "type": "scattergl"
           }
          ],
          "scattermapbox": [
           {
            "marker": {
             "colorbar": {
              "outlinewidth": 0,
              "tickcolor": "rgb(36,36,36)",
              "ticklen": 8,
              "ticks": "outside",
              "tickwidth": 2
             }
            },
            "type": "scattermapbox"
           }
          ],
          "scatterpolar": [
           {
            "marker": {
             "colorbar": {
              "outlinewidth": 0,
              "tickcolor": "rgb(36,36,36)",
              "ticklen": 8,
              "ticks": "outside",
              "tickwidth": 2
             }
            },
            "type": "scatterpolar"
           }
          ],
          "scatterpolargl": [
           {
            "marker": {
             "colorbar": {
              "outlinewidth": 0,
              "tickcolor": "rgb(36,36,36)",
              "ticklen": 8,
              "ticks": "outside",
              "tickwidth": 2
             }
            },
            "type": "scatterpolargl"
           }
          ],
          "scatterternary": [
           {
            "marker": {
             "colorbar": {
              "outlinewidth": 0,
              "tickcolor": "rgb(36,36,36)",
              "ticklen": 8,
              "ticks": "outside",
              "tickwidth": 2
             }
            },
            "type": "scatterternary"
           }
          ],
          "surface": [
           {
            "colorbar": {
             "outlinewidth": 0,
             "tickcolor": "rgb(36,36,36)",
             "ticklen": 8,
             "ticks": "outside",
             "tickwidth": 2
            },
            "colorscale": [
             [
              0,
              "rgb(2,4,25)"
             ],
             [
              0.06274509803921569,
              "rgb(24,15,41)"
             ],
             [
              0.12549019607843137,
              "rgb(47,23,57)"
             ],
             [
              0.18823529411764706,
              "rgb(71,28,72)"
             ],
             [
              0.25098039215686274,
              "rgb(97,30,82)"
             ],
             [
              0.3137254901960784,
              "rgb(123,30,89)"
             ],
             [
              0.3764705882352941,
              "rgb(150,27,91)"
             ],
             [
              0.4392156862745098,
              "rgb(177,22,88)"
             ],
             [
              0.5019607843137255,
              "rgb(203,26,79)"
             ],
             [
              0.5647058823529412,
              "rgb(223,47,67)"
             ],
             [
              0.6274509803921569,
              "rgb(236,76,61)"
             ],
             [
              0.6901960784313725,
              "rgb(242,107,73)"
             ],
             [
              0.7529411764705882,
              "rgb(244,135,95)"
             ],
             [
              0.8156862745098039,
              "rgb(245,162,122)"
             ],
             [
              0.8784313725490196,
              "rgb(246,188,153)"
             ],
             [
              0.9411764705882353,
              "rgb(247,212,187)"
             ],
             [
              1,
              "rgb(250,234,220)"
             ]
            ],
            "type": "surface"
           }
          ],
          "table": [
           {
            "cells": {
             "fill": {
              "color": "rgb(231,231,240)"
             },
             "line": {
              "color": "white"
             }
            },
            "header": {
             "fill": {
              "color": "rgb(183,183,191)"
             },
             "line": {
              "color": "white"
             }
            },
            "type": "table"
           }
          ]
         },
         "layout": {
          "annotationdefaults": {
           "arrowcolor": "rgb(67,103,167)",
           "arrowhead": 0,
           "arrowwidth": 1
          },
          "autotypenumbers": "strict",
          "coloraxis": {
           "colorbar": {
            "outlinewidth": 0,
            "tickcolor": "rgb(36,36,36)",
            "ticklen": 8,
            "ticks": "outside",
            "tickwidth": 2
           }
          },
          "colorscale": {
           "sequential": [
            [
             0,
             "rgb(2,4,25)"
            ],
            [
             0.06274509803921569,
             "rgb(24,15,41)"
            ],
            [
             0.12549019607843137,
             "rgb(47,23,57)"
            ],
            [
             0.18823529411764706,
             "rgb(71,28,72)"
            ],
            [
             0.25098039215686274,
             "rgb(97,30,82)"
            ],
            [
             0.3137254901960784,
             "rgb(123,30,89)"
            ],
            [
             0.3764705882352941,
             "rgb(150,27,91)"
            ],
            [
             0.4392156862745098,
             "rgb(177,22,88)"
            ],
            [
             0.5019607843137255,
             "rgb(203,26,79)"
            ],
            [
             0.5647058823529412,
             "rgb(223,47,67)"
            ],
            [
             0.6274509803921569,
             "rgb(236,76,61)"
            ],
            [
             0.6901960784313725,
             "rgb(242,107,73)"
            ],
            [
             0.7529411764705882,
             "rgb(244,135,95)"
            ],
            [
             0.8156862745098039,
             "rgb(245,162,122)"
            ],
            [
             0.8784313725490196,
             "rgb(246,188,153)"
            ],
            [
             0.9411764705882353,
             "rgb(247,212,187)"
            ],
            [
             1,
             "rgb(250,234,220)"
            ]
           ],
           "sequentialminus": [
            [
             0,
             "rgb(2,4,25)"
            ],
            [
             0.06274509803921569,
             "rgb(24,15,41)"
            ],
            [
             0.12549019607843137,
             "rgb(47,23,57)"
            ],
            [
             0.18823529411764706,
             "rgb(71,28,72)"
            ],
            [
             0.25098039215686274,
             "rgb(97,30,82)"
            ],
            [
             0.3137254901960784,
             "rgb(123,30,89)"
            ],
            [
             0.3764705882352941,
             "rgb(150,27,91)"
            ],
            [
             0.4392156862745098,
             "rgb(177,22,88)"
            ],
            [
             0.5019607843137255,
             "rgb(203,26,79)"
            ],
            [
             0.5647058823529412,
             "rgb(223,47,67)"
            ],
            [
             0.6274509803921569,
             "rgb(236,76,61)"
            ],
            [
             0.6901960784313725,
             "rgb(242,107,73)"
            ],
            [
             0.7529411764705882,
             "rgb(244,135,95)"
            ],
            [
             0.8156862745098039,
             "rgb(245,162,122)"
            ],
            [
             0.8784313725490196,
             "rgb(246,188,153)"
            ],
            [
             0.9411764705882353,
             "rgb(247,212,187)"
            ],
            [
             1,
             "rgb(250,234,220)"
            ]
           ]
          },
          "colorway": [
           "rgb(76,114,176)",
           "rgb(221,132,82)",
           "rgb(85,168,104)",
           "rgb(196,78,82)",
           "rgb(129,114,179)",
           "rgb(147,120,96)",
           "rgb(218,139,195)",
           "rgb(140,140,140)",
           "rgb(204,185,116)",
           "rgb(100,181,205)"
          ],
          "font": {
           "color": "rgb(36,36,36)"
          },
          "geo": {
           "bgcolor": "white",
           "lakecolor": "white",
           "landcolor": "rgb(234,234,242)",
           "showlakes": true,
           "showland": true,
           "subunitcolor": "white"
          },
          "hoverlabel": {
           "align": "left"
          },
          "hovermode": "closest",
          "paper_bgcolor": "white",
          "plot_bgcolor": "rgb(234,234,242)",
          "polar": {
           "angularaxis": {
            "gridcolor": "white",
            "linecolor": "white",
            "showgrid": true,
            "tickcolor": "rgb(51,51,51)",
            "ticks": ""
           },
           "bgcolor": "rgb(234,234,242)",
           "radialaxis": {
            "gridcolor": "white",
            "linecolor": "white",
            "showgrid": true,
            "tickcolor": "rgb(51,51,51)",
            "ticks": ""
           }
          },
          "scene": {
           "xaxis": {
            "backgroundcolor": "rgb(234,234,242)",
            "gridcolor": "white",
            "gridwidth": 2,
            "linecolor": "white",
            "showbackground": true,
            "showgrid": true,
            "tickcolor": "rgb(51,51,51)",
            "ticks": "",
            "zerolinecolor": "white"
           },
           "yaxis": {
            "backgroundcolor": "rgb(234,234,242)",
            "gridcolor": "white",
            "gridwidth": 2,
            "linecolor": "white",
            "showbackground": true,
            "showgrid": true,
            "tickcolor": "rgb(51,51,51)",
            "ticks": "",
            "zerolinecolor": "white"
           },
           "zaxis": {
            "backgroundcolor": "rgb(234,234,242)",
            "gridcolor": "white",
            "gridwidth": 2,
            "linecolor": "white",
            "showbackground": true,
            "showgrid": true,
            "tickcolor": "rgb(51,51,51)",
            "ticks": "",
            "zerolinecolor": "white"
           }
          },
          "shapedefaults": {
           "fillcolor": "rgb(67,103,167)",
           "line": {
            "width": 0
           },
           "opacity": 0.5
          },
          "ternary": {
           "aaxis": {
            "gridcolor": "white",
            "linecolor": "white",
            "showgrid": true,
            "tickcolor": "rgb(51,51,51)",
            "ticks": ""
           },
           "baxis": {
            "gridcolor": "white",
            "linecolor": "white",
            "showgrid": true,
            "tickcolor": "rgb(51,51,51)",
            "ticks": ""
           },
           "bgcolor": "rgb(234,234,242)",
           "caxis": {
            "gridcolor": "white",
            "linecolor": "white",
            "showgrid": true,
            "tickcolor": "rgb(51,51,51)",
            "ticks": ""
           }
          },
          "xaxis": {
           "automargin": true,
           "gridcolor": "white",
           "linecolor": "white",
           "showgrid": true,
           "tickcolor": "rgb(51,51,51)",
           "ticks": "",
           "title": {
            "standoff": 15
           },
           "zerolinecolor": "white"
          },
          "yaxis": {
           "automargin": true,
           "gridcolor": "white",
           "linecolor": "white",
           "showgrid": true,
           "tickcolor": "rgb(51,51,51)",
           "ticks": "",
           "title": {
            "standoff": 15
           },
           "zerolinecolor": "white"
          }
         }
        },
        "title": {
         "text": "THE T-DISTRIBUTION"
        }
       }
      }
     },
     "metadata": {},
     "output_type": "display_data"
    }
   ],
   "source": [
    "## thee values of the distribution  \n",
    "t_xvals = np.linspace(-3,3,200)\n",
    "## the pdf  \n",
    "t_dist_pdf = stats.t.pdf(t_xvals , 198)\n",
    "## plot the pdf  \n",
    "t_dist_fig = go.Figure()\n",
    "## adding the pdf now  \n",
    "t_dist_fig.add_trace(  \n",
    "    go.Scatter( \n",
    "        x = t_xvals ,  \n",
    "        y=t_dist_pdf ,  \n",
    "        name = 'PDF',  \n",
    "        mode='lines'\n",
    "\n",
    "    )\n",
    ")\n",
    "t_dist_fig.update_layout(title='THE T-DISTRIBUTION')"
   ]
  },
  {
   "cell_type": "markdown",
   "metadata": {},
   "source": [
    "`Calculating the T-statistic`\n",
    "* We shall use this formula to calculate the t-statistic\n",
    "  \n",
    "- $t = \\frac{\\Delta \\bar{X}}{\\sqrt{\\frac{s_1^2}{n_1} + \\frac{s_2^2}{n_2}}}$\n",
    "\n",
    "\n"
   ]
  },
  {
   "cell_type": "code",
   "execution_count": 10,
   "metadata": {},
   "outputs": [
    {
     "data": {
      "text/plain": [
       "-2.4225046120579825"
      ]
     },
     "execution_count": 10,
     "metadata": {},
     "output_type": "execute_result"
    }
   ],
   "source": [
    "## to calculate the t-stat we use a formula   \n",
    "t_stat = (Placebo.mean() - New_Intervention.mean())/(np.sqrt((Placebo.var()/100 + New_Intervention.var()/100)))\n",
    "t_stat "
   ]
  },
  {
   "cell_type": "code",
   "execution_count": 11,
   "metadata": {},
   "outputs": [
    {
     "data": {
      "application/vnd.plotly.v1+json": {
       "config": {
        "plotlyServerURL": "https://plot.ly"
       },
       "data": [
        {
         "mode": "lines",
         "name": "PDF",
         "type": "scatter",
         "x": [
          -3,
          -2.969849246231156,
          -2.9396984924623117,
          -2.909547738693467,
          -2.879396984924623,
          -2.849246231155779,
          -2.819095477386935,
          -2.7889447236180906,
          -2.758793969849246,
          -2.728643216080402,
          -2.698492462311558,
          -2.6683417085427137,
          -2.6381909547738696,
          -2.608040201005025,
          -2.577889447236181,
          -2.5477386934673367,
          -2.5175879396984926,
          -2.4874371859296485,
          -2.457286432160804,
          -2.4271356783919598,
          -2.3969849246231156,
          -2.3668341708542715,
          -2.3366834170854274,
          -2.306532663316583,
          -2.2763819095477387,
          -2.2462311557788945,
          -2.2160804020100504,
          -2.1859296482412063,
          -2.1557788944723617,
          -2.1256281407035176,
          -2.0954773869346734,
          -2.0653266331658293,
          -2.035175879396985,
          -2.0050251256281406,
          -1.9748743718592965,
          -1.9447236180904524,
          -1.914572864321608,
          -1.8844221105527639,
          -1.8542713567839197,
          -1.8241206030150754,
          -1.7939698492462313,
          -1.763819095477387,
          -1.7336683417085428,
          -1.7035175879396987,
          -1.6733668341708543,
          -1.6432160804020102,
          -1.6130653266331658,
          -1.5829145728643217,
          -1.5527638190954773,
          -1.5226130653266332,
          -1.492462311557789,
          -1.4623115577889447,
          -1.4321608040201006,
          -1.4020100502512562,
          -1.3718592964824121,
          -1.341708542713568,
          -1.3115577889447236,
          -1.2814070351758795,
          -1.2512562814070352,
          -1.221105527638191,
          -1.190954773869347,
          -1.1608040201005025,
          -1.1306532663316584,
          -1.100502512562814,
          -1.07035175879397,
          -1.0402010050251258,
          -1.0100502512562815,
          -0.9798994974874371,
          -0.949748743718593,
          -0.9195979899497488,
          -0.8894472361809047,
          -0.8592964824120606,
          -0.829145728643216,
          -0.7989949748743719,
          -0.7688442211055277,
          -0.7386934673366836,
          -0.7085427135678395,
          -0.6783919597989949,
          -0.6482412060301508,
          -0.6180904522613067,
          -0.5879396984924625,
          -0.5577889447236184,
          -0.5276381909547738,
          -0.4974874371859297,
          -0.46733668341708556,
          -0.43718592964824143,
          -0.4070351758793973,
          -0.37688442211055273,
          -0.3467336683417086,
          -0.31658291457286447,
          -0.28643216080402034,
          -0.2562814070351762,
          -0.22613065326633164,
          -0.1959798994974875,
          -0.16582914572864338,
          -0.13567839195979925,
          -0.10552763819095468,
          -0.07537688442211055,
          -0.045226130653266416,
          -0.015075376884422287,
          0.015075376884421843,
          0.045226130653266416,
          0.07537688442211055,
          0.10552763819095468,
          0.1356783919597988,
          0.16582914572864293,
          0.1959798994974875,
          0.22613065326633164,
          0.25628140703517577,
          0.2864321608040199,
          0.316582914572864,
          0.3467336683417086,
          0.37688442211055273,
          0.40703517587939686,
          0.437185929648241,
          0.4673366834170851,
          0.4974874371859297,
          0.5276381909547738,
          0.557788944723618,
          0.5879396984924621,
          0.6180904522613062,
          0.6482412060301508,
          0.6783919597989949,
          0.708542713567839,
          0.7386934673366832,
          0.7688442211055273,
          0.7989949748743719,
          0.829145728643216,
          0.8592964824120601,
          0.8894472361809043,
          0.9195979899497484,
          0.949748743718593,
          0.9798994974874371,
          1.0100502512562812,
          1.0402010050251258,
          1.0703517587939695,
          1.100502512562814,
          1.1306532663316577,
          1.1608040201005023,
          1.190954773869347,
          1.2211055276381906,
          1.2512562814070352,
          1.2814070351758788,
          1.3115577889447234,
          1.341708542713568,
          1.3718592964824117,
          1.4020100502512562,
          1.4321608040201,
          1.4623115577889445,
          1.492462311557789,
          1.5226130653266328,
          1.5527638190954773,
          1.582914572864321,
          1.6130653266331656,
          1.6432160804020102,
          1.6733668341708539,
          1.7035175879396984,
          1.7336683417085421,
          1.7638190954773867,
          1.7939698492462313,
          1.824120603015075,
          1.8542713567839195,
          1.8844221105527632,
          1.9145728643216078,
          1.9447236180904524,
          1.974874371859296,
          2.0050251256281406,
          2.0351758793969843,
          2.065326633165829,
          2.0954773869346734,
          2.125628140703517,
          2.1557788944723617,
          2.1859296482412054,
          2.21608040201005,
          2.2462311557788945,
          2.2763819095477382,
          2.306532663316583,
          2.3366834170854265,
          2.366834170854271,
          2.3969849246231156,
          2.4271356783919593,
          2.457286432160804,
          2.4874371859296476,
          2.517587939698492,
          2.5477386934673367,
          2.5778894472361804,
          2.608040201005025,
          2.6381909547738687,
          2.6683417085427132,
          2.698492462311558,
          2.7286432160804015,
          2.758793969849246,
          2.7889447236180906,
          2.8190954773869343,
          2.849246231155779,
          2.8793969849246226,
          2.909547738693467,
          2.9396984924623117,
          2.9698492462311554,
          3
         ],
         "y": [
          0.004780780171998872,
          0.005213028336169956,
          0.005679811489990097,
          0.006183428684554951,
          0.0067262881485123365,
          0.00731090842434121,
          0.007939919094980798,
          0.008616061058503651,
          0.009342186307547597,
          0.010121257169479241,
          0.010956344962785518,
          0.01185062802500631,
          0.012807389067662022,
          0.013830011814121789,
          0.01492197687722839,
          0.016086856834772827,
          0.017328310462618218,
          0.018650076087433375,
          0.02005596402363175,
          0.021549848062239262,
          0.02313565598304951,
          0.024817359065578425,
          0.026598960579010365,
          0.028484483236535636,
          0.030477955605213235,
          0.03258339746874709,
          0.03480480414732247,
          0.03714612978589608,
          0.039611269630042384,
          0.042204041316596615,
          0.04492816521486819,
          0.04778724386307644,
          0.05078474055383727,
          0.0539239571319452,
          0.05720801107728211,
          0.060639811955380124,
          0.06422203732788145,
          0.06795710822480586,
          0.07184716429005693,
          0.07589403872088397,
          0.08009923313097629,
          0.08446389247539386,
          0.08898878018353706,
          0.09367425365372865,
          0.09852024026961138,
          0.10352621410436758,
          0.10869117348362889,
          0.11401361958177793,
          0.11949153622905571,
          0.12512237110838664,
          0.1309030185210504,
          0.136829803899176,
          0.14289847024046934,
          0.14910416663653797,
          0.15544143906062063,
          0.16190422357343018,
          0.16848584209716175,
          0.1751790008975116,
          0.18197579190180008,
          0.18886769696803415,
          0.195845595205027,
          0.20289977342757284,
          0.21001993981323663,
          0.21719524080866176,
          0.22441428131352173,
          0.23166514814948935,
          0.238935436799991,
          0.2462122813842271,
          0.2534823878061258,
          0.26073206999574233,
          0.26794728913730514,
          0.27511369575484335,
          0.28221667450330085,
          0.2892413914904692,
          0.2961728439331535,
          0.30299591192993547,
          0.3096954121129223,
          0.31625615292217174,
          0.3226629912292527,
          0.3289008900208336,
          0.33495497683944986,
          0.3408106026668583,
          0.3464534009257867,
          0.3518693462685478,
          0.3570448128160389,
          0.3619666315081563,
          0.3666221462267102,
          0.3709992683545512,
          0.3750865294398523,
          0.37887313164231395,
          0.3823489956484524,
          0.38550480575603224,
          0.38833205184303915,
          0.39082306795425165,
          0.39297106725833275,
          0.3947701731502779,
          0.39621544629785255,
          0.39730290745613817,
          0.3980295559012796,
          0.39839338336275554,
          0.39839338336275554,
          0.3980295559012796,
          0.39730290745613817,
          0.39621544629785255,
          0.3947701731502779,
          0.39297106725833275,
          0.39082306795425165,
          0.38833205184303915,
          0.3855048057560323,
          0.3823489956484525,
          0.378873131642314,
          0.3750865294398523,
          0.3709992683545512,
          0.3666221462267103,
          0.36196663150815633,
          0.357044812816039,
          0.3518693462685478,
          0.3464534009257867,
          0.3408106026668584,
          0.33495497683944997,
          0.3289008900208338,
          0.3226629912292527,
          0.31625615292217174,
          0.3096954121129224,
          0.3029959119299355,
          0.29617284393315363,
          0.2892413914904692,
          0.28221667450330085,
          0.2751136957548434,
          0.26794728913730526,
          0.26073206999574244,
          0.2534823878061258,
          0.2462122813842271,
          0.23893543679999107,
          0.23166514814948935,
          0.22441428131352184,
          0.21719524080866176,
          0.21001993981323674,
          0.20289977342757293,
          0.195845595205027,
          0.18886769696803424,
          0.18197579190180008,
          0.17517900089751176,
          0.16848584209716178,
          0.16190422357343018,
          0.15544143906062075,
          0.14910416663653797,
          0.14289847024046948,
          0.13682980389917604,
          0.1309030185210504,
          0.12512237110838675,
          0.11949153622905571,
          0.11401361958177814,
          0.10869117348362893,
          0.10352621410436758,
          0.09852024026961148,
          0.09367425365372865,
          0.08898878018353715,
          0.08446389247539389,
          0.08009923313097629,
          0.07589403872088404,
          0.071847164290057,
          0.06795710822480595,
          0.06422203732788145,
          0.060639811955380124,
          0.057208011077282156,
          0.0539239571319452,
          0.05078474055383734,
          0.04778724386307648,
          0.04492816521486819,
          0.042204041316596635,
          0.039611269630042384,
          0.03714612978589616,
          0.034804804147322496,
          0.03258339746874709,
          0.030477955605213262,
          0.028484483236535636,
          0.026598960579010414,
          0.024817359065578457,
          0.02313565598304951,
          0.02154984806223929,
          0.02005596402363175,
          0.018650076087433416,
          0.01732831046261825,
          0.016086856834772827,
          0.014921976877228403,
          0.013830011814121789,
          0.012807389067662057,
          0.011850628025006332,
          0.010956344962785518,
          0.010121257169479252,
          0.009342186307547597,
          0.008616061058503651,
          0.007939919094980812,
          0.00731090842434121,
          0.006726288148512343,
          0.006183428684554951,
          0.005679811489990097,
          0.00521302833616997,
          0.004780780171998872
         ]
        },
        {
         "mode": "lines",
         "name": "Placebo - Interventtion",
         "type": "scatter",
         "x": [
          -2.4225046120579825,
          -2.4225046120579825
         ],
         "y": [
          0,
          0.4
         ]
        }
       ],
       "layout": {
        "template": {
         "data": {
          "bar": [
           {
            "error_x": {
             "color": "rgb(36,36,36)"
            },
            "error_y": {
             "color": "rgb(36,36,36)"
            },
            "marker": {
             "line": {
              "color": "rgb(234,234,242)",
              "width": 0.5
             },
             "pattern": {
              "fillmode": "overlay",
              "size": 10,
              "solidity": 0.2
             }
            },
            "type": "bar"
           }
          ],
          "barpolar": [
           {
            "marker": {
             "line": {
              "color": "rgb(234,234,242)",
              "width": 0.5
             },
             "pattern": {
              "fillmode": "overlay",
              "size": 10,
              "solidity": 0.2
             }
            },
            "type": "barpolar"
           }
          ],
          "carpet": [
           {
            "aaxis": {
             "endlinecolor": "rgb(36,36,36)",
             "gridcolor": "white",
             "linecolor": "white",
             "minorgridcolor": "white",
             "startlinecolor": "rgb(36,36,36)"
            },
            "baxis": {
             "endlinecolor": "rgb(36,36,36)",
             "gridcolor": "white",
             "linecolor": "white",
             "minorgridcolor": "white",
             "startlinecolor": "rgb(36,36,36)"
            },
            "type": "carpet"
           }
          ],
          "choropleth": [
           {
            "colorbar": {
             "outlinewidth": 0,
             "tickcolor": "rgb(36,36,36)",
             "ticklen": 8,
             "ticks": "outside",
             "tickwidth": 2
            },
            "type": "choropleth"
           }
          ],
          "contour": [
           {
            "colorbar": {
             "outlinewidth": 0,
             "tickcolor": "rgb(36,36,36)",
             "ticklen": 8,
             "ticks": "outside",
             "tickwidth": 2
            },
            "colorscale": [
             [
              0,
              "rgb(2,4,25)"
             ],
             [
              0.06274509803921569,
              "rgb(24,15,41)"
             ],
             [
              0.12549019607843137,
              "rgb(47,23,57)"
             ],
             [
              0.18823529411764706,
              "rgb(71,28,72)"
             ],
             [
              0.25098039215686274,
              "rgb(97,30,82)"
             ],
             [
              0.3137254901960784,
              "rgb(123,30,89)"
             ],
             [
              0.3764705882352941,
              "rgb(150,27,91)"
             ],
             [
              0.4392156862745098,
              "rgb(177,22,88)"
             ],
             [
              0.5019607843137255,
              "rgb(203,26,79)"
             ],
             [
              0.5647058823529412,
              "rgb(223,47,67)"
             ],
             [
              0.6274509803921569,
              "rgb(236,76,61)"
             ],
             [
              0.6901960784313725,
              "rgb(242,107,73)"
             ],
             [
              0.7529411764705882,
              "rgb(244,135,95)"
             ],
             [
              0.8156862745098039,
              "rgb(245,162,122)"
             ],
             [
              0.8784313725490196,
              "rgb(246,188,153)"
             ],
             [
              0.9411764705882353,
              "rgb(247,212,187)"
             ],
             [
              1,
              "rgb(250,234,220)"
             ]
            ],
            "type": "contour"
           }
          ],
          "contourcarpet": [
           {
            "colorbar": {
             "outlinewidth": 0,
             "tickcolor": "rgb(36,36,36)",
             "ticklen": 8,
             "ticks": "outside",
             "tickwidth": 2
            },
            "type": "contourcarpet"
           }
          ],
          "heatmap": [
           {
            "colorbar": {
             "outlinewidth": 0,
             "tickcolor": "rgb(36,36,36)",
             "ticklen": 8,
             "ticks": "outside",
             "tickwidth": 2
            },
            "colorscale": [
             [
              0,
              "rgb(2,4,25)"
             ],
             [
              0.06274509803921569,
              "rgb(24,15,41)"
             ],
             [
              0.12549019607843137,
              "rgb(47,23,57)"
             ],
             [
              0.18823529411764706,
              "rgb(71,28,72)"
             ],
             [
              0.25098039215686274,
              "rgb(97,30,82)"
             ],
             [
              0.3137254901960784,
              "rgb(123,30,89)"
             ],
             [
              0.3764705882352941,
              "rgb(150,27,91)"
             ],
             [
              0.4392156862745098,
              "rgb(177,22,88)"
             ],
             [
              0.5019607843137255,
              "rgb(203,26,79)"
             ],
             [
              0.5647058823529412,
              "rgb(223,47,67)"
             ],
             [
              0.6274509803921569,
              "rgb(236,76,61)"
             ],
             [
              0.6901960784313725,
              "rgb(242,107,73)"
             ],
             [
              0.7529411764705882,
              "rgb(244,135,95)"
             ],
             [
              0.8156862745098039,
              "rgb(245,162,122)"
             ],
             [
              0.8784313725490196,
              "rgb(246,188,153)"
             ],
             [
              0.9411764705882353,
              "rgb(247,212,187)"
             ],
             [
              1,
              "rgb(250,234,220)"
             ]
            ],
            "type": "heatmap"
           }
          ],
          "heatmapgl": [
           {
            "colorbar": {
             "outlinewidth": 0,
             "tickcolor": "rgb(36,36,36)",
             "ticklen": 8,
             "ticks": "outside",
             "tickwidth": 2
            },
            "colorscale": [
             [
              0,
              "rgb(2,4,25)"
             ],
             [
              0.06274509803921569,
              "rgb(24,15,41)"
             ],
             [
              0.12549019607843137,
              "rgb(47,23,57)"
             ],
             [
              0.18823529411764706,
              "rgb(71,28,72)"
             ],
             [
              0.25098039215686274,
              "rgb(97,30,82)"
             ],
             [
              0.3137254901960784,
              "rgb(123,30,89)"
             ],
             [
              0.3764705882352941,
              "rgb(150,27,91)"
             ],
             [
              0.4392156862745098,
              "rgb(177,22,88)"
             ],
             [
              0.5019607843137255,
              "rgb(203,26,79)"
             ],
             [
              0.5647058823529412,
              "rgb(223,47,67)"
             ],
             [
              0.6274509803921569,
              "rgb(236,76,61)"
             ],
             [
              0.6901960784313725,
              "rgb(242,107,73)"
             ],
             [
              0.7529411764705882,
              "rgb(244,135,95)"
             ],
             [
              0.8156862745098039,
              "rgb(245,162,122)"
             ],
             [
              0.8784313725490196,
              "rgb(246,188,153)"
             ],
             [
              0.9411764705882353,
              "rgb(247,212,187)"
             ],
             [
              1,
              "rgb(250,234,220)"
             ]
            ],
            "type": "heatmapgl"
           }
          ],
          "histogram": [
           {
            "marker": {
             "pattern": {
              "fillmode": "overlay",
              "size": 10,
              "solidity": 0.2
             }
            },
            "type": "histogram"
           }
          ],
          "histogram2d": [
           {
            "colorbar": {
             "outlinewidth": 0,
             "tickcolor": "rgb(36,36,36)",
             "ticklen": 8,
             "ticks": "outside",
             "tickwidth": 2
            },
            "colorscale": [
             [
              0,
              "rgb(2,4,25)"
             ],
             [
              0.06274509803921569,
              "rgb(24,15,41)"
             ],
             [
              0.12549019607843137,
              "rgb(47,23,57)"
             ],
             [
              0.18823529411764706,
              "rgb(71,28,72)"
             ],
             [
              0.25098039215686274,
              "rgb(97,30,82)"
             ],
             [
              0.3137254901960784,
              "rgb(123,30,89)"
             ],
             [
              0.3764705882352941,
              "rgb(150,27,91)"
             ],
             [
              0.4392156862745098,
              "rgb(177,22,88)"
             ],
             [
              0.5019607843137255,
              "rgb(203,26,79)"
             ],
             [
              0.5647058823529412,
              "rgb(223,47,67)"
             ],
             [
              0.6274509803921569,
              "rgb(236,76,61)"
             ],
             [
              0.6901960784313725,
              "rgb(242,107,73)"
             ],
             [
              0.7529411764705882,
              "rgb(244,135,95)"
             ],
             [
              0.8156862745098039,
              "rgb(245,162,122)"
             ],
             [
              0.8784313725490196,
              "rgb(246,188,153)"
             ],
             [
              0.9411764705882353,
              "rgb(247,212,187)"
             ],
             [
              1,
              "rgb(250,234,220)"
             ]
            ],
            "type": "histogram2d"
           }
          ],
          "histogram2dcontour": [
           {
            "colorbar": {
             "outlinewidth": 0,
             "tickcolor": "rgb(36,36,36)",
             "ticklen": 8,
             "ticks": "outside",
             "tickwidth": 2
            },
            "colorscale": [
             [
              0,
              "rgb(2,4,25)"
             ],
             [
              0.06274509803921569,
              "rgb(24,15,41)"
             ],
             [
              0.12549019607843137,
              "rgb(47,23,57)"
             ],
             [
              0.18823529411764706,
              "rgb(71,28,72)"
             ],
             [
              0.25098039215686274,
              "rgb(97,30,82)"
             ],
             [
              0.3137254901960784,
              "rgb(123,30,89)"
             ],
             [
              0.3764705882352941,
              "rgb(150,27,91)"
             ],
             [
              0.4392156862745098,
              "rgb(177,22,88)"
             ],
             [
              0.5019607843137255,
              "rgb(203,26,79)"
             ],
             [
              0.5647058823529412,
              "rgb(223,47,67)"
             ],
             [
              0.6274509803921569,
              "rgb(236,76,61)"
             ],
             [
              0.6901960784313725,
              "rgb(242,107,73)"
             ],
             [
              0.7529411764705882,
              "rgb(244,135,95)"
             ],
             [
              0.8156862745098039,
              "rgb(245,162,122)"
             ],
             [
              0.8784313725490196,
              "rgb(246,188,153)"
             ],
             [
              0.9411764705882353,
              "rgb(247,212,187)"
             ],
             [
              1,
              "rgb(250,234,220)"
             ]
            ],
            "type": "histogram2dcontour"
           }
          ],
          "mesh3d": [
           {
            "colorbar": {
             "outlinewidth": 0,
             "tickcolor": "rgb(36,36,36)",
             "ticklen": 8,
             "ticks": "outside",
             "tickwidth": 2
            },
            "type": "mesh3d"
           }
          ],
          "parcoords": [
           {
            "line": {
             "colorbar": {
              "outlinewidth": 0,
              "tickcolor": "rgb(36,36,36)",
              "ticklen": 8,
              "ticks": "outside",
              "tickwidth": 2
             }
            },
            "type": "parcoords"
           }
          ],
          "pie": [
           {
            "automargin": true,
            "type": "pie"
           }
          ],
          "scatter": [
           {
            "fillpattern": {
             "fillmode": "overlay",
             "size": 10,
             "solidity": 0.2
            },
            "type": "scatter"
           }
          ],
          "scatter3d": [
           {
            "line": {
             "colorbar": {
              "outlinewidth": 0,
              "tickcolor": "rgb(36,36,36)",
              "ticklen": 8,
              "ticks": "outside",
              "tickwidth": 2
             }
            },
            "marker": {
             "colorbar": {
              "outlinewidth": 0,
              "tickcolor": "rgb(36,36,36)",
              "ticklen": 8,
              "ticks": "outside",
              "tickwidth": 2
             }
            },
            "type": "scatter3d"
           }
          ],
          "scattercarpet": [
           {
            "marker": {
             "colorbar": {
              "outlinewidth": 0,
              "tickcolor": "rgb(36,36,36)",
              "ticklen": 8,
              "ticks": "outside",
              "tickwidth": 2
             }
            },
            "type": "scattercarpet"
           }
          ],
          "scattergeo": [
           {
            "marker": {
             "colorbar": {
              "outlinewidth": 0,
              "tickcolor": "rgb(36,36,36)",
              "ticklen": 8,
              "ticks": "outside",
              "tickwidth": 2
             }
            },
            "type": "scattergeo"
           }
          ],
          "scattergl": [
           {
            "marker": {
             "colorbar": {
              "outlinewidth": 0,
              "tickcolor": "rgb(36,36,36)",
              "ticklen": 8,
              "ticks": "outside",
              "tickwidth": 2
             }
            },
            "type": "scattergl"
           }
          ],
          "scattermapbox": [
           {
            "marker": {
             "colorbar": {
              "outlinewidth": 0,
              "tickcolor": "rgb(36,36,36)",
              "ticklen": 8,
              "ticks": "outside",
              "tickwidth": 2
             }
            },
            "type": "scattermapbox"
           }
          ],
          "scatterpolar": [
           {
            "marker": {
             "colorbar": {
              "outlinewidth": 0,
              "tickcolor": "rgb(36,36,36)",
              "ticklen": 8,
              "ticks": "outside",
              "tickwidth": 2
             }
            },
            "type": "scatterpolar"
           }
          ],
          "scatterpolargl": [
           {
            "marker": {
             "colorbar": {
              "outlinewidth": 0,
              "tickcolor": "rgb(36,36,36)",
              "ticklen": 8,
              "ticks": "outside",
              "tickwidth": 2
             }
            },
            "type": "scatterpolargl"
           }
          ],
          "scatterternary": [
           {
            "marker": {
             "colorbar": {
              "outlinewidth": 0,
              "tickcolor": "rgb(36,36,36)",
              "ticklen": 8,
              "ticks": "outside",
              "tickwidth": 2
             }
            },
            "type": "scatterternary"
           }
          ],
          "surface": [
           {
            "colorbar": {
             "outlinewidth": 0,
             "tickcolor": "rgb(36,36,36)",
             "ticklen": 8,
             "ticks": "outside",
             "tickwidth": 2
            },
            "colorscale": [
             [
              0,
              "rgb(2,4,25)"
             ],
             [
              0.06274509803921569,
              "rgb(24,15,41)"
             ],
             [
              0.12549019607843137,
              "rgb(47,23,57)"
             ],
             [
              0.18823529411764706,
              "rgb(71,28,72)"
             ],
             [
              0.25098039215686274,
              "rgb(97,30,82)"
             ],
             [
              0.3137254901960784,
              "rgb(123,30,89)"
             ],
             [
              0.3764705882352941,
              "rgb(150,27,91)"
             ],
             [
              0.4392156862745098,
              "rgb(177,22,88)"
             ],
             [
              0.5019607843137255,
              "rgb(203,26,79)"
             ],
             [
              0.5647058823529412,
              "rgb(223,47,67)"
             ],
             [
              0.6274509803921569,
              "rgb(236,76,61)"
             ],
             [
              0.6901960784313725,
              "rgb(242,107,73)"
             ],
             [
              0.7529411764705882,
              "rgb(244,135,95)"
             ],
             [
              0.8156862745098039,
              "rgb(245,162,122)"
             ],
             [
              0.8784313725490196,
              "rgb(246,188,153)"
             ],
             [
              0.9411764705882353,
              "rgb(247,212,187)"
             ],
             [
              1,
              "rgb(250,234,220)"
             ]
            ],
            "type": "surface"
           }
          ],
          "table": [
           {
            "cells": {
             "fill": {
              "color": "rgb(231,231,240)"
             },
             "line": {
              "color": "white"
             }
            },
            "header": {
             "fill": {
              "color": "rgb(183,183,191)"
             },
             "line": {
              "color": "white"
             }
            },
            "type": "table"
           }
          ]
         },
         "layout": {
          "annotationdefaults": {
           "arrowcolor": "rgb(67,103,167)",
           "arrowhead": 0,
           "arrowwidth": 1
          },
          "autotypenumbers": "strict",
          "coloraxis": {
           "colorbar": {
            "outlinewidth": 0,
            "tickcolor": "rgb(36,36,36)",
            "ticklen": 8,
            "ticks": "outside",
            "tickwidth": 2
           }
          },
          "colorscale": {
           "sequential": [
            [
             0,
             "rgb(2,4,25)"
            ],
            [
             0.06274509803921569,
             "rgb(24,15,41)"
            ],
            [
             0.12549019607843137,
             "rgb(47,23,57)"
            ],
            [
             0.18823529411764706,
             "rgb(71,28,72)"
            ],
            [
             0.25098039215686274,
             "rgb(97,30,82)"
            ],
            [
             0.3137254901960784,
             "rgb(123,30,89)"
            ],
            [
             0.3764705882352941,
             "rgb(150,27,91)"
            ],
            [
             0.4392156862745098,
             "rgb(177,22,88)"
            ],
            [
             0.5019607843137255,
             "rgb(203,26,79)"
            ],
            [
             0.5647058823529412,
             "rgb(223,47,67)"
            ],
            [
             0.6274509803921569,
             "rgb(236,76,61)"
            ],
            [
             0.6901960784313725,
             "rgb(242,107,73)"
            ],
            [
             0.7529411764705882,
             "rgb(244,135,95)"
            ],
            [
             0.8156862745098039,
             "rgb(245,162,122)"
            ],
            [
             0.8784313725490196,
             "rgb(246,188,153)"
            ],
            [
             0.9411764705882353,
             "rgb(247,212,187)"
            ],
            [
             1,
             "rgb(250,234,220)"
            ]
           ],
           "sequentialminus": [
            [
             0,
             "rgb(2,4,25)"
            ],
            [
             0.06274509803921569,
             "rgb(24,15,41)"
            ],
            [
             0.12549019607843137,
             "rgb(47,23,57)"
            ],
            [
             0.18823529411764706,
             "rgb(71,28,72)"
            ],
            [
             0.25098039215686274,
             "rgb(97,30,82)"
            ],
            [
             0.3137254901960784,
             "rgb(123,30,89)"
            ],
            [
             0.3764705882352941,
             "rgb(150,27,91)"
            ],
            [
             0.4392156862745098,
             "rgb(177,22,88)"
            ],
            [
             0.5019607843137255,
             "rgb(203,26,79)"
            ],
            [
             0.5647058823529412,
             "rgb(223,47,67)"
            ],
            [
             0.6274509803921569,
             "rgb(236,76,61)"
            ],
            [
             0.6901960784313725,
             "rgb(242,107,73)"
            ],
            [
             0.7529411764705882,
             "rgb(244,135,95)"
            ],
            [
             0.8156862745098039,
             "rgb(245,162,122)"
            ],
            [
             0.8784313725490196,
             "rgb(246,188,153)"
            ],
            [
             0.9411764705882353,
             "rgb(247,212,187)"
            ],
            [
             1,
             "rgb(250,234,220)"
            ]
           ]
          },
          "colorway": [
           "rgb(76,114,176)",
           "rgb(221,132,82)",
           "rgb(85,168,104)",
           "rgb(196,78,82)",
           "rgb(129,114,179)",
           "rgb(147,120,96)",
           "rgb(218,139,195)",
           "rgb(140,140,140)",
           "rgb(204,185,116)",
           "rgb(100,181,205)"
          ],
          "font": {
           "color": "rgb(36,36,36)"
          },
          "geo": {
           "bgcolor": "white",
           "lakecolor": "white",
           "landcolor": "rgb(234,234,242)",
           "showlakes": true,
           "showland": true,
           "subunitcolor": "white"
          },
          "hoverlabel": {
           "align": "left"
          },
          "hovermode": "closest",
          "paper_bgcolor": "white",
          "plot_bgcolor": "rgb(234,234,242)",
          "polar": {
           "angularaxis": {
            "gridcolor": "white",
            "linecolor": "white",
            "showgrid": true,
            "tickcolor": "rgb(51,51,51)",
            "ticks": ""
           },
           "bgcolor": "rgb(234,234,242)",
           "radialaxis": {
            "gridcolor": "white",
            "linecolor": "white",
            "showgrid": true,
            "tickcolor": "rgb(51,51,51)",
            "ticks": ""
           }
          },
          "scene": {
           "xaxis": {
            "backgroundcolor": "rgb(234,234,242)",
            "gridcolor": "white",
            "gridwidth": 2,
            "linecolor": "white",
            "showbackground": true,
            "showgrid": true,
            "tickcolor": "rgb(51,51,51)",
            "ticks": "",
            "zerolinecolor": "white"
           },
           "yaxis": {
            "backgroundcolor": "rgb(234,234,242)",
            "gridcolor": "white",
            "gridwidth": 2,
            "linecolor": "white",
            "showbackground": true,
            "showgrid": true,
            "tickcolor": "rgb(51,51,51)",
            "ticks": "",
            "zerolinecolor": "white"
           },
           "zaxis": {
            "backgroundcolor": "rgb(234,234,242)",
            "gridcolor": "white",
            "gridwidth": 2,
            "linecolor": "white",
            "showbackground": true,
            "showgrid": true,
            "tickcolor": "rgb(51,51,51)",
            "ticks": "",
            "zerolinecolor": "white"
           }
          },
          "shapedefaults": {
           "fillcolor": "rgb(67,103,167)",
           "line": {
            "width": 0
           },
           "opacity": 0.5
          },
          "ternary": {
           "aaxis": {
            "gridcolor": "white",
            "linecolor": "white",
            "showgrid": true,
            "tickcolor": "rgb(51,51,51)",
            "ticks": ""
           },
           "baxis": {
            "gridcolor": "white",
            "linecolor": "white",
            "showgrid": true,
            "tickcolor": "rgb(51,51,51)",
            "ticks": ""
           },
           "bgcolor": "rgb(234,234,242)",
           "caxis": {
            "gridcolor": "white",
            "linecolor": "white",
            "showgrid": true,
            "tickcolor": "rgb(51,51,51)",
            "ticks": ""
           }
          },
          "xaxis": {
           "automargin": true,
           "gridcolor": "white",
           "linecolor": "white",
           "showgrid": true,
           "tickcolor": "rgb(51,51,51)",
           "ticks": "",
           "title": {
            "standoff": 15
           },
           "zerolinecolor": "white"
          },
          "yaxis": {
           "automargin": true,
           "gridcolor": "white",
           "linecolor": "white",
           "showgrid": true,
           "tickcolor": "rgb(51,51,51)",
           "ticks": "",
           "title": {
            "standoff": 15
           },
           "zerolinecolor": "white"
          }
         }
        },
        "title": {
         "text": "Difference in Means"
        }
       }
      }
     },
     "metadata": {},
     "output_type": "display_data"
    }
   ],
   "source": [
    "## adding another trace  \n",
    "t_dist_fig.add_trace( \n",
    "    go.Scatter( \n",
    "        x = [t_stat, t_stat], \n",
    "        y = [0,0.4], \n",
    "        name='Placebo - Interventtion',   \n",
    "        mode='lines'\n",
    "    )\n",
    ")\n",
    "t_dist_fig.update_layout(title='Difference in Means')"
   ]
  },
  {
   "cell_type": "markdown",
   "metadata": {},
   "source": [
    "* We have to reflect the difference as well to the right of thee distribution, so this called a two tailed test so if we say there is a difference , we mean the differeence is in  both tails"
   ]
  },
  {
   "cell_type": "code",
   "execution_count": 12,
   "metadata": {},
   "outputs": [
    {
     "data": {
      "application/vnd.plotly.v1+json": {
       "config": {
        "plotlyServerURL": "https://plot.ly"
       },
       "data": [
        {
         "mode": "lines",
         "name": "PDF",
         "type": "scatter",
         "x": [
          -3,
          -2.969849246231156,
          -2.9396984924623117,
          -2.909547738693467,
          -2.879396984924623,
          -2.849246231155779,
          -2.819095477386935,
          -2.7889447236180906,
          -2.758793969849246,
          -2.728643216080402,
          -2.698492462311558,
          -2.6683417085427137,
          -2.6381909547738696,
          -2.608040201005025,
          -2.577889447236181,
          -2.5477386934673367,
          -2.5175879396984926,
          -2.4874371859296485,
          -2.457286432160804,
          -2.4271356783919598,
          -2.3969849246231156,
          -2.3668341708542715,
          -2.3366834170854274,
          -2.306532663316583,
          -2.2763819095477387,
          -2.2462311557788945,
          -2.2160804020100504,
          -2.1859296482412063,
          -2.1557788944723617,
          -2.1256281407035176,
          -2.0954773869346734,
          -2.0653266331658293,
          -2.035175879396985,
          -2.0050251256281406,
          -1.9748743718592965,
          -1.9447236180904524,
          -1.914572864321608,
          -1.8844221105527639,
          -1.8542713567839197,
          -1.8241206030150754,
          -1.7939698492462313,
          -1.763819095477387,
          -1.7336683417085428,
          -1.7035175879396987,
          -1.6733668341708543,
          -1.6432160804020102,
          -1.6130653266331658,
          -1.5829145728643217,
          -1.5527638190954773,
          -1.5226130653266332,
          -1.492462311557789,
          -1.4623115577889447,
          -1.4321608040201006,
          -1.4020100502512562,
          -1.3718592964824121,
          -1.341708542713568,
          -1.3115577889447236,
          -1.2814070351758795,
          -1.2512562814070352,
          -1.221105527638191,
          -1.190954773869347,
          -1.1608040201005025,
          -1.1306532663316584,
          -1.100502512562814,
          -1.07035175879397,
          -1.0402010050251258,
          -1.0100502512562815,
          -0.9798994974874371,
          -0.949748743718593,
          -0.9195979899497488,
          -0.8894472361809047,
          -0.8592964824120606,
          -0.829145728643216,
          -0.7989949748743719,
          -0.7688442211055277,
          -0.7386934673366836,
          -0.7085427135678395,
          -0.6783919597989949,
          -0.6482412060301508,
          -0.6180904522613067,
          -0.5879396984924625,
          -0.5577889447236184,
          -0.5276381909547738,
          -0.4974874371859297,
          -0.46733668341708556,
          -0.43718592964824143,
          -0.4070351758793973,
          -0.37688442211055273,
          -0.3467336683417086,
          -0.31658291457286447,
          -0.28643216080402034,
          -0.2562814070351762,
          -0.22613065326633164,
          -0.1959798994974875,
          -0.16582914572864338,
          -0.13567839195979925,
          -0.10552763819095468,
          -0.07537688442211055,
          -0.045226130653266416,
          -0.015075376884422287,
          0.015075376884421843,
          0.045226130653266416,
          0.07537688442211055,
          0.10552763819095468,
          0.1356783919597988,
          0.16582914572864293,
          0.1959798994974875,
          0.22613065326633164,
          0.25628140703517577,
          0.2864321608040199,
          0.316582914572864,
          0.3467336683417086,
          0.37688442211055273,
          0.40703517587939686,
          0.437185929648241,
          0.4673366834170851,
          0.4974874371859297,
          0.5276381909547738,
          0.557788944723618,
          0.5879396984924621,
          0.6180904522613062,
          0.6482412060301508,
          0.6783919597989949,
          0.708542713567839,
          0.7386934673366832,
          0.7688442211055273,
          0.7989949748743719,
          0.829145728643216,
          0.8592964824120601,
          0.8894472361809043,
          0.9195979899497484,
          0.949748743718593,
          0.9798994974874371,
          1.0100502512562812,
          1.0402010050251258,
          1.0703517587939695,
          1.100502512562814,
          1.1306532663316577,
          1.1608040201005023,
          1.190954773869347,
          1.2211055276381906,
          1.2512562814070352,
          1.2814070351758788,
          1.3115577889447234,
          1.341708542713568,
          1.3718592964824117,
          1.4020100502512562,
          1.4321608040201,
          1.4623115577889445,
          1.492462311557789,
          1.5226130653266328,
          1.5527638190954773,
          1.582914572864321,
          1.6130653266331656,
          1.6432160804020102,
          1.6733668341708539,
          1.7035175879396984,
          1.7336683417085421,
          1.7638190954773867,
          1.7939698492462313,
          1.824120603015075,
          1.8542713567839195,
          1.8844221105527632,
          1.9145728643216078,
          1.9447236180904524,
          1.974874371859296,
          2.0050251256281406,
          2.0351758793969843,
          2.065326633165829,
          2.0954773869346734,
          2.125628140703517,
          2.1557788944723617,
          2.1859296482412054,
          2.21608040201005,
          2.2462311557788945,
          2.2763819095477382,
          2.306532663316583,
          2.3366834170854265,
          2.366834170854271,
          2.3969849246231156,
          2.4271356783919593,
          2.457286432160804,
          2.4874371859296476,
          2.517587939698492,
          2.5477386934673367,
          2.5778894472361804,
          2.608040201005025,
          2.6381909547738687,
          2.6683417085427132,
          2.698492462311558,
          2.7286432160804015,
          2.758793969849246,
          2.7889447236180906,
          2.8190954773869343,
          2.849246231155779,
          2.8793969849246226,
          2.909547738693467,
          2.9396984924623117,
          2.9698492462311554,
          3
         ],
         "y": [
          0.004780780171998872,
          0.005213028336169956,
          0.005679811489990097,
          0.006183428684554951,
          0.0067262881485123365,
          0.00731090842434121,
          0.007939919094980798,
          0.008616061058503651,
          0.009342186307547597,
          0.010121257169479241,
          0.010956344962785518,
          0.01185062802500631,
          0.012807389067662022,
          0.013830011814121789,
          0.01492197687722839,
          0.016086856834772827,
          0.017328310462618218,
          0.018650076087433375,
          0.02005596402363175,
          0.021549848062239262,
          0.02313565598304951,
          0.024817359065578425,
          0.026598960579010365,
          0.028484483236535636,
          0.030477955605213235,
          0.03258339746874709,
          0.03480480414732247,
          0.03714612978589608,
          0.039611269630042384,
          0.042204041316596615,
          0.04492816521486819,
          0.04778724386307644,
          0.05078474055383727,
          0.0539239571319452,
          0.05720801107728211,
          0.060639811955380124,
          0.06422203732788145,
          0.06795710822480586,
          0.07184716429005693,
          0.07589403872088397,
          0.08009923313097629,
          0.08446389247539386,
          0.08898878018353706,
          0.09367425365372865,
          0.09852024026961138,
          0.10352621410436758,
          0.10869117348362889,
          0.11401361958177793,
          0.11949153622905571,
          0.12512237110838664,
          0.1309030185210504,
          0.136829803899176,
          0.14289847024046934,
          0.14910416663653797,
          0.15544143906062063,
          0.16190422357343018,
          0.16848584209716175,
          0.1751790008975116,
          0.18197579190180008,
          0.18886769696803415,
          0.195845595205027,
          0.20289977342757284,
          0.21001993981323663,
          0.21719524080866176,
          0.22441428131352173,
          0.23166514814948935,
          0.238935436799991,
          0.2462122813842271,
          0.2534823878061258,
          0.26073206999574233,
          0.26794728913730514,
          0.27511369575484335,
          0.28221667450330085,
          0.2892413914904692,
          0.2961728439331535,
          0.30299591192993547,
          0.3096954121129223,
          0.31625615292217174,
          0.3226629912292527,
          0.3289008900208336,
          0.33495497683944986,
          0.3408106026668583,
          0.3464534009257867,
          0.3518693462685478,
          0.3570448128160389,
          0.3619666315081563,
          0.3666221462267102,
          0.3709992683545512,
          0.3750865294398523,
          0.37887313164231395,
          0.3823489956484524,
          0.38550480575603224,
          0.38833205184303915,
          0.39082306795425165,
          0.39297106725833275,
          0.3947701731502779,
          0.39621544629785255,
          0.39730290745613817,
          0.3980295559012796,
          0.39839338336275554,
          0.39839338336275554,
          0.3980295559012796,
          0.39730290745613817,
          0.39621544629785255,
          0.3947701731502779,
          0.39297106725833275,
          0.39082306795425165,
          0.38833205184303915,
          0.3855048057560323,
          0.3823489956484525,
          0.378873131642314,
          0.3750865294398523,
          0.3709992683545512,
          0.3666221462267103,
          0.36196663150815633,
          0.357044812816039,
          0.3518693462685478,
          0.3464534009257867,
          0.3408106026668584,
          0.33495497683944997,
          0.3289008900208338,
          0.3226629912292527,
          0.31625615292217174,
          0.3096954121129224,
          0.3029959119299355,
          0.29617284393315363,
          0.2892413914904692,
          0.28221667450330085,
          0.2751136957548434,
          0.26794728913730526,
          0.26073206999574244,
          0.2534823878061258,
          0.2462122813842271,
          0.23893543679999107,
          0.23166514814948935,
          0.22441428131352184,
          0.21719524080866176,
          0.21001993981323674,
          0.20289977342757293,
          0.195845595205027,
          0.18886769696803424,
          0.18197579190180008,
          0.17517900089751176,
          0.16848584209716178,
          0.16190422357343018,
          0.15544143906062075,
          0.14910416663653797,
          0.14289847024046948,
          0.13682980389917604,
          0.1309030185210504,
          0.12512237110838675,
          0.11949153622905571,
          0.11401361958177814,
          0.10869117348362893,
          0.10352621410436758,
          0.09852024026961148,
          0.09367425365372865,
          0.08898878018353715,
          0.08446389247539389,
          0.08009923313097629,
          0.07589403872088404,
          0.071847164290057,
          0.06795710822480595,
          0.06422203732788145,
          0.060639811955380124,
          0.057208011077282156,
          0.0539239571319452,
          0.05078474055383734,
          0.04778724386307648,
          0.04492816521486819,
          0.042204041316596635,
          0.039611269630042384,
          0.03714612978589616,
          0.034804804147322496,
          0.03258339746874709,
          0.030477955605213262,
          0.028484483236535636,
          0.026598960579010414,
          0.024817359065578457,
          0.02313565598304951,
          0.02154984806223929,
          0.02005596402363175,
          0.018650076087433416,
          0.01732831046261825,
          0.016086856834772827,
          0.014921976877228403,
          0.013830011814121789,
          0.012807389067662057,
          0.011850628025006332,
          0.010956344962785518,
          0.010121257169479252,
          0.009342186307547597,
          0.008616061058503651,
          0.007939919094980812,
          0.00731090842434121,
          0.006726288148512343,
          0.006183428684554951,
          0.005679811489990097,
          0.00521302833616997,
          0.004780780171998872
         ]
        },
        {
         "mode": "lines",
         "name": "Placebo - Interventtion",
         "type": "scatter",
         "x": [
          -2.4225046120579825,
          -2.4225046120579825
         ],
         "y": [
          0,
          0.4
         ]
        },
        {
         "mode": "lines",
         "name": "Placebo - Interventtion",
         "type": "scatter",
         "x": [
          2.4225046120579825,
          2.4225046120579825
         ],
         "y": [
          0,
          0.4
         ]
        }
       ],
       "layout": {
        "template": {
         "data": {
          "bar": [
           {
            "error_x": {
             "color": "rgb(36,36,36)"
            },
            "error_y": {
             "color": "rgb(36,36,36)"
            },
            "marker": {
             "line": {
              "color": "rgb(234,234,242)",
              "width": 0.5
             },
             "pattern": {
              "fillmode": "overlay",
              "size": 10,
              "solidity": 0.2
             }
            },
            "type": "bar"
           }
          ],
          "barpolar": [
           {
            "marker": {
             "line": {
              "color": "rgb(234,234,242)",
              "width": 0.5
             },
             "pattern": {
              "fillmode": "overlay",
              "size": 10,
              "solidity": 0.2
             }
            },
            "type": "barpolar"
           }
          ],
          "carpet": [
           {
            "aaxis": {
             "endlinecolor": "rgb(36,36,36)",
             "gridcolor": "white",
             "linecolor": "white",
             "minorgridcolor": "white",
             "startlinecolor": "rgb(36,36,36)"
            },
            "baxis": {
             "endlinecolor": "rgb(36,36,36)",
             "gridcolor": "white",
             "linecolor": "white",
             "minorgridcolor": "white",
             "startlinecolor": "rgb(36,36,36)"
            },
            "type": "carpet"
           }
          ],
          "choropleth": [
           {
            "colorbar": {
             "outlinewidth": 0,
             "tickcolor": "rgb(36,36,36)",
             "ticklen": 8,
             "ticks": "outside",
             "tickwidth": 2
            },
            "type": "choropleth"
           }
          ],
          "contour": [
           {
            "colorbar": {
             "outlinewidth": 0,
             "tickcolor": "rgb(36,36,36)",
             "ticklen": 8,
             "ticks": "outside",
             "tickwidth": 2
            },
            "colorscale": [
             [
              0,
              "rgb(2,4,25)"
             ],
             [
              0.06274509803921569,
              "rgb(24,15,41)"
             ],
             [
              0.12549019607843137,
              "rgb(47,23,57)"
             ],
             [
              0.18823529411764706,
              "rgb(71,28,72)"
             ],
             [
              0.25098039215686274,
              "rgb(97,30,82)"
             ],
             [
              0.3137254901960784,
              "rgb(123,30,89)"
             ],
             [
              0.3764705882352941,
              "rgb(150,27,91)"
             ],
             [
              0.4392156862745098,
              "rgb(177,22,88)"
             ],
             [
              0.5019607843137255,
              "rgb(203,26,79)"
             ],
             [
              0.5647058823529412,
              "rgb(223,47,67)"
             ],
             [
              0.6274509803921569,
              "rgb(236,76,61)"
             ],
             [
              0.6901960784313725,
              "rgb(242,107,73)"
             ],
             [
              0.7529411764705882,
              "rgb(244,135,95)"
             ],
             [
              0.8156862745098039,
              "rgb(245,162,122)"
             ],
             [
              0.8784313725490196,
              "rgb(246,188,153)"
             ],
             [
              0.9411764705882353,
              "rgb(247,212,187)"
             ],
             [
              1,
              "rgb(250,234,220)"
             ]
            ],
            "type": "contour"
           }
          ],
          "contourcarpet": [
           {
            "colorbar": {
             "outlinewidth": 0,
             "tickcolor": "rgb(36,36,36)",
             "ticklen": 8,
             "ticks": "outside",
             "tickwidth": 2
            },
            "type": "contourcarpet"
           }
          ],
          "heatmap": [
           {
            "colorbar": {
             "outlinewidth": 0,
             "tickcolor": "rgb(36,36,36)",
             "ticklen": 8,
             "ticks": "outside",
             "tickwidth": 2
            },
            "colorscale": [
             [
              0,
              "rgb(2,4,25)"
             ],
             [
              0.06274509803921569,
              "rgb(24,15,41)"
             ],
             [
              0.12549019607843137,
              "rgb(47,23,57)"
             ],
             [
              0.18823529411764706,
              "rgb(71,28,72)"
             ],
             [
              0.25098039215686274,
              "rgb(97,30,82)"
             ],
             [
              0.3137254901960784,
              "rgb(123,30,89)"
             ],
             [
              0.3764705882352941,
              "rgb(150,27,91)"
             ],
             [
              0.4392156862745098,
              "rgb(177,22,88)"
             ],
             [
              0.5019607843137255,
              "rgb(203,26,79)"
             ],
             [
              0.5647058823529412,
              "rgb(223,47,67)"
             ],
             [
              0.6274509803921569,
              "rgb(236,76,61)"
             ],
             [
              0.6901960784313725,
              "rgb(242,107,73)"
             ],
             [
              0.7529411764705882,
              "rgb(244,135,95)"
             ],
             [
              0.8156862745098039,
              "rgb(245,162,122)"
             ],
             [
              0.8784313725490196,
              "rgb(246,188,153)"
             ],
             [
              0.9411764705882353,
              "rgb(247,212,187)"
             ],
             [
              1,
              "rgb(250,234,220)"
             ]
            ],
            "type": "heatmap"
           }
          ],
          "heatmapgl": [
           {
            "colorbar": {
             "outlinewidth": 0,
             "tickcolor": "rgb(36,36,36)",
             "ticklen": 8,
             "ticks": "outside",
             "tickwidth": 2
            },
            "colorscale": [
             [
              0,
              "rgb(2,4,25)"
             ],
             [
              0.06274509803921569,
              "rgb(24,15,41)"
             ],
             [
              0.12549019607843137,
              "rgb(47,23,57)"
             ],
             [
              0.18823529411764706,
              "rgb(71,28,72)"
             ],
             [
              0.25098039215686274,
              "rgb(97,30,82)"
             ],
             [
              0.3137254901960784,
              "rgb(123,30,89)"
             ],
             [
              0.3764705882352941,
              "rgb(150,27,91)"
             ],
             [
              0.4392156862745098,
              "rgb(177,22,88)"
             ],
             [
              0.5019607843137255,
              "rgb(203,26,79)"
             ],
             [
              0.5647058823529412,
              "rgb(223,47,67)"
             ],
             [
              0.6274509803921569,
              "rgb(236,76,61)"
             ],
             [
              0.6901960784313725,
              "rgb(242,107,73)"
             ],
             [
              0.7529411764705882,
              "rgb(244,135,95)"
             ],
             [
              0.8156862745098039,
              "rgb(245,162,122)"
             ],
             [
              0.8784313725490196,
              "rgb(246,188,153)"
             ],
             [
              0.9411764705882353,
              "rgb(247,212,187)"
             ],
             [
              1,
              "rgb(250,234,220)"
             ]
            ],
            "type": "heatmapgl"
           }
          ],
          "histogram": [
           {
            "marker": {
             "pattern": {
              "fillmode": "overlay",
              "size": 10,
              "solidity": 0.2
             }
            },
            "type": "histogram"
           }
          ],
          "histogram2d": [
           {
            "colorbar": {
             "outlinewidth": 0,
             "tickcolor": "rgb(36,36,36)",
             "ticklen": 8,
             "ticks": "outside",
             "tickwidth": 2
            },
            "colorscale": [
             [
              0,
              "rgb(2,4,25)"
             ],
             [
              0.06274509803921569,
              "rgb(24,15,41)"
             ],
             [
              0.12549019607843137,
              "rgb(47,23,57)"
             ],
             [
              0.18823529411764706,
              "rgb(71,28,72)"
             ],
             [
              0.25098039215686274,
              "rgb(97,30,82)"
             ],
             [
              0.3137254901960784,
              "rgb(123,30,89)"
             ],
             [
              0.3764705882352941,
              "rgb(150,27,91)"
             ],
             [
              0.4392156862745098,
              "rgb(177,22,88)"
             ],
             [
              0.5019607843137255,
              "rgb(203,26,79)"
             ],
             [
              0.5647058823529412,
              "rgb(223,47,67)"
             ],
             [
              0.6274509803921569,
              "rgb(236,76,61)"
             ],
             [
              0.6901960784313725,
              "rgb(242,107,73)"
             ],
             [
              0.7529411764705882,
              "rgb(244,135,95)"
             ],
             [
              0.8156862745098039,
              "rgb(245,162,122)"
             ],
             [
              0.8784313725490196,
              "rgb(246,188,153)"
             ],
             [
              0.9411764705882353,
              "rgb(247,212,187)"
             ],
             [
              1,
              "rgb(250,234,220)"
             ]
            ],
            "type": "histogram2d"
           }
          ],
          "histogram2dcontour": [
           {
            "colorbar": {
             "outlinewidth": 0,
             "tickcolor": "rgb(36,36,36)",
             "ticklen": 8,
             "ticks": "outside",
             "tickwidth": 2
            },
            "colorscale": [
             [
              0,
              "rgb(2,4,25)"
             ],
             [
              0.06274509803921569,
              "rgb(24,15,41)"
             ],
             [
              0.12549019607843137,
              "rgb(47,23,57)"
             ],
             [
              0.18823529411764706,
              "rgb(71,28,72)"
             ],
             [
              0.25098039215686274,
              "rgb(97,30,82)"
             ],
             [
              0.3137254901960784,
              "rgb(123,30,89)"
             ],
             [
              0.3764705882352941,
              "rgb(150,27,91)"
             ],
             [
              0.4392156862745098,
              "rgb(177,22,88)"
             ],
             [
              0.5019607843137255,
              "rgb(203,26,79)"
             ],
             [
              0.5647058823529412,
              "rgb(223,47,67)"
             ],
             [
              0.6274509803921569,
              "rgb(236,76,61)"
             ],
             [
              0.6901960784313725,
              "rgb(242,107,73)"
             ],
             [
              0.7529411764705882,
              "rgb(244,135,95)"
             ],
             [
              0.8156862745098039,
              "rgb(245,162,122)"
             ],
             [
              0.8784313725490196,
              "rgb(246,188,153)"
             ],
             [
              0.9411764705882353,
              "rgb(247,212,187)"
             ],
             [
              1,
              "rgb(250,234,220)"
             ]
            ],
            "type": "histogram2dcontour"
           }
          ],
          "mesh3d": [
           {
            "colorbar": {
             "outlinewidth": 0,
             "tickcolor": "rgb(36,36,36)",
             "ticklen": 8,
             "ticks": "outside",
             "tickwidth": 2
            },
            "type": "mesh3d"
           }
          ],
          "parcoords": [
           {
            "line": {
             "colorbar": {
              "outlinewidth": 0,
              "tickcolor": "rgb(36,36,36)",
              "ticklen": 8,
              "ticks": "outside",
              "tickwidth": 2
             }
            },
            "type": "parcoords"
           }
          ],
          "pie": [
           {
            "automargin": true,
            "type": "pie"
           }
          ],
          "scatter": [
           {
            "fillpattern": {
             "fillmode": "overlay",
             "size": 10,
             "solidity": 0.2
            },
            "type": "scatter"
           }
          ],
          "scatter3d": [
           {
            "line": {
             "colorbar": {
              "outlinewidth": 0,
              "tickcolor": "rgb(36,36,36)",
              "ticklen": 8,
              "ticks": "outside",
              "tickwidth": 2
             }
            },
            "marker": {
             "colorbar": {
              "outlinewidth": 0,
              "tickcolor": "rgb(36,36,36)",
              "ticklen": 8,
              "ticks": "outside",
              "tickwidth": 2
             }
            },
            "type": "scatter3d"
           }
          ],
          "scattercarpet": [
           {
            "marker": {
             "colorbar": {
              "outlinewidth": 0,
              "tickcolor": "rgb(36,36,36)",
              "ticklen": 8,
              "ticks": "outside",
              "tickwidth": 2
             }
            },
            "type": "scattercarpet"
           }
          ],
          "scattergeo": [
           {
            "marker": {
             "colorbar": {
              "outlinewidth": 0,
              "tickcolor": "rgb(36,36,36)",
              "ticklen": 8,
              "ticks": "outside",
              "tickwidth": 2
             }
            },
            "type": "scattergeo"
           }
          ],
          "scattergl": [
           {
            "marker": {
             "colorbar": {
              "outlinewidth": 0,
              "tickcolor": "rgb(36,36,36)",
              "ticklen": 8,
              "ticks": "outside",
              "tickwidth": 2
             }
            },
            "type": "scattergl"
           }
          ],
          "scattermapbox": [
           {
            "marker": {
             "colorbar": {
              "outlinewidth": 0,
              "tickcolor": "rgb(36,36,36)",
              "ticklen": 8,
              "ticks": "outside",
              "tickwidth": 2
             }
            },
            "type": "scattermapbox"
           }
          ],
          "scatterpolar": [
           {
            "marker": {
             "colorbar": {
              "outlinewidth": 0,
              "tickcolor": "rgb(36,36,36)",
              "ticklen": 8,
              "ticks": "outside",
              "tickwidth": 2
             }
            },
            "type": "scatterpolar"
           }
          ],
          "scatterpolargl": [
           {
            "marker": {
             "colorbar": {
              "outlinewidth": 0,
              "tickcolor": "rgb(36,36,36)",
              "ticklen": 8,
              "ticks": "outside",
              "tickwidth": 2
             }
            },
            "type": "scatterpolargl"
           }
          ],
          "scatterternary": [
           {
            "marker": {
             "colorbar": {
              "outlinewidth": 0,
              "tickcolor": "rgb(36,36,36)",
              "ticklen": 8,
              "ticks": "outside",
              "tickwidth": 2
             }
            },
            "type": "scatterternary"
           }
          ],
          "surface": [
           {
            "colorbar": {
             "outlinewidth": 0,
             "tickcolor": "rgb(36,36,36)",
             "ticklen": 8,
             "ticks": "outside",
             "tickwidth": 2
            },
            "colorscale": [
             [
              0,
              "rgb(2,4,25)"
             ],
             [
              0.06274509803921569,
              "rgb(24,15,41)"
             ],
             [
              0.12549019607843137,
              "rgb(47,23,57)"
             ],
             [
              0.18823529411764706,
              "rgb(71,28,72)"
             ],
             [
              0.25098039215686274,
              "rgb(97,30,82)"
             ],
             [
              0.3137254901960784,
              "rgb(123,30,89)"
             ],
             [
              0.3764705882352941,
              "rgb(150,27,91)"
             ],
             [
              0.4392156862745098,
              "rgb(177,22,88)"
             ],
             [
              0.5019607843137255,
              "rgb(203,26,79)"
             ],
             [
              0.5647058823529412,
              "rgb(223,47,67)"
             ],
             [
              0.6274509803921569,
              "rgb(236,76,61)"
             ],
             [
              0.6901960784313725,
              "rgb(242,107,73)"
             ],
             [
              0.7529411764705882,
              "rgb(244,135,95)"
             ],
             [
              0.8156862745098039,
              "rgb(245,162,122)"
             ],
             [
              0.8784313725490196,
              "rgb(246,188,153)"
             ],
             [
              0.9411764705882353,
              "rgb(247,212,187)"
             ],
             [
              1,
              "rgb(250,234,220)"
             ]
            ],
            "type": "surface"
           }
          ],
          "table": [
           {
            "cells": {
             "fill": {
              "color": "rgb(231,231,240)"
             },
             "line": {
              "color": "white"
             }
            },
            "header": {
             "fill": {
              "color": "rgb(183,183,191)"
             },
             "line": {
              "color": "white"
             }
            },
            "type": "table"
           }
          ]
         },
         "layout": {
          "annotationdefaults": {
           "arrowcolor": "rgb(67,103,167)",
           "arrowhead": 0,
           "arrowwidth": 1
          },
          "autotypenumbers": "strict",
          "coloraxis": {
           "colorbar": {
            "outlinewidth": 0,
            "tickcolor": "rgb(36,36,36)",
            "ticklen": 8,
            "ticks": "outside",
            "tickwidth": 2
           }
          },
          "colorscale": {
           "sequential": [
            [
             0,
             "rgb(2,4,25)"
            ],
            [
             0.06274509803921569,
             "rgb(24,15,41)"
            ],
            [
             0.12549019607843137,
             "rgb(47,23,57)"
            ],
            [
             0.18823529411764706,
             "rgb(71,28,72)"
            ],
            [
             0.25098039215686274,
             "rgb(97,30,82)"
            ],
            [
             0.3137254901960784,
             "rgb(123,30,89)"
            ],
            [
             0.3764705882352941,
             "rgb(150,27,91)"
            ],
            [
             0.4392156862745098,
             "rgb(177,22,88)"
            ],
            [
             0.5019607843137255,
             "rgb(203,26,79)"
            ],
            [
             0.5647058823529412,
             "rgb(223,47,67)"
            ],
            [
             0.6274509803921569,
             "rgb(236,76,61)"
            ],
            [
             0.6901960784313725,
             "rgb(242,107,73)"
            ],
            [
             0.7529411764705882,
             "rgb(244,135,95)"
            ],
            [
             0.8156862745098039,
             "rgb(245,162,122)"
            ],
            [
             0.8784313725490196,
             "rgb(246,188,153)"
            ],
            [
             0.9411764705882353,
             "rgb(247,212,187)"
            ],
            [
             1,
             "rgb(250,234,220)"
            ]
           ],
           "sequentialminus": [
            [
             0,
             "rgb(2,4,25)"
            ],
            [
             0.06274509803921569,
             "rgb(24,15,41)"
            ],
            [
             0.12549019607843137,
             "rgb(47,23,57)"
            ],
            [
             0.18823529411764706,
             "rgb(71,28,72)"
            ],
            [
             0.25098039215686274,
             "rgb(97,30,82)"
            ],
            [
             0.3137254901960784,
             "rgb(123,30,89)"
            ],
            [
             0.3764705882352941,
             "rgb(150,27,91)"
            ],
            [
             0.4392156862745098,
             "rgb(177,22,88)"
            ],
            [
             0.5019607843137255,
             "rgb(203,26,79)"
            ],
            [
             0.5647058823529412,
             "rgb(223,47,67)"
            ],
            [
             0.6274509803921569,
             "rgb(236,76,61)"
            ],
            [
             0.6901960784313725,
             "rgb(242,107,73)"
            ],
            [
             0.7529411764705882,
             "rgb(244,135,95)"
            ],
            [
             0.8156862745098039,
             "rgb(245,162,122)"
            ],
            [
             0.8784313725490196,
             "rgb(246,188,153)"
            ],
            [
             0.9411764705882353,
             "rgb(247,212,187)"
            ],
            [
             1,
             "rgb(250,234,220)"
            ]
           ]
          },
          "colorway": [
           "rgb(76,114,176)",
           "rgb(221,132,82)",
           "rgb(85,168,104)",
           "rgb(196,78,82)",
           "rgb(129,114,179)",
           "rgb(147,120,96)",
           "rgb(218,139,195)",
           "rgb(140,140,140)",
           "rgb(204,185,116)",
           "rgb(100,181,205)"
          ],
          "font": {
           "color": "rgb(36,36,36)"
          },
          "geo": {
           "bgcolor": "white",
           "lakecolor": "white",
           "landcolor": "rgb(234,234,242)",
           "showlakes": true,
           "showland": true,
           "subunitcolor": "white"
          },
          "hoverlabel": {
           "align": "left"
          },
          "hovermode": "closest",
          "paper_bgcolor": "white",
          "plot_bgcolor": "rgb(234,234,242)",
          "polar": {
           "angularaxis": {
            "gridcolor": "white",
            "linecolor": "white",
            "showgrid": true,
            "tickcolor": "rgb(51,51,51)",
            "ticks": ""
           },
           "bgcolor": "rgb(234,234,242)",
           "radialaxis": {
            "gridcolor": "white",
            "linecolor": "white",
            "showgrid": true,
            "tickcolor": "rgb(51,51,51)",
            "ticks": ""
           }
          },
          "scene": {
           "xaxis": {
            "backgroundcolor": "rgb(234,234,242)",
            "gridcolor": "white",
            "gridwidth": 2,
            "linecolor": "white",
            "showbackground": true,
            "showgrid": true,
            "tickcolor": "rgb(51,51,51)",
            "ticks": "",
            "zerolinecolor": "white"
           },
           "yaxis": {
            "backgroundcolor": "rgb(234,234,242)",
            "gridcolor": "white",
            "gridwidth": 2,
            "linecolor": "white",
            "showbackground": true,
            "showgrid": true,
            "tickcolor": "rgb(51,51,51)",
            "ticks": "",
            "zerolinecolor": "white"
           },
           "zaxis": {
            "backgroundcolor": "rgb(234,234,242)",
            "gridcolor": "white",
            "gridwidth": 2,
            "linecolor": "white",
            "showbackground": true,
            "showgrid": true,
            "tickcolor": "rgb(51,51,51)",
            "ticks": "",
            "zerolinecolor": "white"
           }
          },
          "shapedefaults": {
           "fillcolor": "rgb(67,103,167)",
           "line": {
            "width": 0
           },
           "opacity": 0.5
          },
          "ternary": {
           "aaxis": {
            "gridcolor": "white",
            "linecolor": "white",
            "showgrid": true,
            "tickcolor": "rgb(51,51,51)",
            "ticks": ""
           },
           "baxis": {
            "gridcolor": "white",
            "linecolor": "white",
            "showgrid": true,
            "tickcolor": "rgb(51,51,51)",
            "ticks": ""
           },
           "bgcolor": "rgb(234,234,242)",
           "caxis": {
            "gridcolor": "white",
            "linecolor": "white",
            "showgrid": true,
            "tickcolor": "rgb(51,51,51)",
            "ticks": ""
           }
          },
          "xaxis": {
           "automargin": true,
           "gridcolor": "white",
           "linecolor": "white",
           "showgrid": true,
           "tickcolor": "rgb(51,51,51)",
           "ticks": "",
           "title": {
            "standoff": 15
           },
           "zerolinecolor": "white"
          },
          "yaxis": {
           "automargin": true,
           "gridcolor": "white",
           "linecolor": "white",
           "showgrid": true,
           "tickcolor": "rgb(51,51,51)",
           "ticks": "",
           "title": {
            "standoff": 15
           },
           "zerolinecolor": "white"
          }
         }
        },
        "title": {
         "text": "Difference in Means"
        }
       }
      }
     },
     "metadata": {},
     "output_type": "display_data"
    }
   ],
   "source": [
    "## adding another trace  \n",
    "t_dist_fig.add_trace( \n",
    "    go.Scatter( \n",
    "        x = [-t_stat, -t_stat], \n",
    "        y = [0,0.4], \n",
    "        name='Placebo - Interventtion',   \n",
    "        mode='lines'\n",
    "    )\n",
    ")\n",
    "t_dist_fig.update_layout(title='Difference in Means')"
   ]
  },
  {
   "cell_type": "markdown",
   "metadata": {},
   "source": [
    "`Calculating the critical t value`"
   ]
  },
  {
   "cell_type": "code",
   "execution_count": 13,
   "metadata": {},
   "outputs": [
    {
     "data": {
      "text/plain": [
       "-1.972017477833896"
      ]
     },
     "execution_count": 13,
     "metadata": {},
     "output_type": "execute_result"
    }
   ],
   "source": [
    "t_critic =  stats.t.ppf(0.05/2 , 198)\n",
    "t_critic"
   ]
  },
  {
   "cell_type": "code",
   "execution_count": 14,
   "metadata": {},
   "outputs": [
    {
     "data": {
      "application/vnd.plotly.v1+json": {
       "config": {
        "plotlyServerURL": "https://plot.ly"
       },
       "data": [
        {
         "mode": "lines",
         "name": "PDF",
         "type": "scatter",
         "x": [
          -3,
          -2.969849246231156,
          -2.9396984924623117,
          -2.909547738693467,
          -2.879396984924623,
          -2.849246231155779,
          -2.819095477386935,
          -2.7889447236180906,
          -2.758793969849246,
          -2.728643216080402,
          -2.698492462311558,
          -2.6683417085427137,
          -2.6381909547738696,
          -2.608040201005025,
          -2.577889447236181,
          -2.5477386934673367,
          -2.5175879396984926,
          -2.4874371859296485,
          -2.457286432160804,
          -2.4271356783919598,
          -2.3969849246231156,
          -2.3668341708542715,
          -2.3366834170854274,
          -2.306532663316583,
          -2.2763819095477387,
          -2.2462311557788945,
          -2.2160804020100504,
          -2.1859296482412063,
          -2.1557788944723617,
          -2.1256281407035176,
          -2.0954773869346734,
          -2.0653266331658293,
          -2.035175879396985,
          -2.0050251256281406,
          -1.9748743718592965,
          -1.9447236180904524,
          -1.914572864321608,
          -1.8844221105527639,
          -1.8542713567839197,
          -1.8241206030150754,
          -1.7939698492462313,
          -1.763819095477387,
          -1.7336683417085428,
          -1.7035175879396987,
          -1.6733668341708543,
          -1.6432160804020102,
          -1.6130653266331658,
          -1.5829145728643217,
          -1.5527638190954773,
          -1.5226130653266332,
          -1.492462311557789,
          -1.4623115577889447,
          -1.4321608040201006,
          -1.4020100502512562,
          -1.3718592964824121,
          -1.341708542713568,
          -1.3115577889447236,
          -1.2814070351758795,
          -1.2512562814070352,
          -1.221105527638191,
          -1.190954773869347,
          -1.1608040201005025,
          -1.1306532663316584,
          -1.100502512562814,
          -1.07035175879397,
          -1.0402010050251258,
          -1.0100502512562815,
          -0.9798994974874371,
          -0.949748743718593,
          -0.9195979899497488,
          -0.8894472361809047,
          -0.8592964824120606,
          -0.829145728643216,
          -0.7989949748743719,
          -0.7688442211055277,
          -0.7386934673366836,
          -0.7085427135678395,
          -0.6783919597989949,
          -0.6482412060301508,
          -0.6180904522613067,
          -0.5879396984924625,
          -0.5577889447236184,
          -0.5276381909547738,
          -0.4974874371859297,
          -0.46733668341708556,
          -0.43718592964824143,
          -0.4070351758793973,
          -0.37688442211055273,
          -0.3467336683417086,
          -0.31658291457286447,
          -0.28643216080402034,
          -0.2562814070351762,
          -0.22613065326633164,
          -0.1959798994974875,
          -0.16582914572864338,
          -0.13567839195979925,
          -0.10552763819095468,
          -0.07537688442211055,
          -0.045226130653266416,
          -0.015075376884422287,
          0.015075376884421843,
          0.045226130653266416,
          0.07537688442211055,
          0.10552763819095468,
          0.1356783919597988,
          0.16582914572864293,
          0.1959798994974875,
          0.22613065326633164,
          0.25628140703517577,
          0.2864321608040199,
          0.316582914572864,
          0.3467336683417086,
          0.37688442211055273,
          0.40703517587939686,
          0.437185929648241,
          0.4673366834170851,
          0.4974874371859297,
          0.5276381909547738,
          0.557788944723618,
          0.5879396984924621,
          0.6180904522613062,
          0.6482412060301508,
          0.6783919597989949,
          0.708542713567839,
          0.7386934673366832,
          0.7688442211055273,
          0.7989949748743719,
          0.829145728643216,
          0.8592964824120601,
          0.8894472361809043,
          0.9195979899497484,
          0.949748743718593,
          0.9798994974874371,
          1.0100502512562812,
          1.0402010050251258,
          1.0703517587939695,
          1.100502512562814,
          1.1306532663316577,
          1.1608040201005023,
          1.190954773869347,
          1.2211055276381906,
          1.2512562814070352,
          1.2814070351758788,
          1.3115577889447234,
          1.341708542713568,
          1.3718592964824117,
          1.4020100502512562,
          1.4321608040201,
          1.4623115577889445,
          1.492462311557789,
          1.5226130653266328,
          1.5527638190954773,
          1.582914572864321,
          1.6130653266331656,
          1.6432160804020102,
          1.6733668341708539,
          1.7035175879396984,
          1.7336683417085421,
          1.7638190954773867,
          1.7939698492462313,
          1.824120603015075,
          1.8542713567839195,
          1.8844221105527632,
          1.9145728643216078,
          1.9447236180904524,
          1.974874371859296,
          2.0050251256281406,
          2.0351758793969843,
          2.065326633165829,
          2.0954773869346734,
          2.125628140703517,
          2.1557788944723617,
          2.1859296482412054,
          2.21608040201005,
          2.2462311557788945,
          2.2763819095477382,
          2.306532663316583,
          2.3366834170854265,
          2.366834170854271,
          2.3969849246231156,
          2.4271356783919593,
          2.457286432160804,
          2.4874371859296476,
          2.517587939698492,
          2.5477386934673367,
          2.5778894472361804,
          2.608040201005025,
          2.6381909547738687,
          2.6683417085427132,
          2.698492462311558,
          2.7286432160804015,
          2.758793969849246,
          2.7889447236180906,
          2.8190954773869343,
          2.849246231155779,
          2.8793969849246226,
          2.909547738693467,
          2.9396984924623117,
          2.9698492462311554,
          3
         ],
         "y": [
          0.004780780171998872,
          0.005213028336169956,
          0.005679811489990097,
          0.006183428684554951,
          0.0067262881485123365,
          0.00731090842434121,
          0.007939919094980798,
          0.008616061058503651,
          0.009342186307547597,
          0.010121257169479241,
          0.010956344962785518,
          0.01185062802500631,
          0.012807389067662022,
          0.013830011814121789,
          0.01492197687722839,
          0.016086856834772827,
          0.017328310462618218,
          0.018650076087433375,
          0.02005596402363175,
          0.021549848062239262,
          0.02313565598304951,
          0.024817359065578425,
          0.026598960579010365,
          0.028484483236535636,
          0.030477955605213235,
          0.03258339746874709,
          0.03480480414732247,
          0.03714612978589608,
          0.039611269630042384,
          0.042204041316596615,
          0.04492816521486819,
          0.04778724386307644,
          0.05078474055383727,
          0.0539239571319452,
          0.05720801107728211,
          0.060639811955380124,
          0.06422203732788145,
          0.06795710822480586,
          0.07184716429005693,
          0.07589403872088397,
          0.08009923313097629,
          0.08446389247539386,
          0.08898878018353706,
          0.09367425365372865,
          0.09852024026961138,
          0.10352621410436758,
          0.10869117348362889,
          0.11401361958177793,
          0.11949153622905571,
          0.12512237110838664,
          0.1309030185210504,
          0.136829803899176,
          0.14289847024046934,
          0.14910416663653797,
          0.15544143906062063,
          0.16190422357343018,
          0.16848584209716175,
          0.1751790008975116,
          0.18197579190180008,
          0.18886769696803415,
          0.195845595205027,
          0.20289977342757284,
          0.21001993981323663,
          0.21719524080866176,
          0.22441428131352173,
          0.23166514814948935,
          0.238935436799991,
          0.2462122813842271,
          0.2534823878061258,
          0.26073206999574233,
          0.26794728913730514,
          0.27511369575484335,
          0.28221667450330085,
          0.2892413914904692,
          0.2961728439331535,
          0.30299591192993547,
          0.3096954121129223,
          0.31625615292217174,
          0.3226629912292527,
          0.3289008900208336,
          0.33495497683944986,
          0.3408106026668583,
          0.3464534009257867,
          0.3518693462685478,
          0.3570448128160389,
          0.3619666315081563,
          0.3666221462267102,
          0.3709992683545512,
          0.3750865294398523,
          0.37887313164231395,
          0.3823489956484524,
          0.38550480575603224,
          0.38833205184303915,
          0.39082306795425165,
          0.39297106725833275,
          0.3947701731502779,
          0.39621544629785255,
          0.39730290745613817,
          0.3980295559012796,
          0.39839338336275554,
          0.39839338336275554,
          0.3980295559012796,
          0.39730290745613817,
          0.39621544629785255,
          0.3947701731502779,
          0.39297106725833275,
          0.39082306795425165,
          0.38833205184303915,
          0.3855048057560323,
          0.3823489956484525,
          0.378873131642314,
          0.3750865294398523,
          0.3709992683545512,
          0.3666221462267103,
          0.36196663150815633,
          0.357044812816039,
          0.3518693462685478,
          0.3464534009257867,
          0.3408106026668584,
          0.33495497683944997,
          0.3289008900208338,
          0.3226629912292527,
          0.31625615292217174,
          0.3096954121129224,
          0.3029959119299355,
          0.29617284393315363,
          0.2892413914904692,
          0.28221667450330085,
          0.2751136957548434,
          0.26794728913730526,
          0.26073206999574244,
          0.2534823878061258,
          0.2462122813842271,
          0.23893543679999107,
          0.23166514814948935,
          0.22441428131352184,
          0.21719524080866176,
          0.21001993981323674,
          0.20289977342757293,
          0.195845595205027,
          0.18886769696803424,
          0.18197579190180008,
          0.17517900089751176,
          0.16848584209716178,
          0.16190422357343018,
          0.15544143906062075,
          0.14910416663653797,
          0.14289847024046948,
          0.13682980389917604,
          0.1309030185210504,
          0.12512237110838675,
          0.11949153622905571,
          0.11401361958177814,
          0.10869117348362893,
          0.10352621410436758,
          0.09852024026961148,
          0.09367425365372865,
          0.08898878018353715,
          0.08446389247539389,
          0.08009923313097629,
          0.07589403872088404,
          0.071847164290057,
          0.06795710822480595,
          0.06422203732788145,
          0.060639811955380124,
          0.057208011077282156,
          0.0539239571319452,
          0.05078474055383734,
          0.04778724386307648,
          0.04492816521486819,
          0.042204041316596635,
          0.039611269630042384,
          0.03714612978589616,
          0.034804804147322496,
          0.03258339746874709,
          0.030477955605213262,
          0.028484483236535636,
          0.026598960579010414,
          0.024817359065578457,
          0.02313565598304951,
          0.02154984806223929,
          0.02005596402363175,
          0.018650076087433416,
          0.01732831046261825,
          0.016086856834772827,
          0.014921976877228403,
          0.013830011814121789,
          0.012807389067662057,
          0.011850628025006332,
          0.010956344962785518,
          0.010121257169479252,
          0.009342186307547597,
          0.008616061058503651,
          0.007939919094980812,
          0.00731090842434121,
          0.006726288148512343,
          0.006183428684554951,
          0.005679811489990097,
          0.00521302833616997,
          0.004780780171998872
         ]
        },
        {
         "mode": "lines",
         "name": "Placebo - Interventtion",
         "type": "scatter",
         "x": [
          -2.4225046120579825,
          -2.4225046120579825
         ],
         "y": [
          0,
          0.4
         ]
        },
        {
         "mode": "lines",
         "name": "Placebo - Interventtion",
         "type": "scatter",
         "x": [
          2.4225046120579825,
          2.4225046120579825
         ],
         "y": [
          0,
          0.4
         ]
        },
        {
         "mode": "lines",
         "name": "critical-t-value",
         "type": "scatter",
         "x": [
          -1.972017477833896,
          -1.972017477833896
         ],
         "y": [
          0,
          0.4
         ]
        }
       ],
       "layout": {
        "template": {
         "data": {
          "bar": [
           {
            "error_x": {
             "color": "rgb(36,36,36)"
            },
            "error_y": {
             "color": "rgb(36,36,36)"
            },
            "marker": {
             "line": {
              "color": "rgb(234,234,242)",
              "width": 0.5
             },
             "pattern": {
              "fillmode": "overlay",
              "size": 10,
              "solidity": 0.2
             }
            },
            "type": "bar"
           }
          ],
          "barpolar": [
           {
            "marker": {
             "line": {
              "color": "rgb(234,234,242)",
              "width": 0.5
             },
             "pattern": {
              "fillmode": "overlay",
              "size": 10,
              "solidity": 0.2
             }
            },
            "type": "barpolar"
           }
          ],
          "carpet": [
           {
            "aaxis": {
             "endlinecolor": "rgb(36,36,36)",
             "gridcolor": "white",
             "linecolor": "white",
             "minorgridcolor": "white",
             "startlinecolor": "rgb(36,36,36)"
            },
            "baxis": {
             "endlinecolor": "rgb(36,36,36)",
             "gridcolor": "white",
             "linecolor": "white",
             "minorgridcolor": "white",
             "startlinecolor": "rgb(36,36,36)"
            },
            "type": "carpet"
           }
          ],
          "choropleth": [
           {
            "colorbar": {
             "outlinewidth": 0,
             "tickcolor": "rgb(36,36,36)",
             "ticklen": 8,
             "ticks": "outside",
             "tickwidth": 2
            },
            "type": "choropleth"
           }
          ],
          "contour": [
           {
            "colorbar": {
             "outlinewidth": 0,
             "tickcolor": "rgb(36,36,36)",
             "ticklen": 8,
             "ticks": "outside",
             "tickwidth": 2
            },
            "colorscale": [
             [
              0,
              "rgb(2,4,25)"
             ],
             [
              0.06274509803921569,
              "rgb(24,15,41)"
             ],
             [
              0.12549019607843137,
              "rgb(47,23,57)"
             ],
             [
              0.18823529411764706,
              "rgb(71,28,72)"
             ],
             [
              0.25098039215686274,
              "rgb(97,30,82)"
             ],
             [
              0.3137254901960784,
              "rgb(123,30,89)"
             ],
             [
              0.3764705882352941,
              "rgb(150,27,91)"
             ],
             [
              0.4392156862745098,
              "rgb(177,22,88)"
             ],
             [
              0.5019607843137255,
              "rgb(203,26,79)"
             ],
             [
              0.5647058823529412,
              "rgb(223,47,67)"
             ],
             [
              0.6274509803921569,
              "rgb(236,76,61)"
             ],
             [
              0.6901960784313725,
              "rgb(242,107,73)"
             ],
             [
              0.7529411764705882,
              "rgb(244,135,95)"
             ],
             [
              0.8156862745098039,
              "rgb(245,162,122)"
             ],
             [
              0.8784313725490196,
              "rgb(246,188,153)"
             ],
             [
              0.9411764705882353,
              "rgb(247,212,187)"
             ],
             [
              1,
              "rgb(250,234,220)"
             ]
            ],
            "type": "contour"
           }
          ],
          "contourcarpet": [
           {
            "colorbar": {
             "outlinewidth": 0,
             "tickcolor": "rgb(36,36,36)",
             "ticklen": 8,
             "ticks": "outside",
             "tickwidth": 2
            },
            "type": "contourcarpet"
           }
          ],
          "heatmap": [
           {
            "colorbar": {
             "outlinewidth": 0,
             "tickcolor": "rgb(36,36,36)",
             "ticklen": 8,
             "ticks": "outside",
             "tickwidth": 2
            },
            "colorscale": [
             [
              0,
              "rgb(2,4,25)"
             ],
             [
              0.06274509803921569,
              "rgb(24,15,41)"
             ],
             [
              0.12549019607843137,
              "rgb(47,23,57)"
             ],
             [
              0.18823529411764706,
              "rgb(71,28,72)"
             ],
             [
              0.25098039215686274,
              "rgb(97,30,82)"
             ],
             [
              0.3137254901960784,
              "rgb(123,30,89)"
             ],
             [
              0.3764705882352941,
              "rgb(150,27,91)"
             ],
             [
              0.4392156862745098,
              "rgb(177,22,88)"
             ],
             [
              0.5019607843137255,
              "rgb(203,26,79)"
             ],
             [
              0.5647058823529412,
              "rgb(223,47,67)"
             ],
             [
              0.6274509803921569,
              "rgb(236,76,61)"
             ],
             [
              0.6901960784313725,
              "rgb(242,107,73)"
             ],
             [
              0.7529411764705882,
              "rgb(244,135,95)"
             ],
             [
              0.8156862745098039,
              "rgb(245,162,122)"
             ],
             [
              0.8784313725490196,
              "rgb(246,188,153)"
             ],
             [
              0.9411764705882353,
              "rgb(247,212,187)"
             ],
             [
              1,
              "rgb(250,234,220)"
             ]
            ],
            "type": "heatmap"
           }
          ],
          "heatmapgl": [
           {
            "colorbar": {
             "outlinewidth": 0,
             "tickcolor": "rgb(36,36,36)",
             "ticklen": 8,
             "ticks": "outside",
             "tickwidth": 2
            },
            "colorscale": [
             [
              0,
              "rgb(2,4,25)"
             ],
             [
              0.06274509803921569,
              "rgb(24,15,41)"
             ],
             [
              0.12549019607843137,
              "rgb(47,23,57)"
             ],
             [
              0.18823529411764706,
              "rgb(71,28,72)"
             ],
             [
              0.25098039215686274,
              "rgb(97,30,82)"
             ],
             [
              0.3137254901960784,
              "rgb(123,30,89)"
             ],
             [
              0.3764705882352941,
              "rgb(150,27,91)"
             ],
             [
              0.4392156862745098,
              "rgb(177,22,88)"
             ],
             [
              0.5019607843137255,
              "rgb(203,26,79)"
             ],
             [
              0.5647058823529412,
              "rgb(223,47,67)"
             ],
             [
              0.6274509803921569,
              "rgb(236,76,61)"
             ],
             [
              0.6901960784313725,
              "rgb(242,107,73)"
             ],
             [
              0.7529411764705882,
              "rgb(244,135,95)"
             ],
             [
              0.8156862745098039,
              "rgb(245,162,122)"
             ],
             [
              0.8784313725490196,
              "rgb(246,188,153)"
             ],
             [
              0.9411764705882353,
              "rgb(247,212,187)"
             ],
             [
              1,
              "rgb(250,234,220)"
             ]
            ],
            "type": "heatmapgl"
           }
          ],
          "histogram": [
           {
            "marker": {
             "pattern": {
              "fillmode": "overlay",
              "size": 10,
              "solidity": 0.2
             }
            },
            "type": "histogram"
           }
          ],
          "histogram2d": [
           {
            "colorbar": {
             "outlinewidth": 0,
             "tickcolor": "rgb(36,36,36)",
             "ticklen": 8,
             "ticks": "outside",
             "tickwidth": 2
            },
            "colorscale": [
             [
              0,
              "rgb(2,4,25)"
             ],
             [
              0.06274509803921569,
              "rgb(24,15,41)"
             ],
             [
              0.12549019607843137,
              "rgb(47,23,57)"
             ],
             [
              0.18823529411764706,
              "rgb(71,28,72)"
             ],
             [
              0.25098039215686274,
              "rgb(97,30,82)"
             ],
             [
              0.3137254901960784,
              "rgb(123,30,89)"
             ],
             [
              0.3764705882352941,
              "rgb(150,27,91)"
             ],
             [
              0.4392156862745098,
              "rgb(177,22,88)"
             ],
             [
              0.5019607843137255,
              "rgb(203,26,79)"
             ],
             [
              0.5647058823529412,
              "rgb(223,47,67)"
             ],
             [
              0.6274509803921569,
              "rgb(236,76,61)"
             ],
             [
              0.6901960784313725,
              "rgb(242,107,73)"
             ],
             [
              0.7529411764705882,
              "rgb(244,135,95)"
             ],
             [
              0.8156862745098039,
              "rgb(245,162,122)"
             ],
             [
              0.8784313725490196,
              "rgb(246,188,153)"
             ],
             [
              0.9411764705882353,
              "rgb(247,212,187)"
             ],
             [
              1,
              "rgb(250,234,220)"
             ]
            ],
            "type": "histogram2d"
           }
          ],
          "histogram2dcontour": [
           {
            "colorbar": {
             "outlinewidth": 0,
             "tickcolor": "rgb(36,36,36)",
             "ticklen": 8,
             "ticks": "outside",
             "tickwidth": 2
            },
            "colorscale": [
             [
              0,
              "rgb(2,4,25)"
             ],
             [
              0.06274509803921569,
              "rgb(24,15,41)"
             ],
             [
              0.12549019607843137,
              "rgb(47,23,57)"
             ],
             [
              0.18823529411764706,
              "rgb(71,28,72)"
             ],
             [
              0.25098039215686274,
              "rgb(97,30,82)"
             ],
             [
              0.3137254901960784,
              "rgb(123,30,89)"
             ],
             [
              0.3764705882352941,
              "rgb(150,27,91)"
             ],
             [
              0.4392156862745098,
              "rgb(177,22,88)"
             ],
             [
              0.5019607843137255,
              "rgb(203,26,79)"
             ],
             [
              0.5647058823529412,
              "rgb(223,47,67)"
             ],
             [
              0.6274509803921569,
              "rgb(236,76,61)"
             ],
             [
              0.6901960784313725,
              "rgb(242,107,73)"
             ],
             [
              0.7529411764705882,
              "rgb(244,135,95)"
             ],
             [
              0.8156862745098039,
              "rgb(245,162,122)"
             ],
             [
              0.8784313725490196,
              "rgb(246,188,153)"
             ],
             [
              0.9411764705882353,
              "rgb(247,212,187)"
             ],
             [
              1,
              "rgb(250,234,220)"
             ]
            ],
            "type": "histogram2dcontour"
           }
          ],
          "mesh3d": [
           {
            "colorbar": {
             "outlinewidth": 0,
             "tickcolor": "rgb(36,36,36)",
             "ticklen": 8,
             "ticks": "outside",
             "tickwidth": 2
            },
            "type": "mesh3d"
           }
          ],
          "parcoords": [
           {
            "line": {
             "colorbar": {
              "outlinewidth": 0,
              "tickcolor": "rgb(36,36,36)",
              "ticklen": 8,
              "ticks": "outside",
              "tickwidth": 2
             }
            },
            "type": "parcoords"
           }
          ],
          "pie": [
           {
            "automargin": true,
            "type": "pie"
           }
          ],
          "scatter": [
           {
            "fillpattern": {
             "fillmode": "overlay",
             "size": 10,
             "solidity": 0.2
            },
            "type": "scatter"
           }
          ],
          "scatter3d": [
           {
            "line": {
             "colorbar": {
              "outlinewidth": 0,
              "tickcolor": "rgb(36,36,36)",
              "ticklen": 8,
              "ticks": "outside",
              "tickwidth": 2
             }
            },
            "marker": {
             "colorbar": {
              "outlinewidth": 0,
              "tickcolor": "rgb(36,36,36)",
              "ticklen": 8,
              "ticks": "outside",
              "tickwidth": 2
             }
            },
            "type": "scatter3d"
           }
          ],
          "scattercarpet": [
           {
            "marker": {
             "colorbar": {
              "outlinewidth": 0,
              "tickcolor": "rgb(36,36,36)",
              "ticklen": 8,
              "ticks": "outside",
              "tickwidth": 2
             }
            },
            "type": "scattercarpet"
           }
          ],
          "scattergeo": [
           {
            "marker": {
             "colorbar": {
              "outlinewidth": 0,
              "tickcolor": "rgb(36,36,36)",
              "ticklen": 8,
              "ticks": "outside",
              "tickwidth": 2
             }
            },
            "type": "scattergeo"
           }
          ],
          "scattergl": [
           {
            "marker": {
             "colorbar": {
              "outlinewidth": 0,
              "tickcolor": "rgb(36,36,36)",
              "ticklen": 8,
              "ticks": "outside",
              "tickwidth": 2
             }
            },
            "type": "scattergl"
           }
          ],
          "scattermapbox": [
           {
            "marker": {
             "colorbar": {
              "outlinewidth": 0,
              "tickcolor": "rgb(36,36,36)",
              "ticklen": 8,
              "ticks": "outside",
              "tickwidth": 2
             }
            },
            "type": "scattermapbox"
           }
          ],
          "scatterpolar": [
           {
            "marker": {
             "colorbar": {
              "outlinewidth": 0,
              "tickcolor": "rgb(36,36,36)",
              "ticklen": 8,
              "ticks": "outside",
              "tickwidth": 2
             }
            },
            "type": "scatterpolar"
           }
          ],
          "scatterpolargl": [
           {
            "marker": {
             "colorbar": {
              "outlinewidth": 0,
              "tickcolor": "rgb(36,36,36)",
              "ticklen": 8,
              "ticks": "outside",
              "tickwidth": 2
             }
            },
            "type": "scatterpolargl"
           }
          ],
          "scatterternary": [
           {
            "marker": {
             "colorbar": {
              "outlinewidth": 0,
              "tickcolor": "rgb(36,36,36)",
              "ticklen": 8,
              "ticks": "outside",
              "tickwidth": 2
             }
            },
            "type": "scatterternary"
           }
          ],
          "surface": [
           {
            "colorbar": {
             "outlinewidth": 0,
             "tickcolor": "rgb(36,36,36)",
             "ticklen": 8,
             "ticks": "outside",
             "tickwidth": 2
            },
            "colorscale": [
             [
              0,
              "rgb(2,4,25)"
             ],
             [
              0.06274509803921569,
              "rgb(24,15,41)"
             ],
             [
              0.12549019607843137,
              "rgb(47,23,57)"
             ],
             [
              0.18823529411764706,
              "rgb(71,28,72)"
             ],
             [
              0.25098039215686274,
              "rgb(97,30,82)"
             ],
             [
              0.3137254901960784,
              "rgb(123,30,89)"
             ],
             [
              0.3764705882352941,
              "rgb(150,27,91)"
             ],
             [
              0.4392156862745098,
              "rgb(177,22,88)"
             ],
             [
              0.5019607843137255,
              "rgb(203,26,79)"
             ],
             [
              0.5647058823529412,
              "rgb(223,47,67)"
             ],
             [
              0.6274509803921569,
              "rgb(236,76,61)"
             ],
             [
              0.6901960784313725,
              "rgb(242,107,73)"
             ],
             [
              0.7529411764705882,
              "rgb(244,135,95)"
             ],
             [
              0.8156862745098039,
              "rgb(245,162,122)"
             ],
             [
              0.8784313725490196,
              "rgb(246,188,153)"
             ],
             [
              0.9411764705882353,
              "rgb(247,212,187)"
             ],
             [
              1,
              "rgb(250,234,220)"
             ]
            ],
            "type": "surface"
           }
          ],
          "table": [
           {
            "cells": {
             "fill": {
              "color": "rgb(231,231,240)"
             },
             "line": {
              "color": "white"
             }
            },
            "header": {
             "fill": {
              "color": "rgb(183,183,191)"
             },
             "line": {
              "color": "white"
             }
            },
            "type": "table"
           }
          ]
         },
         "layout": {
          "annotationdefaults": {
           "arrowcolor": "rgb(67,103,167)",
           "arrowhead": 0,
           "arrowwidth": 1
          },
          "autotypenumbers": "strict",
          "coloraxis": {
           "colorbar": {
            "outlinewidth": 0,
            "tickcolor": "rgb(36,36,36)",
            "ticklen": 8,
            "ticks": "outside",
            "tickwidth": 2
           }
          },
          "colorscale": {
           "sequential": [
            [
             0,
             "rgb(2,4,25)"
            ],
            [
             0.06274509803921569,
             "rgb(24,15,41)"
            ],
            [
             0.12549019607843137,
             "rgb(47,23,57)"
            ],
            [
             0.18823529411764706,
             "rgb(71,28,72)"
            ],
            [
             0.25098039215686274,
             "rgb(97,30,82)"
            ],
            [
             0.3137254901960784,
             "rgb(123,30,89)"
            ],
            [
             0.3764705882352941,
             "rgb(150,27,91)"
            ],
            [
             0.4392156862745098,
             "rgb(177,22,88)"
            ],
            [
             0.5019607843137255,
             "rgb(203,26,79)"
            ],
            [
             0.5647058823529412,
             "rgb(223,47,67)"
            ],
            [
             0.6274509803921569,
             "rgb(236,76,61)"
            ],
            [
             0.6901960784313725,
             "rgb(242,107,73)"
            ],
            [
             0.7529411764705882,
             "rgb(244,135,95)"
            ],
            [
             0.8156862745098039,
             "rgb(245,162,122)"
            ],
            [
             0.8784313725490196,
             "rgb(246,188,153)"
            ],
            [
             0.9411764705882353,
             "rgb(247,212,187)"
            ],
            [
             1,
             "rgb(250,234,220)"
            ]
           ],
           "sequentialminus": [
            [
             0,
             "rgb(2,4,25)"
            ],
            [
             0.06274509803921569,
             "rgb(24,15,41)"
            ],
            [
             0.12549019607843137,
             "rgb(47,23,57)"
            ],
            [
             0.18823529411764706,
             "rgb(71,28,72)"
            ],
            [
             0.25098039215686274,
             "rgb(97,30,82)"
            ],
            [
             0.3137254901960784,
             "rgb(123,30,89)"
            ],
            [
             0.3764705882352941,
             "rgb(150,27,91)"
            ],
            [
             0.4392156862745098,
             "rgb(177,22,88)"
            ],
            [
             0.5019607843137255,
             "rgb(203,26,79)"
            ],
            [
             0.5647058823529412,
             "rgb(223,47,67)"
            ],
            [
             0.6274509803921569,
             "rgb(236,76,61)"
            ],
            [
             0.6901960784313725,
             "rgb(242,107,73)"
            ],
            [
             0.7529411764705882,
             "rgb(244,135,95)"
            ],
            [
             0.8156862745098039,
             "rgb(245,162,122)"
            ],
            [
             0.8784313725490196,
             "rgb(246,188,153)"
            ],
            [
             0.9411764705882353,
             "rgb(247,212,187)"
            ],
            [
             1,
             "rgb(250,234,220)"
            ]
           ]
          },
          "colorway": [
           "rgb(76,114,176)",
           "rgb(221,132,82)",
           "rgb(85,168,104)",
           "rgb(196,78,82)",
           "rgb(129,114,179)",
           "rgb(147,120,96)",
           "rgb(218,139,195)",
           "rgb(140,140,140)",
           "rgb(204,185,116)",
           "rgb(100,181,205)"
          ],
          "font": {
           "color": "rgb(36,36,36)"
          },
          "geo": {
           "bgcolor": "white",
           "lakecolor": "white",
           "landcolor": "rgb(234,234,242)",
           "showlakes": true,
           "showland": true,
           "subunitcolor": "white"
          },
          "hoverlabel": {
           "align": "left"
          },
          "hovermode": "closest",
          "paper_bgcolor": "white",
          "plot_bgcolor": "rgb(234,234,242)",
          "polar": {
           "angularaxis": {
            "gridcolor": "white",
            "linecolor": "white",
            "showgrid": true,
            "tickcolor": "rgb(51,51,51)",
            "ticks": ""
           },
           "bgcolor": "rgb(234,234,242)",
           "radialaxis": {
            "gridcolor": "white",
            "linecolor": "white",
            "showgrid": true,
            "tickcolor": "rgb(51,51,51)",
            "ticks": ""
           }
          },
          "scene": {
           "xaxis": {
            "backgroundcolor": "rgb(234,234,242)",
            "gridcolor": "white",
            "gridwidth": 2,
            "linecolor": "white",
            "showbackground": true,
            "showgrid": true,
            "tickcolor": "rgb(51,51,51)",
            "ticks": "",
            "zerolinecolor": "white"
           },
           "yaxis": {
            "backgroundcolor": "rgb(234,234,242)",
            "gridcolor": "white",
            "gridwidth": 2,
            "linecolor": "white",
            "showbackground": true,
            "showgrid": true,
            "tickcolor": "rgb(51,51,51)",
            "ticks": "",
            "zerolinecolor": "white"
           },
           "zaxis": {
            "backgroundcolor": "rgb(234,234,242)",
            "gridcolor": "white",
            "gridwidth": 2,
            "linecolor": "white",
            "showbackground": true,
            "showgrid": true,
            "tickcolor": "rgb(51,51,51)",
            "ticks": "",
            "zerolinecolor": "white"
           }
          },
          "shapedefaults": {
           "fillcolor": "rgb(67,103,167)",
           "line": {
            "width": 0
           },
           "opacity": 0.5
          },
          "ternary": {
           "aaxis": {
            "gridcolor": "white",
            "linecolor": "white",
            "showgrid": true,
            "tickcolor": "rgb(51,51,51)",
            "ticks": ""
           },
           "baxis": {
            "gridcolor": "white",
            "linecolor": "white",
            "showgrid": true,
            "tickcolor": "rgb(51,51,51)",
            "ticks": ""
           },
           "bgcolor": "rgb(234,234,242)",
           "caxis": {
            "gridcolor": "white",
            "linecolor": "white",
            "showgrid": true,
            "tickcolor": "rgb(51,51,51)",
            "ticks": ""
           }
          },
          "xaxis": {
           "automargin": true,
           "gridcolor": "white",
           "linecolor": "white",
           "showgrid": true,
           "tickcolor": "rgb(51,51,51)",
           "ticks": "",
           "title": {
            "standoff": 15
           },
           "zerolinecolor": "white"
          },
          "yaxis": {
           "automargin": true,
           "gridcolor": "white",
           "linecolor": "white",
           "showgrid": true,
           "tickcolor": "rgb(51,51,51)",
           "ticks": "",
           "title": {
            "standoff": 15
           },
           "zerolinecolor": "white"
          }
         }
        },
        "title": {
         "text": "Difference in Means"
        }
       }
      }
     },
     "metadata": {},
     "output_type": "display_data"
    }
   ],
   "source": [
    "## adding another trace  \n",
    "t_dist_fig.add_trace( \n",
    "    go.Scatter( \n",
    "        x = [t_critic, t_critic], \n",
    "        y = [0,0.4], \n",
    "        name='critical-t-value',   \n",
    "        mode='lines'\n",
    "    )\n",
    ")\n",
    "t_dist_fig.update_layout(title='Difference in Means')"
   ]
  },
  {
   "cell_type": "markdown",
   "metadata": {},
   "source": [
    "* we reflect the same to the right"
   ]
  },
  {
   "cell_type": "code",
   "execution_count": 15,
   "metadata": {},
   "outputs": [
    {
     "data": {
      "application/vnd.plotly.v1+json": {
       "config": {
        "plotlyServerURL": "https://plot.ly"
       },
       "data": [
        {
         "mode": "lines",
         "name": "PDF",
         "type": "scatter",
         "x": [
          -3,
          -2.969849246231156,
          -2.9396984924623117,
          -2.909547738693467,
          -2.879396984924623,
          -2.849246231155779,
          -2.819095477386935,
          -2.7889447236180906,
          -2.758793969849246,
          -2.728643216080402,
          -2.698492462311558,
          -2.6683417085427137,
          -2.6381909547738696,
          -2.608040201005025,
          -2.577889447236181,
          -2.5477386934673367,
          -2.5175879396984926,
          -2.4874371859296485,
          -2.457286432160804,
          -2.4271356783919598,
          -2.3969849246231156,
          -2.3668341708542715,
          -2.3366834170854274,
          -2.306532663316583,
          -2.2763819095477387,
          -2.2462311557788945,
          -2.2160804020100504,
          -2.1859296482412063,
          -2.1557788944723617,
          -2.1256281407035176,
          -2.0954773869346734,
          -2.0653266331658293,
          -2.035175879396985,
          -2.0050251256281406,
          -1.9748743718592965,
          -1.9447236180904524,
          -1.914572864321608,
          -1.8844221105527639,
          -1.8542713567839197,
          -1.8241206030150754,
          -1.7939698492462313,
          -1.763819095477387,
          -1.7336683417085428,
          -1.7035175879396987,
          -1.6733668341708543,
          -1.6432160804020102,
          -1.6130653266331658,
          -1.5829145728643217,
          -1.5527638190954773,
          -1.5226130653266332,
          -1.492462311557789,
          -1.4623115577889447,
          -1.4321608040201006,
          -1.4020100502512562,
          -1.3718592964824121,
          -1.341708542713568,
          -1.3115577889447236,
          -1.2814070351758795,
          -1.2512562814070352,
          -1.221105527638191,
          -1.190954773869347,
          -1.1608040201005025,
          -1.1306532663316584,
          -1.100502512562814,
          -1.07035175879397,
          -1.0402010050251258,
          -1.0100502512562815,
          -0.9798994974874371,
          -0.949748743718593,
          -0.9195979899497488,
          -0.8894472361809047,
          -0.8592964824120606,
          -0.829145728643216,
          -0.7989949748743719,
          -0.7688442211055277,
          -0.7386934673366836,
          -0.7085427135678395,
          -0.6783919597989949,
          -0.6482412060301508,
          -0.6180904522613067,
          -0.5879396984924625,
          -0.5577889447236184,
          -0.5276381909547738,
          -0.4974874371859297,
          -0.46733668341708556,
          -0.43718592964824143,
          -0.4070351758793973,
          -0.37688442211055273,
          -0.3467336683417086,
          -0.31658291457286447,
          -0.28643216080402034,
          -0.2562814070351762,
          -0.22613065326633164,
          -0.1959798994974875,
          -0.16582914572864338,
          -0.13567839195979925,
          -0.10552763819095468,
          -0.07537688442211055,
          -0.045226130653266416,
          -0.015075376884422287,
          0.015075376884421843,
          0.045226130653266416,
          0.07537688442211055,
          0.10552763819095468,
          0.1356783919597988,
          0.16582914572864293,
          0.1959798994974875,
          0.22613065326633164,
          0.25628140703517577,
          0.2864321608040199,
          0.316582914572864,
          0.3467336683417086,
          0.37688442211055273,
          0.40703517587939686,
          0.437185929648241,
          0.4673366834170851,
          0.4974874371859297,
          0.5276381909547738,
          0.557788944723618,
          0.5879396984924621,
          0.6180904522613062,
          0.6482412060301508,
          0.6783919597989949,
          0.708542713567839,
          0.7386934673366832,
          0.7688442211055273,
          0.7989949748743719,
          0.829145728643216,
          0.8592964824120601,
          0.8894472361809043,
          0.9195979899497484,
          0.949748743718593,
          0.9798994974874371,
          1.0100502512562812,
          1.0402010050251258,
          1.0703517587939695,
          1.100502512562814,
          1.1306532663316577,
          1.1608040201005023,
          1.190954773869347,
          1.2211055276381906,
          1.2512562814070352,
          1.2814070351758788,
          1.3115577889447234,
          1.341708542713568,
          1.3718592964824117,
          1.4020100502512562,
          1.4321608040201,
          1.4623115577889445,
          1.492462311557789,
          1.5226130653266328,
          1.5527638190954773,
          1.582914572864321,
          1.6130653266331656,
          1.6432160804020102,
          1.6733668341708539,
          1.7035175879396984,
          1.7336683417085421,
          1.7638190954773867,
          1.7939698492462313,
          1.824120603015075,
          1.8542713567839195,
          1.8844221105527632,
          1.9145728643216078,
          1.9447236180904524,
          1.974874371859296,
          2.0050251256281406,
          2.0351758793969843,
          2.065326633165829,
          2.0954773869346734,
          2.125628140703517,
          2.1557788944723617,
          2.1859296482412054,
          2.21608040201005,
          2.2462311557788945,
          2.2763819095477382,
          2.306532663316583,
          2.3366834170854265,
          2.366834170854271,
          2.3969849246231156,
          2.4271356783919593,
          2.457286432160804,
          2.4874371859296476,
          2.517587939698492,
          2.5477386934673367,
          2.5778894472361804,
          2.608040201005025,
          2.6381909547738687,
          2.6683417085427132,
          2.698492462311558,
          2.7286432160804015,
          2.758793969849246,
          2.7889447236180906,
          2.8190954773869343,
          2.849246231155779,
          2.8793969849246226,
          2.909547738693467,
          2.9396984924623117,
          2.9698492462311554,
          3
         ],
         "y": [
          0.004780780171998872,
          0.005213028336169956,
          0.005679811489990097,
          0.006183428684554951,
          0.0067262881485123365,
          0.00731090842434121,
          0.007939919094980798,
          0.008616061058503651,
          0.009342186307547597,
          0.010121257169479241,
          0.010956344962785518,
          0.01185062802500631,
          0.012807389067662022,
          0.013830011814121789,
          0.01492197687722839,
          0.016086856834772827,
          0.017328310462618218,
          0.018650076087433375,
          0.02005596402363175,
          0.021549848062239262,
          0.02313565598304951,
          0.024817359065578425,
          0.026598960579010365,
          0.028484483236535636,
          0.030477955605213235,
          0.03258339746874709,
          0.03480480414732247,
          0.03714612978589608,
          0.039611269630042384,
          0.042204041316596615,
          0.04492816521486819,
          0.04778724386307644,
          0.05078474055383727,
          0.0539239571319452,
          0.05720801107728211,
          0.060639811955380124,
          0.06422203732788145,
          0.06795710822480586,
          0.07184716429005693,
          0.07589403872088397,
          0.08009923313097629,
          0.08446389247539386,
          0.08898878018353706,
          0.09367425365372865,
          0.09852024026961138,
          0.10352621410436758,
          0.10869117348362889,
          0.11401361958177793,
          0.11949153622905571,
          0.12512237110838664,
          0.1309030185210504,
          0.136829803899176,
          0.14289847024046934,
          0.14910416663653797,
          0.15544143906062063,
          0.16190422357343018,
          0.16848584209716175,
          0.1751790008975116,
          0.18197579190180008,
          0.18886769696803415,
          0.195845595205027,
          0.20289977342757284,
          0.21001993981323663,
          0.21719524080866176,
          0.22441428131352173,
          0.23166514814948935,
          0.238935436799991,
          0.2462122813842271,
          0.2534823878061258,
          0.26073206999574233,
          0.26794728913730514,
          0.27511369575484335,
          0.28221667450330085,
          0.2892413914904692,
          0.2961728439331535,
          0.30299591192993547,
          0.3096954121129223,
          0.31625615292217174,
          0.3226629912292527,
          0.3289008900208336,
          0.33495497683944986,
          0.3408106026668583,
          0.3464534009257867,
          0.3518693462685478,
          0.3570448128160389,
          0.3619666315081563,
          0.3666221462267102,
          0.3709992683545512,
          0.3750865294398523,
          0.37887313164231395,
          0.3823489956484524,
          0.38550480575603224,
          0.38833205184303915,
          0.39082306795425165,
          0.39297106725833275,
          0.3947701731502779,
          0.39621544629785255,
          0.39730290745613817,
          0.3980295559012796,
          0.39839338336275554,
          0.39839338336275554,
          0.3980295559012796,
          0.39730290745613817,
          0.39621544629785255,
          0.3947701731502779,
          0.39297106725833275,
          0.39082306795425165,
          0.38833205184303915,
          0.3855048057560323,
          0.3823489956484525,
          0.378873131642314,
          0.3750865294398523,
          0.3709992683545512,
          0.3666221462267103,
          0.36196663150815633,
          0.357044812816039,
          0.3518693462685478,
          0.3464534009257867,
          0.3408106026668584,
          0.33495497683944997,
          0.3289008900208338,
          0.3226629912292527,
          0.31625615292217174,
          0.3096954121129224,
          0.3029959119299355,
          0.29617284393315363,
          0.2892413914904692,
          0.28221667450330085,
          0.2751136957548434,
          0.26794728913730526,
          0.26073206999574244,
          0.2534823878061258,
          0.2462122813842271,
          0.23893543679999107,
          0.23166514814948935,
          0.22441428131352184,
          0.21719524080866176,
          0.21001993981323674,
          0.20289977342757293,
          0.195845595205027,
          0.18886769696803424,
          0.18197579190180008,
          0.17517900089751176,
          0.16848584209716178,
          0.16190422357343018,
          0.15544143906062075,
          0.14910416663653797,
          0.14289847024046948,
          0.13682980389917604,
          0.1309030185210504,
          0.12512237110838675,
          0.11949153622905571,
          0.11401361958177814,
          0.10869117348362893,
          0.10352621410436758,
          0.09852024026961148,
          0.09367425365372865,
          0.08898878018353715,
          0.08446389247539389,
          0.08009923313097629,
          0.07589403872088404,
          0.071847164290057,
          0.06795710822480595,
          0.06422203732788145,
          0.060639811955380124,
          0.057208011077282156,
          0.0539239571319452,
          0.05078474055383734,
          0.04778724386307648,
          0.04492816521486819,
          0.042204041316596635,
          0.039611269630042384,
          0.03714612978589616,
          0.034804804147322496,
          0.03258339746874709,
          0.030477955605213262,
          0.028484483236535636,
          0.026598960579010414,
          0.024817359065578457,
          0.02313565598304951,
          0.02154984806223929,
          0.02005596402363175,
          0.018650076087433416,
          0.01732831046261825,
          0.016086856834772827,
          0.014921976877228403,
          0.013830011814121789,
          0.012807389067662057,
          0.011850628025006332,
          0.010956344962785518,
          0.010121257169479252,
          0.009342186307547597,
          0.008616061058503651,
          0.007939919094980812,
          0.00731090842434121,
          0.006726288148512343,
          0.006183428684554951,
          0.005679811489990097,
          0.00521302833616997,
          0.004780780171998872
         ]
        },
        {
         "mode": "lines",
         "name": "Placebo - Interventtion",
         "type": "scatter",
         "x": [
          -2.4225046120579825,
          -2.4225046120579825
         ],
         "y": [
          0,
          0.4
         ]
        },
        {
         "mode": "lines",
         "name": "Placebo - Interventtion",
         "type": "scatter",
         "x": [
          2.4225046120579825,
          2.4225046120579825
         ],
         "y": [
          0,
          0.4
         ]
        },
        {
         "mode": "lines",
         "name": "critical-t-value",
         "type": "scatter",
         "x": [
          -1.972017477833896,
          -1.972017477833896
         ],
         "y": [
          0,
          0.4
         ]
        },
        {
         "mode": "lines",
         "name": "critical-t-value",
         "type": "scatter",
         "x": [
          1.972017477833896,
          1.972017477833896
         ],
         "y": [
          0,
          0.4
         ]
        }
       ],
       "layout": {
        "template": {
         "data": {
          "bar": [
           {
            "error_x": {
             "color": "rgb(36,36,36)"
            },
            "error_y": {
             "color": "rgb(36,36,36)"
            },
            "marker": {
             "line": {
              "color": "rgb(234,234,242)",
              "width": 0.5
             },
             "pattern": {
              "fillmode": "overlay",
              "size": 10,
              "solidity": 0.2
             }
            },
            "type": "bar"
           }
          ],
          "barpolar": [
           {
            "marker": {
             "line": {
              "color": "rgb(234,234,242)",
              "width": 0.5
             },
             "pattern": {
              "fillmode": "overlay",
              "size": 10,
              "solidity": 0.2
             }
            },
            "type": "barpolar"
           }
          ],
          "carpet": [
           {
            "aaxis": {
             "endlinecolor": "rgb(36,36,36)",
             "gridcolor": "white",
             "linecolor": "white",
             "minorgridcolor": "white",
             "startlinecolor": "rgb(36,36,36)"
            },
            "baxis": {
             "endlinecolor": "rgb(36,36,36)",
             "gridcolor": "white",
             "linecolor": "white",
             "minorgridcolor": "white",
             "startlinecolor": "rgb(36,36,36)"
            },
            "type": "carpet"
           }
          ],
          "choropleth": [
           {
            "colorbar": {
             "outlinewidth": 0,
             "tickcolor": "rgb(36,36,36)",
             "ticklen": 8,
             "ticks": "outside",
             "tickwidth": 2
            },
            "type": "choropleth"
           }
          ],
          "contour": [
           {
            "colorbar": {
             "outlinewidth": 0,
             "tickcolor": "rgb(36,36,36)",
             "ticklen": 8,
             "ticks": "outside",
             "tickwidth": 2
            },
            "colorscale": [
             [
              0,
              "rgb(2,4,25)"
             ],
             [
              0.06274509803921569,
              "rgb(24,15,41)"
             ],
             [
              0.12549019607843137,
              "rgb(47,23,57)"
             ],
             [
              0.18823529411764706,
              "rgb(71,28,72)"
             ],
             [
              0.25098039215686274,
              "rgb(97,30,82)"
             ],
             [
              0.3137254901960784,
              "rgb(123,30,89)"
             ],
             [
              0.3764705882352941,
              "rgb(150,27,91)"
             ],
             [
              0.4392156862745098,
              "rgb(177,22,88)"
             ],
             [
              0.5019607843137255,
              "rgb(203,26,79)"
             ],
             [
              0.5647058823529412,
              "rgb(223,47,67)"
             ],
             [
              0.6274509803921569,
              "rgb(236,76,61)"
             ],
             [
              0.6901960784313725,
              "rgb(242,107,73)"
             ],
             [
              0.7529411764705882,
              "rgb(244,135,95)"
             ],
             [
              0.8156862745098039,
              "rgb(245,162,122)"
             ],
             [
              0.8784313725490196,
              "rgb(246,188,153)"
             ],
             [
              0.9411764705882353,
              "rgb(247,212,187)"
             ],
             [
              1,
              "rgb(250,234,220)"
             ]
            ],
            "type": "contour"
           }
          ],
          "contourcarpet": [
           {
            "colorbar": {
             "outlinewidth": 0,
             "tickcolor": "rgb(36,36,36)",
             "ticklen": 8,
             "ticks": "outside",
             "tickwidth": 2
            },
            "type": "contourcarpet"
           }
          ],
          "heatmap": [
           {
            "colorbar": {
             "outlinewidth": 0,
             "tickcolor": "rgb(36,36,36)",
             "ticklen": 8,
             "ticks": "outside",
             "tickwidth": 2
            },
            "colorscale": [
             [
              0,
              "rgb(2,4,25)"
             ],
             [
              0.06274509803921569,
              "rgb(24,15,41)"
             ],
             [
              0.12549019607843137,
              "rgb(47,23,57)"
             ],
             [
              0.18823529411764706,
              "rgb(71,28,72)"
             ],
             [
              0.25098039215686274,
              "rgb(97,30,82)"
             ],
             [
              0.3137254901960784,
              "rgb(123,30,89)"
             ],
             [
              0.3764705882352941,
              "rgb(150,27,91)"
             ],
             [
              0.4392156862745098,
              "rgb(177,22,88)"
             ],
             [
              0.5019607843137255,
              "rgb(203,26,79)"
             ],
             [
              0.5647058823529412,
              "rgb(223,47,67)"
             ],
             [
              0.6274509803921569,
              "rgb(236,76,61)"
             ],
             [
              0.6901960784313725,
              "rgb(242,107,73)"
             ],
             [
              0.7529411764705882,
              "rgb(244,135,95)"
             ],
             [
              0.8156862745098039,
              "rgb(245,162,122)"
             ],
             [
              0.8784313725490196,
              "rgb(246,188,153)"
             ],
             [
              0.9411764705882353,
              "rgb(247,212,187)"
             ],
             [
              1,
              "rgb(250,234,220)"
             ]
            ],
            "type": "heatmap"
           }
          ],
          "heatmapgl": [
           {
            "colorbar": {
             "outlinewidth": 0,
             "tickcolor": "rgb(36,36,36)",
             "ticklen": 8,
             "ticks": "outside",
             "tickwidth": 2
            },
            "colorscale": [
             [
              0,
              "rgb(2,4,25)"
             ],
             [
              0.06274509803921569,
              "rgb(24,15,41)"
             ],
             [
              0.12549019607843137,
              "rgb(47,23,57)"
             ],
             [
              0.18823529411764706,
              "rgb(71,28,72)"
             ],
             [
              0.25098039215686274,
              "rgb(97,30,82)"
             ],
             [
              0.3137254901960784,
              "rgb(123,30,89)"
             ],
             [
              0.3764705882352941,
              "rgb(150,27,91)"
             ],
             [
              0.4392156862745098,
              "rgb(177,22,88)"
             ],
             [
              0.5019607843137255,
              "rgb(203,26,79)"
             ],
             [
              0.5647058823529412,
              "rgb(223,47,67)"
             ],
             [
              0.6274509803921569,
              "rgb(236,76,61)"
             ],
             [
              0.6901960784313725,
              "rgb(242,107,73)"
             ],
             [
              0.7529411764705882,
              "rgb(244,135,95)"
             ],
             [
              0.8156862745098039,
              "rgb(245,162,122)"
             ],
             [
              0.8784313725490196,
              "rgb(246,188,153)"
             ],
             [
              0.9411764705882353,
              "rgb(247,212,187)"
             ],
             [
              1,
              "rgb(250,234,220)"
             ]
            ],
            "type": "heatmapgl"
           }
          ],
          "histogram": [
           {
            "marker": {
             "pattern": {
              "fillmode": "overlay",
              "size": 10,
              "solidity": 0.2
             }
            },
            "type": "histogram"
           }
          ],
          "histogram2d": [
           {
            "colorbar": {
             "outlinewidth": 0,
             "tickcolor": "rgb(36,36,36)",
             "ticklen": 8,
             "ticks": "outside",
             "tickwidth": 2
            },
            "colorscale": [
             [
              0,
              "rgb(2,4,25)"
             ],
             [
              0.06274509803921569,
              "rgb(24,15,41)"
             ],
             [
              0.12549019607843137,
              "rgb(47,23,57)"
             ],
             [
              0.18823529411764706,
              "rgb(71,28,72)"
             ],
             [
              0.25098039215686274,
              "rgb(97,30,82)"
             ],
             [
              0.3137254901960784,
              "rgb(123,30,89)"
             ],
             [
              0.3764705882352941,
              "rgb(150,27,91)"
             ],
             [
              0.4392156862745098,
              "rgb(177,22,88)"
             ],
             [
              0.5019607843137255,
              "rgb(203,26,79)"
             ],
             [
              0.5647058823529412,
              "rgb(223,47,67)"
             ],
             [
              0.6274509803921569,
              "rgb(236,76,61)"
             ],
             [
              0.6901960784313725,
              "rgb(242,107,73)"
             ],
             [
              0.7529411764705882,
              "rgb(244,135,95)"
             ],
             [
              0.8156862745098039,
              "rgb(245,162,122)"
             ],
             [
              0.8784313725490196,
              "rgb(246,188,153)"
             ],
             [
              0.9411764705882353,
              "rgb(247,212,187)"
             ],
             [
              1,
              "rgb(250,234,220)"
             ]
            ],
            "type": "histogram2d"
           }
          ],
          "histogram2dcontour": [
           {
            "colorbar": {
             "outlinewidth": 0,
             "tickcolor": "rgb(36,36,36)",
             "ticklen": 8,
             "ticks": "outside",
             "tickwidth": 2
            },
            "colorscale": [
             [
              0,
              "rgb(2,4,25)"
             ],
             [
              0.06274509803921569,
              "rgb(24,15,41)"
             ],
             [
              0.12549019607843137,
              "rgb(47,23,57)"
             ],
             [
              0.18823529411764706,
              "rgb(71,28,72)"
             ],
             [
              0.25098039215686274,
              "rgb(97,30,82)"
             ],
             [
              0.3137254901960784,
              "rgb(123,30,89)"
             ],
             [
              0.3764705882352941,
              "rgb(150,27,91)"
             ],
             [
              0.4392156862745098,
              "rgb(177,22,88)"
             ],
             [
              0.5019607843137255,
              "rgb(203,26,79)"
             ],
             [
              0.5647058823529412,
              "rgb(223,47,67)"
             ],
             [
              0.6274509803921569,
              "rgb(236,76,61)"
             ],
             [
              0.6901960784313725,
              "rgb(242,107,73)"
             ],
             [
              0.7529411764705882,
              "rgb(244,135,95)"
             ],
             [
              0.8156862745098039,
              "rgb(245,162,122)"
             ],
             [
              0.8784313725490196,
              "rgb(246,188,153)"
             ],
             [
              0.9411764705882353,
              "rgb(247,212,187)"
             ],
             [
              1,
              "rgb(250,234,220)"
             ]
            ],
            "type": "histogram2dcontour"
           }
          ],
          "mesh3d": [
           {
            "colorbar": {
             "outlinewidth": 0,
             "tickcolor": "rgb(36,36,36)",
             "ticklen": 8,
             "ticks": "outside",
             "tickwidth": 2
            },
            "type": "mesh3d"
           }
          ],
          "parcoords": [
           {
            "line": {
             "colorbar": {
              "outlinewidth": 0,
              "tickcolor": "rgb(36,36,36)",
              "ticklen": 8,
              "ticks": "outside",
              "tickwidth": 2
             }
            },
            "type": "parcoords"
           }
          ],
          "pie": [
           {
            "automargin": true,
            "type": "pie"
           }
          ],
          "scatter": [
           {
            "fillpattern": {
             "fillmode": "overlay",
             "size": 10,
             "solidity": 0.2
            },
            "type": "scatter"
           }
          ],
          "scatter3d": [
           {
            "line": {
             "colorbar": {
              "outlinewidth": 0,
              "tickcolor": "rgb(36,36,36)",
              "ticklen": 8,
              "ticks": "outside",
              "tickwidth": 2
             }
            },
            "marker": {
             "colorbar": {
              "outlinewidth": 0,
              "tickcolor": "rgb(36,36,36)",
              "ticklen": 8,
              "ticks": "outside",
              "tickwidth": 2
             }
            },
            "type": "scatter3d"
           }
          ],
          "scattercarpet": [
           {
            "marker": {
             "colorbar": {
              "outlinewidth": 0,
              "tickcolor": "rgb(36,36,36)",
              "ticklen": 8,
              "ticks": "outside",
              "tickwidth": 2
             }
            },
            "type": "scattercarpet"
           }
          ],
          "scattergeo": [
           {
            "marker": {
             "colorbar": {
              "outlinewidth": 0,
              "tickcolor": "rgb(36,36,36)",
              "ticklen": 8,
              "ticks": "outside",
              "tickwidth": 2
             }
            },
            "type": "scattergeo"
           }
          ],
          "scattergl": [
           {
            "marker": {
             "colorbar": {
              "outlinewidth": 0,
              "tickcolor": "rgb(36,36,36)",
              "ticklen": 8,
              "ticks": "outside",
              "tickwidth": 2
             }
            },
            "type": "scattergl"
           }
          ],
          "scattermapbox": [
           {
            "marker": {
             "colorbar": {
              "outlinewidth": 0,
              "tickcolor": "rgb(36,36,36)",
              "ticklen": 8,
              "ticks": "outside",
              "tickwidth": 2
             }
            },
            "type": "scattermapbox"
           }
          ],
          "scatterpolar": [
           {
            "marker": {
             "colorbar": {
              "outlinewidth": 0,
              "tickcolor": "rgb(36,36,36)",
              "ticklen": 8,
              "ticks": "outside",
              "tickwidth": 2
             }
            },
            "type": "scatterpolar"
           }
          ],
          "scatterpolargl": [
           {
            "marker": {
             "colorbar": {
              "outlinewidth": 0,
              "tickcolor": "rgb(36,36,36)",
              "ticklen": 8,
              "ticks": "outside",
              "tickwidth": 2
             }
            },
            "type": "scatterpolargl"
           }
          ],
          "scatterternary": [
           {
            "marker": {
             "colorbar": {
              "outlinewidth": 0,
              "tickcolor": "rgb(36,36,36)",
              "ticklen": 8,
              "ticks": "outside",
              "tickwidth": 2
             }
            },
            "type": "scatterternary"
           }
          ],
          "surface": [
           {
            "colorbar": {
             "outlinewidth": 0,
             "tickcolor": "rgb(36,36,36)",
             "ticklen": 8,
             "ticks": "outside",
             "tickwidth": 2
            },
            "colorscale": [
             [
              0,
              "rgb(2,4,25)"
             ],
             [
              0.06274509803921569,
              "rgb(24,15,41)"
             ],
             [
              0.12549019607843137,
              "rgb(47,23,57)"
             ],
             [
              0.18823529411764706,
              "rgb(71,28,72)"
             ],
             [
              0.25098039215686274,
              "rgb(97,30,82)"
             ],
             [
              0.3137254901960784,
              "rgb(123,30,89)"
             ],
             [
              0.3764705882352941,
              "rgb(150,27,91)"
             ],
             [
              0.4392156862745098,
              "rgb(177,22,88)"
             ],
             [
              0.5019607843137255,
              "rgb(203,26,79)"
             ],
             [
              0.5647058823529412,
              "rgb(223,47,67)"
             ],
             [
              0.6274509803921569,
              "rgb(236,76,61)"
             ],
             [
              0.6901960784313725,
              "rgb(242,107,73)"
             ],
             [
              0.7529411764705882,
              "rgb(244,135,95)"
             ],
             [
              0.8156862745098039,
              "rgb(245,162,122)"
             ],
             [
              0.8784313725490196,
              "rgb(246,188,153)"
             ],
             [
              0.9411764705882353,
              "rgb(247,212,187)"
             ],
             [
              1,
              "rgb(250,234,220)"
             ]
            ],
            "type": "surface"
           }
          ],
          "table": [
           {
            "cells": {
             "fill": {
              "color": "rgb(231,231,240)"
             },
             "line": {
              "color": "white"
             }
            },
            "header": {
             "fill": {
              "color": "rgb(183,183,191)"
             },
             "line": {
              "color": "white"
             }
            },
            "type": "table"
           }
          ]
         },
         "layout": {
          "annotationdefaults": {
           "arrowcolor": "rgb(67,103,167)",
           "arrowhead": 0,
           "arrowwidth": 1
          },
          "autotypenumbers": "strict",
          "coloraxis": {
           "colorbar": {
            "outlinewidth": 0,
            "tickcolor": "rgb(36,36,36)",
            "ticklen": 8,
            "ticks": "outside",
            "tickwidth": 2
           }
          },
          "colorscale": {
           "sequential": [
            [
             0,
             "rgb(2,4,25)"
            ],
            [
             0.06274509803921569,
             "rgb(24,15,41)"
            ],
            [
             0.12549019607843137,
             "rgb(47,23,57)"
            ],
            [
             0.18823529411764706,
             "rgb(71,28,72)"
            ],
            [
             0.25098039215686274,
             "rgb(97,30,82)"
            ],
            [
             0.3137254901960784,
             "rgb(123,30,89)"
            ],
            [
             0.3764705882352941,
             "rgb(150,27,91)"
            ],
            [
             0.4392156862745098,
             "rgb(177,22,88)"
            ],
            [
             0.5019607843137255,
             "rgb(203,26,79)"
            ],
            [
             0.5647058823529412,
             "rgb(223,47,67)"
            ],
            [
             0.6274509803921569,
             "rgb(236,76,61)"
            ],
            [
             0.6901960784313725,
             "rgb(242,107,73)"
            ],
            [
             0.7529411764705882,
             "rgb(244,135,95)"
            ],
            [
             0.8156862745098039,
             "rgb(245,162,122)"
            ],
            [
             0.8784313725490196,
             "rgb(246,188,153)"
            ],
            [
             0.9411764705882353,
             "rgb(247,212,187)"
            ],
            [
             1,
             "rgb(250,234,220)"
            ]
           ],
           "sequentialminus": [
            [
             0,
             "rgb(2,4,25)"
            ],
            [
             0.06274509803921569,
             "rgb(24,15,41)"
            ],
            [
             0.12549019607843137,
             "rgb(47,23,57)"
            ],
            [
             0.18823529411764706,
             "rgb(71,28,72)"
            ],
            [
             0.25098039215686274,
             "rgb(97,30,82)"
            ],
            [
             0.3137254901960784,
             "rgb(123,30,89)"
            ],
            [
             0.3764705882352941,
             "rgb(150,27,91)"
            ],
            [
             0.4392156862745098,
             "rgb(177,22,88)"
            ],
            [
             0.5019607843137255,
             "rgb(203,26,79)"
            ],
            [
             0.5647058823529412,
             "rgb(223,47,67)"
            ],
            [
             0.6274509803921569,
             "rgb(236,76,61)"
            ],
            [
             0.6901960784313725,
             "rgb(242,107,73)"
            ],
            [
             0.7529411764705882,
             "rgb(244,135,95)"
            ],
            [
             0.8156862745098039,
             "rgb(245,162,122)"
            ],
            [
             0.8784313725490196,
             "rgb(246,188,153)"
            ],
            [
             0.9411764705882353,
             "rgb(247,212,187)"
            ],
            [
             1,
             "rgb(250,234,220)"
            ]
           ]
          },
          "colorway": [
           "rgb(76,114,176)",
           "rgb(221,132,82)",
           "rgb(85,168,104)",
           "rgb(196,78,82)",
           "rgb(129,114,179)",
           "rgb(147,120,96)",
           "rgb(218,139,195)",
           "rgb(140,140,140)",
           "rgb(204,185,116)",
           "rgb(100,181,205)"
          ],
          "font": {
           "color": "rgb(36,36,36)"
          },
          "geo": {
           "bgcolor": "white",
           "lakecolor": "white",
           "landcolor": "rgb(234,234,242)",
           "showlakes": true,
           "showland": true,
           "subunitcolor": "white"
          },
          "hoverlabel": {
           "align": "left"
          },
          "hovermode": "closest",
          "paper_bgcolor": "white",
          "plot_bgcolor": "rgb(234,234,242)",
          "polar": {
           "angularaxis": {
            "gridcolor": "white",
            "linecolor": "white",
            "showgrid": true,
            "tickcolor": "rgb(51,51,51)",
            "ticks": ""
           },
           "bgcolor": "rgb(234,234,242)",
           "radialaxis": {
            "gridcolor": "white",
            "linecolor": "white",
            "showgrid": true,
            "tickcolor": "rgb(51,51,51)",
            "ticks": ""
           }
          },
          "scene": {
           "xaxis": {
            "backgroundcolor": "rgb(234,234,242)",
            "gridcolor": "white",
            "gridwidth": 2,
            "linecolor": "white",
            "showbackground": true,
            "showgrid": true,
            "tickcolor": "rgb(51,51,51)",
            "ticks": "",
            "zerolinecolor": "white"
           },
           "yaxis": {
            "backgroundcolor": "rgb(234,234,242)",
            "gridcolor": "white",
            "gridwidth": 2,
            "linecolor": "white",
            "showbackground": true,
            "showgrid": true,
            "tickcolor": "rgb(51,51,51)",
            "ticks": "",
            "zerolinecolor": "white"
           },
           "zaxis": {
            "backgroundcolor": "rgb(234,234,242)",
            "gridcolor": "white",
            "gridwidth": 2,
            "linecolor": "white",
            "showbackground": true,
            "showgrid": true,
            "tickcolor": "rgb(51,51,51)",
            "ticks": "",
            "zerolinecolor": "white"
           }
          },
          "shapedefaults": {
           "fillcolor": "rgb(67,103,167)",
           "line": {
            "width": 0
           },
           "opacity": 0.5
          },
          "ternary": {
           "aaxis": {
            "gridcolor": "white",
            "linecolor": "white",
            "showgrid": true,
            "tickcolor": "rgb(51,51,51)",
            "ticks": ""
           },
           "baxis": {
            "gridcolor": "white",
            "linecolor": "white",
            "showgrid": true,
            "tickcolor": "rgb(51,51,51)",
            "ticks": ""
           },
           "bgcolor": "rgb(234,234,242)",
           "caxis": {
            "gridcolor": "white",
            "linecolor": "white",
            "showgrid": true,
            "tickcolor": "rgb(51,51,51)",
            "ticks": ""
           }
          },
          "xaxis": {
           "automargin": true,
           "gridcolor": "white",
           "linecolor": "white",
           "showgrid": true,
           "tickcolor": "rgb(51,51,51)",
           "ticks": "",
           "title": {
            "standoff": 15
           },
           "zerolinecolor": "white"
          },
          "yaxis": {
           "automargin": true,
           "gridcolor": "white",
           "linecolor": "white",
           "showgrid": true,
           "tickcolor": "rgb(51,51,51)",
           "ticks": "",
           "title": {
            "standoff": 15
           },
           "zerolinecolor": "white"
          }
         }
        },
        "title": {
         "text": "Difference in Means"
        }
       }
      }
     },
     "metadata": {},
     "output_type": "display_data"
    }
   ],
   "source": [
    "## adding another trace  \n",
    "t_dist_fig.add_trace( \n",
    "    go.Scatter( \n",
    "        x = [-t_critic, -t_critic], \n",
    "        y = [0,0.4], \n",
    "        name='critical-t-value',   \n",
    "        mode='lines'\n",
    "    )\n",
    ")\n",
    "t_dist_fig.update_layout(title='Difference in Means')"
   ]
  },
  {
   "cell_type": "code",
   "execution_count": 16,
   "metadata": {},
   "outputs": [
    {
     "data": {
      "text/plain": [
       "0.01631418341067354"
      ]
     },
     "execution_count": 16,
     "metadata": {},
     "output_type": "execute_result"
    }
   ],
   "source": [
    "## calculating the p valuee given the t-stat  \n",
    "stats.t.cdf(t_stat,198)*2"
   ]
  },
  {
   "cell_type": "markdown",
   "metadata": {},
   "source": [
    "`NOTE`\n",
    "* Since the orange and the green line which are our t_stat or our differences , since they have follow in the Rejection Rejection , so we reject our null hypothesis that there is no difference between the means in favour thats there is a differnce in the means"
   ]
  },
  {
   "cell_type": "markdown",
   "metadata": {},
   "source": [
    "`ONE-TAILED-HYPOTHESIS (left side)`"
   ]
  },
  {
   "cell_type": "code",
   "execution_count": 17,
   "metadata": {},
   "outputs": [
    {
     "data": {
      "application/vnd.plotly.v1+json": {
       "config": {
        "plotlyServerURL": "https://plot.ly"
       },
       "data": [
        {
         "mode": "lines",
         "name": "PDF",
         "type": "scatter",
         "x": [
          -3,
          -2.969849246231156,
          -2.9396984924623117,
          -2.909547738693467,
          -2.879396984924623,
          -2.849246231155779,
          -2.819095477386935,
          -2.7889447236180906,
          -2.758793969849246,
          -2.728643216080402,
          -2.698492462311558,
          -2.6683417085427137,
          -2.6381909547738696,
          -2.608040201005025,
          -2.577889447236181,
          -2.5477386934673367,
          -2.5175879396984926,
          -2.4874371859296485,
          -2.457286432160804,
          -2.4271356783919598,
          -2.3969849246231156,
          -2.3668341708542715,
          -2.3366834170854274,
          -2.306532663316583,
          -2.2763819095477387,
          -2.2462311557788945,
          -2.2160804020100504,
          -2.1859296482412063,
          -2.1557788944723617,
          -2.1256281407035176,
          -2.0954773869346734,
          -2.0653266331658293,
          -2.035175879396985,
          -2.0050251256281406,
          -1.9748743718592965,
          -1.9447236180904524,
          -1.914572864321608,
          -1.8844221105527639,
          -1.8542713567839197,
          -1.8241206030150754,
          -1.7939698492462313,
          -1.763819095477387,
          -1.7336683417085428,
          -1.7035175879396987,
          -1.6733668341708543,
          -1.6432160804020102,
          -1.6130653266331658,
          -1.5829145728643217,
          -1.5527638190954773,
          -1.5226130653266332,
          -1.492462311557789,
          -1.4623115577889447,
          -1.4321608040201006,
          -1.4020100502512562,
          -1.3718592964824121,
          -1.341708542713568,
          -1.3115577889447236,
          -1.2814070351758795,
          -1.2512562814070352,
          -1.221105527638191,
          -1.190954773869347,
          -1.1608040201005025,
          -1.1306532663316584,
          -1.100502512562814,
          -1.07035175879397,
          -1.0402010050251258,
          -1.0100502512562815,
          -0.9798994974874371,
          -0.949748743718593,
          -0.9195979899497488,
          -0.8894472361809047,
          -0.8592964824120606,
          -0.829145728643216,
          -0.7989949748743719,
          -0.7688442211055277,
          -0.7386934673366836,
          -0.7085427135678395,
          -0.6783919597989949,
          -0.6482412060301508,
          -0.6180904522613067,
          -0.5879396984924625,
          -0.5577889447236184,
          -0.5276381909547738,
          -0.4974874371859297,
          -0.46733668341708556,
          -0.43718592964824143,
          -0.4070351758793973,
          -0.37688442211055273,
          -0.3467336683417086,
          -0.31658291457286447,
          -0.28643216080402034,
          -0.2562814070351762,
          -0.22613065326633164,
          -0.1959798994974875,
          -0.16582914572864338,
          -0.13567839195979925,
          -0.10552763819095468,
          -0.07537688442211055,
          -0.045226130653266416,
          -0.015075376884422287,
          0.015075376884421843,
          0.045226130653266416,
          0.07537688442211055,
          0.10552763819095468,
          0.1356783919597988,
          0.16582914572864293,
          0.1959798994974875,
          0.22613065326633164,
          0.25628140703517577,
          0.2864321608040199,
          0.316582914572864,
          0.3467336683417086,
          0.37688442211055273,
          0.40703517587939686,
          0.437185929648241,
          0.4673366834170851,
          0.4974874371859297,
          0.5276381909547738,
          0.557788944723618,
          0.5879396984924621,
          0.6180904522613062,
          0.6482412060301508,
          0.6783919597989949,
          0.708542713567839,
          0.7386934673366832,
          0.7688442211055273,
          0.7989949748743719,
          0.829145728643216,
          0.8592964824120601,
          0.8894472361809043,
          0.9195979899497484,
          0.949748743718593,
          0.9798994974874371,
          1.0100502512562812,
          1.0402010050251258,
          1.0703517587939695,
          1.100502512562814,
          1.1306532663316577,
          1.1608040201005023,
          1.190954773869347,
          1.2211055276381906,
          1.2512562814070352,
          1.2814070351758788,
          1.3115577889447234,
          1.341708542713568,
          1.3718592964824117,
          1.4020100502512562,
          1.4321608040201,
          1.4623115577889445,
          1.492462311557789,
          1.5226130653266328,
          1.5527638190954773,
          1.582914572864321,
          1.6130653266331656,
          1.6432160804020102,
          1.6733668341708539,
          1.7035175879396984,
          1.7336683417085421,
          1.7638190954773867,
          1.7939698492462313,
          1.824120603015075,
          1.8542713567839195,
          1.8844221105527632,
          1.9145728643216078,
          1.9447236180904524,
          1.974874371859296,
          2.0050251256281406,
          2.0351758793969843,
          2.065326633165829,
          2.0954773869346734,
          2.125628140703517,
          2.1557788944723617,
          2.1859296482412054,
          2.21608040201005,
          2.2462311557788945,
          2.2763819095477382,
          2.306532663316583,
          2.3366834170854265,
          2.366834170854271,
          2.3969849246231156,
          2.4271356783919593,
          2.457286432160804,
          2.4874371859296476,
          2.517587939698492,
          2.5477386934673367,
          2.5778894472361804,
          2.608040201005025,
          2.6381909547738687,
          2.6683417085427132,
          2.698492462311558,
          2.7286432160804015,
          2.758793969849246,
          2.7889447236180906,
          2.8190954773869343,
          2.849246231155779,
          2.8793969849246226,
          2.909547738693467,
          2.9396984924623117,
          2.9698492462311554,
          3
         ],
         "y": [
          0.004780780171998872,
          0.005213028336169956,
          0.005679811489990097,
          0.006183428684554951,
          0.0067262881485123365,
          0.00731090842434121,
          0.007939919094980798,
          0.008616061058503651,
          0.009342186307547597,
          0.010121257169479241,
          0.010956344962785518,
          0.01185062802500631,
          0.012807389067662022,
          0.013830011814121789,
          0.01492197687722839,
          0.016086856834772827,
          0.017328310462618218,
          0.018650076087433375,
          0.02005596402363175,
          0.021549848062239262,
          0.02313565598304951,
          0.024817359065578425,
          0.026598960579010365,
          0.028484483236535636,
          0.030477955605213235,
          0.03258339746874709,
          0.03480480414732247,
          0.03714612978589608,
          0.039611269630042384,
          0.042204041316596615,
          0.04492816521486819,
          0.04778724386307644,
          0.05078474055383727,
          0.0539239571319452,
          0.05720801107728211,
          0.060639811955380124,
          0.06422203732788145,
          0.06795710822480586,
          0.07184716429005693,
          0.07589403872088397,
          0.08009923313097629,
          0.08446389247539386,
          0.08898878018353706,
          0.09367425365372865,
          0.09852024026961138,
          0.10352621410436758,
          0.10869117348362889,
          0.11401361958177793,
          0.11949153622905571,
          0.12512237110838664,
          0.1309030185210504,
          0.136829803899176,
          0.14289847024046934,
          0.14910416663653797,
          0.15544143906062063,
          0.16190422357343018,
          0.16848584209716175,
          0.1751790008975116,
          0.18197579190180008,
          0.18886769696803415,
          0.195845595205027,
          0.20289977342757284,
          0.21001993981323663,
          0.21719524080866176,
          0.22441428131352173,
          0.23166514814948935,
          0.238935436799991,
          0.2462122813842271,
          0.2534823878061258,
          0.26073206999574233,
          0.26794728913730514,
          0.27511369575484335,
          0.28221667450330085,
          0.2892413914904692,
          0.2961728439331535,
          0.30299591192993547,
          0.3096954121129223,
          0.31625615292217174,
          0.3226629912292527,
          0.3289008900208336,
          0.33495497683944986,
          0.3408106026668583,
          0.3464534009257867,
          0.3518693462685478,
          0.3570448128160389,
          0.3619666315081563,
          0.3666221462267102,
          0.3709992683545512,
          0.3750865294398523,
          0.37887313164231395,
          0.3823489956484524,
          0.38550480575603224,
          0.38833205184303915,
          0.39082306795425165,
          0.39297106725833275,
          0.3947701731502779,
          0.39621544629785255,
          0.39730290745613817,
          0.3980295559012796,
          0.39839338336275554,
          0.39839338336275554,
          0.3980295559012796,
          0.39730290745613817,
          0.39621544629785255,
          0.3947701731502779,
          0.39297106725833275,
          0.39082306795425165,
          0.38833205184303915,
          0.3855048057560323,
          0.3823489956484525,
          0.378873131642314,
          0.3750865294398523,
          0.3709992683545512,
          0.3666221462267103,
          0.36196663150815633,
          0.357044812816039,
          0.3518693462685478,
          0.3464534009257867,
          0.3408106026668584,
          0.33495497683944997,
          0.3289008900208338,
          0.3226629912292527,
          0.31625615292217174,
          0.3096954121129224,
          0.3029959119299355,
          0.29617284393315363,
          0.2892413914904692,
          0.28221667450330085,
          0.2751136957548434,
          0.26794728913730526,
          0.26073206999574244,
          0.2534823878061258,
          0.2462122813842271,
          0.23893543679999107,
          0.23166514814948935,
          0.22441428131352184,
          0.21719524080866176,
          0.21001993981323674,
          0.20289977342757293,
          0.195845595205027,
          0.18886769696803424,
          0.18197579190180008,
          0.17517900089751176,
          0.16848584209716178,
          0.16190422357343018,
          0.15544143906062075,
          0.14910416663653797,
          0.14289847024046948,
          0.13682980389917604,
          0.1309030185210504,
          0.12512237110838675,
          0.11949153622905571,
          0.11401361958177814,
          0.10869117348362893,
          0.10352621410436758,
          0.09852024026961148,
          0.09367425365372865,
          0.08898878018353715,
          0.08446389247539389,
          0.08009923313097629,
          0.07589403872088404,
          0.071847164290057,
          0.06795710822480595,
          0.06422203732788145,
          0.060639811955380124,
          0.057208011077282156,
          0.0539239571319452,
          0.05078474055383734,
          0.04778724386307648,
          0.04492816521486819,
          0.042204041316596635,
          0.039611269630042384,
          0.03714612978589616,
          0.034804804147322496,
          0.03258339746874709,
          0.030477955605213262,
          0.028484483236535636,
          0.026598960579010414,
          0.024817359065578457,
          0.02313565598304951,
          0.02154984806223929,
          0.02005596402363175,
          0.018650076087433416,
          0.01732831046261825,
          0.016086856834772827,
          0.014921976877228403,
          0.013830011814121789,
          0.012807389067662057,
          0.011850628025006332,
          0.010956344962785518,
          0.010121257169479252,
          0.009342186307547597,
          0.008616061058503651,
          0.007939919094980812,
          0.00731090842434121,
          0.006726288148512343,
          0.006183428684554951,
          0.005679811489990097,
          0.00521302833616997,
          0.004780780171998872
         ]
        },
        {
         "line": {
          "color": "red",
          "dash": "dash"
         },
         "mode": "lines",
         "name": "Critical Value",
         "type": "scatter",
         "x": [
          -1.6525857836172082,
          -1.6525857836172082
         ],
         "y": [
          0,
          0.4
         ]
        },
        {
         "line": {
          "color": "green",
          "dash": "dash"
         },
         "mode": "lines",
         "name": "t-statistic",
         "type": "scatter",
         "x": [
          -2.4225046120579825,
          -2.4225046120579825
         ],
         "y": [
          0,
          0.4
         ]
        }
       ],
       "layout": {
        "showlegend": true,
        "template": {
         "data": {
          "bar": [
           {
            "error_x": {
             "color": "rgb(36,36,36)"
            },
            "error_y": {
             "color": "rgb(36,36,36)"
            },
            "marker": {
             "line": {
              "color": "rgb(234,234,242)",
              "width": 0.5
             },
             "pattern": {
              "fillmode": "overlay",
              "size": 10,
              "solidity": 0.2
             }
            },
            "type": "bar"
           }
          ],
          "barpolar": [
           {
            "marker": {
             "line": {
              "color": "rgb(234,234,242)",
              "width": 0.5
             },
             "pattern": {
              "fillmode": "overlay",
              "size": 10,
              "solidity": 0.2
             }
            },
            "type": "barpolar"
           }
          ],
          "carpet": [
           {
            "aaxis": {
             "endlinecolor": "rgb(36,36,36)",
             "gridcolor": "white",
             "linecolor": "white",
             "minorgridcolor": "white",
             "startlinecolor": "rgb(36,36,36)"
            },
            "baxis": {
             "endlinecolor": "rgb(36,36,36)",
             "gridcolor": "white",
             "linecolor": "white",
             "minorgridcolor": "white",
             "startlinecolor": "rgb(36,36,36)"
            },
            "type": "carpet"
           }
          ],
          "choropleth": [
           {
            "colorbar": {
             "outlinewidth": 0,
             "tickcolor": "rgb(36,36,36)",
             "ticklen": 8,
             "ticks": "outside",
             "tickwidth": 2
            },
            "type": "choropleth"
           }
          ],
          "contour": [
           {
            "colorbar": {
             "outlinewidth": 0,
             "tickcolor": "rgb(36,36,36)",
             "ticklen": 8,
             "ticks": "outside",
             "tickwidth": 2
            },
            "colorscale": [
             [
              0,
              "rgb(2,4,25)"
             ],
             [
              0.06274509803921569,
              "rgb(24,15,41)"
             ],
             [
              0.12549019607843137,
              "rgb(47,23,57)"
             ],
             [
              0.18823529411764706,
              "rgb(71,28,72)"
             ],
             [
              0.25098039215686274,
              "rgb(97,30,82)"
             ],
             [
              0.3137254901960784,
              "rgb(123,30,89)"
             ],
             [
              0.3764705882352941,
              "rgb(150,27,91)"
             ],
             [
              0.4392156862745098,
              "rgb(177,22,88)"
             ],
             [
              0.5019607843137255,
              "rgb(203,26,79)"
             ],
             [
              0.5647058823529412,
              "rgb(223,47,67)"
             ],
             [
              0.6274509803921569,
              "rgb(236,76,61)"
             ],
             [
              0.6901960784313725,
              "rgb(242,107,73)"
             ],
             [
              0.7529411764705882,
              "rgb(244,135,95)"
             ],
             [
              0.8156862745098039,
              "rgb(245,162,122)"
             ],
             [
              0.8784313725490196,
              "rgb(246,188,153)"
             ],
             [
              0.9411764705882353,
              "rgb(247,212,187)"
             ],
             [
              1,
              "rgb(250,234,220)"
             ]
            ],
            "type": "contour"
           }
          ],
          "contourcarpet": [
           {
            "colorbar": {
             "outlinewidth": 0,
             "tickcolor": "rgb(36,36,36)",
             "ticklen": 8,
             "ticks": "outside",
             "tickwidth": 2
            },
            "type": "contourcarpet"
           }
          ],
          "heatmap": [
           {
            "colorbar": {
             "outlinewidth": 0,
             "tickcolor": "rgb(36,36,36)",
             "ticklen": 8,
             "ticks": "outside",
             "tickwidth": 2
            },
            "colorscale": [
             [
              0,
              "rgb(2,4,25)"
             ],
             [
              0.06274509803921569,
              "rgb(24,15,41)"
             ],
             [
              0.12549019607843137,
              "rgb(47,23,57)"
             ],
             [
              0.18823529411764706,
              "rgb(71,28,72)"
             ],
             [
              0.25098039215686274,
              "rgb(97,30,82)"
             ],
             [
              0.3137254901960784,
              "rgb(123,30,89)"
             ],
             [
              0.3764705882352941,
              "rgb(150,27,91)"
             ],
             [
              0.4392156862745098,
              "rgb(177,22,88)"
             ],
             [
              0.5019607843137255,
              "rgb(203,26,79)"
             ],
             [
              0.5647058823529412,
              "rgb(223,47,67)"
             ],
             [
              0.6274509803921569,
              "rgb(236,76,61)"
             ],
             [
              0.6901960784313725,
              "rgb(242,107,73)"
             ],
             [
              0.7529411764705882,
              "rgb(244,135,95)"
             ],
             [
              0.8156862745098039,
              "rgb(245,162,122)"
             ],
             [
              0.8784313725490196,
              "rgb(246,188,153)"
             ],
             [
              0.9411764705882353,
              "rgb(247,212,187)"
             ],
             [
              1,
              "rgb(250,234,220)"
             ]
            ],
            "type": "heatmap"
           }
          ],
          "heatmapgl": [
           {
            "colorbar": {
             "outlinewidth": 0,
             "tickcolor": "rgb(36,36,36)",
             "ticklen": 8,
             "ticks": "outside",
             "tickwidth": 2
            },
            "colorscale": [
             [
              0,
              "rgb(2,4,25)"
             ],
             [
              0.06274509803921569,
              "rgb(24,15,41)"
             ],
             [
              0.12549019607843137,
              "rgb(47,23,57)"
             ],
             [
              0.18823529411764706,
              "rgb(71,28,72)"
             ],
             [
              0.25098039215686274,
              "rgb(97,30,82)"
             ],
             [
              0.3137254901960784,
              "rgb(123,30,89)"
             ],
             [
              0.3764705882352941,
              "rgb(150,27,91)"
             ],
             [
              0.4392156862745098,
              "rgb(177,22,88)"
             ],
             [
              0.5019607843137255,
              "rgb(203,26,79)"
             ],
             [
              0.5647058823529412,
              "rgb(223,47,67)"
             ],
             [
              0.6274509803921569,
              "rgb(236,76,61)"
             ],
             [
              0.6901960784313725,
              "rgb(242,107,73)"
             ],
             [
              0.7529411764705882,
              "rgb(244,135,95)"
             ],
             [
              0.8156862745098039,
              "rgb(245,162,122)"
             ],
             [
              0.8784313725490196,
              "rgb(246,188,153)"
             ],
             [
              0.9411764705882353,
              "rgb(247,212,187)"
             ],
             [
              1,
              "rgb(250,234,220)"
             ]
            ],
            "type": "heatmapgl"
           }
          ],
          "histogram": [
           {
            "marker": {
             "pattern": {
              "fillmode": "overlay",
              "size": 10,
              "solidity": 0.2
             }
            },
            "type": "histogram"
           }
          ],
          "histogram2d": [
           {
            "colorbar": {
             "outlinewidth": 0,
             "tickcolor": "rgb(36,36,36)",
             "ticklen": 8,
             "ticks": "outside",
             "tickwidth": 2
            },
            "colorscale": [
             [
              0,
              "rgb(2,4,25)"
             ],
             [
              0.06274509803921569,
              "rgb(24,15,41)"
             ],
             [
              0.12549019607843137,
              "rgb(47,23,57)"
             ],
             [
              0.18823529411764706,
              "rgb(71,28,72)"
             ],
             [
              0.25098039215686274,
              "rgb(97,30,82)"
             ],
             [
              0.3137254901960784,
              "rgb(123,30,89)"
             ],
             [
              0.3764705882352941,
              "rgb(150,27,91)"
             ],
             [
              0.4392156862745098,
              "rgb(177,22,88)"
             ],
             [
              0.5019607843137255,
              "rgb(203,26,79)"
             ],
             [
              0.5647058823529412,
              "rgb(223,47,67)"
             ],
             [
              0.6274509803921569,
              "rgb(236,76,61)"
             ],
             [
              0.6901960784313725,
              "rgb(242,107,73)"
             ],
             [
              0.7529411764705882,
              "rgb(244,135,95)"
             ],
             [
              0.8156862745098039,
              "rgb(245,162,122)"
             ],
             [
              0.8784313725490196,
              "rgb(246,188,153)"
             ],
             [
              0.9411764705882353,
              "rgb(247,212,187)"
             ],
             [
              1,
              "rgb(250,234,220)"
             ]
            ],
            "type": "histogram2d"
           }
          ],
          "histogram2dcontour": [
           {
            "colorbar": {
             "outlinewidth": 0,
             "tickcolor": "rgb(36,36,36)",
             "ticklen": 8,
             "ticks": "outside",
             "tickwidth": 2
            },
            "colorscale": [
             [
              0,
              "rgb(2,4,25)"
             ],
             [
              0.06274509803921569,
              "rgb(24,15,41)"
             ],
             [
              0.12549019607843137,
              "rgb(47,23,57)"
             ],
             [
              0.18823529411764706,
              "rgb(71,28,72)"
             ],
             [
              0.25098039215686274,
              "rgb(97,30,82)"
             ],
             [
              0.3137254901960784,
              "rgb(123,30,89)"
             ],
             [
              0.3764705882352941,
              "rgb(150,27,91)"
             ],
             [
              0.4392156862745098,
              "rgb(177,22,88)"
             ],
             [
              0.5019607843137255,
              "rgb(203,26,79)"
             ],
             [
              0.5647058823529412,
              "rgb(223,47,67)"
             ],
             [
              0.6274509803921569,
              "rgb(236,76,61)"
             ],
             [
              0.6901960784313725,
              "rgb(242,107,73)"
             ],
             [
              0.7529411764705882,
              "rgb(244,135,95)"
             ],
             [
              0.8156862745098039,
              "rgb(245,162,122)"
             ],
             [
              0.8784313725490196,
              "rgb(246,188,153)"
             ],
             [
              0.9411764705882353,
              "rgb(247,212,187)"
             ],
             [
              1,
              "rgb(250,234,220)"
             ]
            ],
            "type": "histogram2dcontour"
           }
          ],
          "mesh3d": [
           {
            "colorbar": {
             "outlinewidth": 0,
             "tickcolor": "rgb(36,36,36)",
             "ticklen": 8,
             "ticks": "outside",
             "tickwidth": 2
            },
            "type": "mesh3d"
           }
          ],
          "parcoords": [
           {
            "line": {
             "colorbar": {
              "outlinewidth": 0,
              "tickcolor": "rgb(36,36,36)",
              "ticklen": 8,
              "ticks": "outside",
              "tickwidth": 2
             }
            },
            "type": "parcoords"
           }
          ],
          "pie": [
           {
            "automargin": true,
            "type": "pie"
           }
          ],
          "scatter": [
           {
            "fillpattern": {
             "fillmode": "overlay",
             "size": 10,
             "solidity": 0.2
            },
            "type": "scatter"
           }
          ],
          "scatter3d": [
           {
            "line": {
             "colorbar": {
              "outlinewidth": 0,
              "tickcolor": "rgb(36,36,36)",
              "ticklen": 8,
              "ticks": "outside",
              "tickwidth": 2
             }
            },
            "marker": {
             "colorbar": {
              "outlinewidth": 0,
              "tickcolor": "rgb(36,36,36)",
              "ticklen": 8,
              "ticks": "outside",
              "tickwidth": 2
             }
            },
            "type": "scatter3d"
           }
          ],
          "scattercarpet": [
           {
            "marker": {
             "colorbar": {
              "outlinewidth": 0,
              "tickcolor": "rgb(36,36,36)",
              "ticklen": 8,
              "ticks": "outside",
              "tickwidth": 2
             }
            },
            "type": "scattercarpet"
           }
          ],
          "scattergeo": [
           {
            "marker": {
             "colorbar": {
              "outlinewidth": 0,
              "tickcolor": "rgb(36,36,36)",
              "ticklen": 8,
              "ticks": "outside",
              "tickwidth": 2
             }
            },
            "type": "scattergeo"
           }
          ],
          "scattergl": [
           {
            "marker": {
             "colorbar": {
              "outlinewidth": 0,
              "tickcolor": "rgb(36,36,36)",
              "ticklen": 8,
              "ticks": "outside",
              "tickwidth": 2
             }
            },
            "type": "scattergl"
           }
          ],
          "scattermapbox": [
           {
            "marker": {
             "colorbar": {
              "outlinewidth": 0,
              "tickcolor": "rgb(36,36,36)",
              "ticklen": 8,
              "ticks": "outside",
              "tickwidth": 2
             }
            },
            "type": "scattermapbox"
           }
          ],
          "scatterpolar": [
           {
            "marker": {
             "colorbar": {
              "outlinewidth": 0,
              "tickcolor": "rgb(36,36,36)",
              "ticklen": 8,
              "ticks": "outside",
              "tickwidth": 2
             }
            },
            "type": "scatterpolar"
           }
          ],
          "scatterpolargl": [
           {
            "marker": {
             "colorbar": {
              "outlinewidth": 0,
              "tickcolor": "rgb(36,36,36)",
              "ticklen": 8,
              "ticks": "outside",
              "tickwidth": 2
             }
            },
            "type": "scatterpolargl"
           }
          ],
          "scatterternary": [
           {
            "marker": {
             "colorbar": {
              "outlinewidth": 0,
              "tickcolor": "rgb(36,36,36)",
              "ticklen": 8,
              "ticks": "outside",
              "tickwidth": 2
             }
            },
            "type": "scatterternary"
           }
          ],
          "surface": [
           {
            "colorbar": {
             "outlinewidth": 0,
             "tickcolor": "rgb(36,36,36)",
             "ticklen": 8,
             "ticks": "outside",
             "tickwidth": 2
            },
            "colorscale": [
             [
              0,
              "rgb(2,4,25)"
             ],
             [
              0.06274509803921569,
              "rgb(24,15,41)"
             ],
             [
              0.12549019607843137,
              "rgb(47,23,57)"
             ],
             [
              0.18823529411764706,
              "rgb(71,28,72)"
             ],
             [
              0.25098039215686274,
              "rgb(97,30,82)"
             ],
             [
              0.3137254901960784,
              "rgb(123,30,89)"
             ],
             [
              0.3764705882352941,
              "rgb(150,27,91)"
             ],
             [
              0.4392156862745098,
              "rgb(177,22,88)"
             ],
             [
              0.5019607843137255,
              "rgb(203,26,79)"
             ],
             [
              0.5647058823529412,
              "rgb(223,47,67)"
             ],
             [
              0.6274509803921569,
              "rgb(236,76,61)"
             ],
             [
              0.6901960784313725,
              "rgb(242,107,73)"
             ],
             [
              0.7529411764705882,
              "rgb(244,135,95)"
             ],
             [
              0.8156862745098039,
              "rgb(245,162,122)"
             ],
             [
              0.8784313725490196,
              "rgb(246,188,153)"
             ],
             [
              0.9411764705882353,
              "rgb(247,212,187)"
             ],
             [
              1,
              "rgb(250,234,220)"
             ]
            ],
            "type": "surface"
           }
          ],
          "table": [
           {
            "cells": {
             "fill": {
              "color": "rgb(231,231,240)"
             },
             "line": {
              "color": "white"
             }
            },
            "header": {
             "fill": {
              "color": "rgb(183,183,191)"
             },
             "line": {
              "color": "white"
             }
            },
            "type": "table"
           }
          ]
         },
         "layout": {
          "annotationdefaults": {
           "arrowcolor": "rgb(67,103,167)",
           "arrowhead": 0,
           "arrowwidth": 1
          },
          "autotypenumbers": "strict",
          "coloraxis": {
           "colorbar": {
            "outlinewidth": 0,
            "tickcolor": "rgb(36,36,36)",
            "ticklen": 8,
            "ticks": "outside",
            "tickwidth": 2
           }
          },
          "colorscale": {
           "sequential": [
            [
             0,
             "rgb(2,4,25)"
            ],
            [
             0.06274509803921569,
             "rgb(24,15,41)"
            ],
            [
             0.12549019607843137,
             "rgb(47,23,57)"
            ],
            [
             0.18823529411764706,
             "rgb(71,28,72)"
            ],
            [
             0.25098039215686274,
             "rgb(97,30,82)"
            ],
            [
             0.3137254901960784,
             "rgb(123,30,89)"
            ],
            [
             0.3764705882352941,
             "rgb(150,27,91)"
            ],
            [
             0.4392156862745098,
             "rgb(177,22,88)"
            ],
            [
             0.5019607843137255,
             "rgb(203,26,79)"
            ],
            [
             0.5647058823529412,
             "rgb(223,47,67)"
            ],
            [
             0.6274509803921569,
             "rgb(236,76,61)"
            ],
            [
             0.6901960784313725,
             "rgb(242,107,73)"
            ],
            [
             0.7529411764705882,
             "rgb(244,135,95)"
            ],
            [
             0.8156862745098039,
             "rgb(245,162,122)"
            ],
            [
             0.8784313725490196,
             "rgb(246,188,153)"
            ],
            [
             0.9411764705882353,
             "rgb(247,212,187)"
            ],
            [
             1,
             "rgb(250,234,220)"
            ]
           ],
           "sequentialminus": [
            [
             0,
             "rgb(2,4,25)"
            ],
            [
             0.06274509803921569,
             "rgb(24,15,41)"
            ],
            [
             0.12549019607843137,
             "rgb(47,23,57)"
            ],
            [
             0.18823529411764706,
             "rgb(71,28,72)"
            ],
            [
             0.25098039215686274,
             "rgb(97,30,82)"
            ],
            [
             0.3137254901960784,
             "rgb(123,30,89)"
            ],
            [
             0.3764705882352941,
             "rgb(150,27,91)"
            ],
            [
             0.4392156862745098,
             "rgb(177,22,88)"
            ],
            [
             0.5019607843137255,
             "rgb(203,26,79)"
            ],
            [
             0.5647058823529412,
             "rgb(223,47,67)"
            ],
            [
             0.6274509803921569,
             "rgb(236,76,61)"
            ],
            [
             0.6901960784313725,
             "rgb(242,107,73)"
            ],
            [
             0.7529411764705882,
             "rgb(244,135,95)"
            ],
            [
             0.8156862745098039,
             "rgb(245,162,122)"
            ],
            [
             0.8784313725490196,
             "rgb(246,188,153)"
            ],
            [
             0.9411764705882353,
             "rgb(247,212,187)"
            ],
            [
             1,
             "rgb(250,234,220)"
            ]
           ]
          },
          "colorway": [
           "rgb(76,114,176)",
           "rgb(221,132,82)",
           "rgb(85,168,104)",
           "rgb(196,78,82)",
           "rgb(129,114,179)",
           "rgb(147,120,96)",
           "rgb(218,139,195)",
           "rgb(140,140,140)",
           "rgb(204,185,116)",
           "rgb(100,181,205)"
          ],
          "font": {
           "color": "rgb(36,36,36)"
          },
          "geo": {
           "bgcolor": "white",
           "lakecolor": "white",
           "landcolor": "rgb(234,234,242)",
           "showlakes": true,
           "showland": true,
           "subunitcolor": "white"
          },
          "hoverlabel": {
           "align": "left"
          },
          "hovermode": "closest",
          "paper_bgcolor": "white",
          "plot_bgcolor": "rgb(234,234,242)",
          "polar": {
           "angularaxis": {
            "gridcolor": "white",
            "linecolor": "white",
            "showgrid": true,
            "tickcolor": "rgb(51,51,51)",
            "ticks": ""
           },
           "bgcolor": "rgb(234,234,242)",
           "radialaxis": {
            "gridcolor": "white",
            "linecolor": "white",
            "showgrid": true,
            "tickcolor": "rgb(51,51,51)",
            "ticks": ""
           }
          },
          "scene": {
           "xaxis": {
            "backgroundcolor": "rgb(234,234,242)",
            "gridcolor": "white",
            "gridwidth": 2,
            "linecolor": "white",
            "showbackground": true,
            "showgrid": true,
            "tickcolor": "rgb(51,51,51)",
            "ticks": "",
            "zerolinecolor": "white"
           },
           "yaxis": {
            "backgroundcolor": "rgb(234,234,242)",
            "gridcolor": "white",
            "gridwidth": 2,
            "linecolor": "white",
            "showbackground": true,
            "showgrid": true,
            "tickcolor": "rgb(51,51,51)",
            "ticks": "",
            "zerolinecolor": "white"
           },
           "zaxis": {
            "backgroundcolor": "rgb(234,234,242)",
            "gridcolor": "white",
            "gridwidth": 2,
            "linecolor": "white",
            "showbackground": true,
            "showgrid": true,
            "tickcolor": "rgb(51,51,51)",
            "ticks": "",
            "zerolinecolor": "white"
           }
          },
          "shapedefaults": {
           "fillcolor": "rgb(67,103,167)",
           "line": {
            "width": 0
           },
           "opacity": 0.5
          },
          "ternary": {
           "aaxis": {
            "gridcolor": "white",
            "linecolor": "white",
            "showgrid": true,
            "tickcolor": "rgb(51,51,51)",
            "ticks": ""
           },
           "baxis": {
            "gridcolor": "white",
            "linecolor": "white",
            "showgrid": true,
            "tickcolor": "rgb(51,51,51)",
            "ticks": ""
           },
           "bgcolor": "rgb(234,234,242)",
           "caxis": {
            "gridcolor": "white",
            "linecolor": "white",
            "showgrid": true,
            "tickcolor": "rgb(51,51,51)",
            "ticks": ""
           }
          },
          "xaxis": {
           "automargin": true,
           "gridcolor": "white",
           "linecolor": "white",
           "showgrid": true,
           "tickcolor": "rgb(51,51,51)",
           "ticks": "",
           "title": {
            "standoff": 15
           },
           "zerolinecolor": "white"
          },
          "yaxis": {
           "automargin": true,
           "gridcolor": "white",
           "linecolor": "white",
           "showgrid": true,
           "tickcolor": "rgb(51,51,51)",
           "ticks": "",
           "title": {
            "standoff": 15
           },
           "zerolinecolor": "white"
          }
         }
        },
        "title": {
         "text": "ONE-TAILED TEST (LEFT TAIL)"
        },
        "xaxis": {
         "title": {
          "text": "t-value"
         }
        },
        "yaxis": {
         "title": {
          "text": "Density"
         }
        }
       }
      }
     },
     "metadata": {},
     "output_type": "display_data"
    }
   ],
   "source": [
    "import numpy as np\n",
    "import scipy.stats as stats\n",
    "import plotly.graph_objects as go\n",
    "\n",
    "## Calculate the t_critical value for the left tail\n",
    "t_crit = stats.t.ppf(0.05, 198)  # Critical value for the left tail\n",
    "\n",
    "## The values of the distribution\n",
    "t_xvals = np.linspace(-3, 3, 200)\n",
    "\n",
    "## The PDF of the t-distribution\n",
    "t_dist_pdf = stats.t.pdf(t_xvals, 198)\n",
    "\n",
    "## Plot the PDF\n",
    "t_dist_fig_one = go.Figure()\n",
    "\n",
    "## Add the PDF trace\n",
    "t_dist_fig_one.add_trace(\n",
    "    go.Scatter(\n",
    "        x=t_xvals,\n",
    "        y=t_dist_pdf,\n",
    "        name='PDF',\n",
    "        mode='lines'\n",
    "    )\n",
    ")\n",
    "\n",
    "## Add the critical value line (left tail)\n",
    "t_dist_fig_one.add_trace(\n",
    "    go.Scatter(\n",
    "        x=[t_crit, t_crit],  # Use t_crit for the left tail\n",
    "        y=[0, 0.4],\n",
    "        name='Critical Value',\n",
    "        mode='lines',\n",
    "        line=dict(color='red', dash='dash')  # Customize line color and style\n",
    "    )\n",
    ")\n",
    "\n",
    "## Add the t-statistic line (left tail)  # Replace this with your actual t-statistic value\n",
    "t_dist_fig_one.add_trace(\n",
    "    go.Scatter(\n",
    "        x=[t_stat, t_stat],  # Use the t-statistic value\n",
    "        y=[0, 0.4],\n",
    "        name='t-statistic',\n",
    "        mode='lines',\n",
    "        line=dict(color='green', dash='dash')  # Customize line color and style\n",
    "    )\n",
    ")\n",
    "\n",
    "## Update layout\n",
    "t_dist_fig_one.update_layout(\n",
    "    title='ONE-TAILED TEST (LEFT TAIL)',\n",
    "    xaxis_title='t-value',\n",
    "    yaxis_title='Density',\n",
    "    showlegend=True\n",
    ")\n",
    "\n",
    "## Show the figure\n",
    "t_dist_fig_one.show()"
   ]
  },
  {
   "cell_type": "code",
   "execution_count": 18,
   "metadata": {},
   "outputs": [
    {
     "data": {
      "text/plain": [
       "0.00815709170533677"
      ]
     },
     "execution_count": 18,
     "metadata": {},
     "output_type": "execute_result"
    }
   ],
   "source": [
    "## calculating the p_value  \n",
    "stats.t.cdf(t_stat,198)"
   ]
  },
  {
   "cell_type": "markdown",
   "metadata": {},
   "source": [
    "`ONE-TAILED (RIGHT)`"
   ]
  },
  {
   "cell_type": "code",
   "execution_count": 19,
   "metadata": {},
   "outputs": [
    {
     "data": {
      "application/vnd.plotly.v1+json": {
       "config": {
        "plotlyServerURL": "https://plot.ly"
       },
       "data": [
        {
         "mode": "lines",
         "name": "PDF",
         "type": "scatter",
         "x": [
          -3,
          -2.969849246231156,
          -2.9396984924623117,
          -2.909547738693467,
          -2.879396984924623,
          -2.849246231155779,
          -2.819095477386935,
          -2.7889447236180906,
          -2.758793969849246,
          -2.728643216080402,
          -2.698492462311558,
          -2.6683417085427137,
          -2.6381909547738696,
          -2.608040201005025,
          -2.577889447236181,
          -2.5477386934673367,
          -2.5175879396984926,
          -2.4874371859296485,
          -2.457286432160804,
          -2.4271356783919598,
          -2.3969849246231156,
          -2.3668341708542715,
          -2.3366834170854274,
          -2.306532663316583,
          -2.2763819095477387,
          -2.2462311557788945,
          -2.2160804020100504,
          -2.1859296482412063,
          -2.1557788944723617,
          -2.1256281407035176,
          -2.0954773869346734,
          -2.0653266331658293,
          -2.035175879396985,
          -2.0050251256281406,
          -1.9748743718592965,
          -1.9447236180904524,
          -1.914572864321608,
          -1.8844221105527639,
          -1.8542713567839197,
          -1.8241206030150754,
          -1.7939698492462313,
          -1.763819095477387,
          -1.7336683417085428,
          -1.7035175879396987,
          -1.6733668341708543,
          -1.6432160804020102,
          -1.6130653266331658,
          -1.5829145728643217,
          -1.5527638190954773,
          -1.5226130653266332,
          -1.492462311557789,
          -1.4623115577889447,
          -1.4321608040201006,
          -1.4020100502512562,
          -1.3718592964824121,
          -1.341708542713568,
          -1.3115577889447236,
          -1.2814070351758795,
          -1.2512562814070352,
          -1.221105527638191,
          -1.190954773869347,
          -1.1608040201005025,
          -1.1306532663316584,
          -1.100502512562814,
          -1.07035175879397,
          -1.0402010050251258,
          -1.0100502512562815,
          -0.9798994974874371,
          -0.949748743718593,
          -0.9195979899497488,
          -0.8894472361809047,
          -0.8592964824120606,
          -0.829145728643216,
          -0.7989949748743719,
          -0.7688442211055277,
          -0.7386934673366836,
          -0.7085427135678395,
          -0.6783919597989949,
          -0.6482412060301508,
          -0.6180904522613067,
          -0.5879396984924625,
          -0.5577889447236184,
          -0.5276381909547738,
          -0.4974874371859297,
          -0.46733668341708556,
          -0.43718592964824143,
          -0.4070351758793973,
          -0.37688442211055273,
          -0.3467336683417086,
          -0.31658291457286447,
          -0.28643216080402034,
          -0.2562814070351762,
          -0.22613065326633164,
          -0.1959798994974875,
          -0.16582914572864338,
          -0.13567839195979925,
          -0.10552763819095468,
          -0.07537688442211055,
          -0.045226130653266416,
          -0.015075376884422287,
          0.015075376884421843,
          0.045226130653266416,
          0.07537688442211055,
          0.10552763819095468,
          0.1356783919597988,
          0.16582914572864293,
          0.1959798994974875,
          0.22613065326633164,
          0.25628140703517577,
          0.2864321608040199,
          0.316582914572864,
          0.3467336683417086,
          0.37688442211055273,
          0.40703517587939686,
          0.437185929648241,
          0.4673366834170851,
          0.4974874371859297,
          0.5276381909547738,
          0.557788944723618,
          0.5879396984924621,
          0.6180904522613062,
          0.6482412060301508,
          0.6783919597989949,
          0.708542713567839,
          0.7386934673366832,
          0.7688442211055273,
          0.7989949748743719,
          0.829145728643216,
          0.8592964824120601,
          0.8894472361809043,
          0.9195979899497484,
          0.949748743718593,
          0.9798994974874371,
          1.0100502512562812,
          1.0402010050251258,
          1.0703517587939695,
          1.100502512562814,
          1.1306532663316577,
          1.1608040201005023,
          1.190954773869347,
          1.2211055276381906,
          1.2512562814070352,
          1.2814070351758788,
          1.3115577889447234,
          1.341708542713568,
          1.3718592964824117,
          1.4020100502512562,
          1.4321608040201,
          1.4623115577889445,
          1.492462311557789,
          1.5226130653266328,
          1.5527638190954773,
          1.582914572864321,
          1.6130653266331656,
          1.6432160804020102,
          1.6733668341708539,
          1.7035175879396984,
          1.7336683417085421,
          1.7638190954773867,
          1.7939698492462313,
          1.824120603015075,
          1.8542713567839195,
          1.8844221105527632,
          1.9145728643216078,
          1.9447236180904524,
          1.974874371859296,
          2.0050251256281406,
          2.0351758793969843,
          2.065326633165829,
          2.0954773869346734,
          2.125628140703517,
          2.1557788944723617,
          2.1859296482412054,
          2.21608040201005,
          2.2462311557788945,
          2.2763819095477382,
          2.306532663316583,
          2.3366834170854265,
          2.366834170854271,
          2.3969849246231156,
          2.4271356783919593,
          2.457286432160804,
          2.4874371859296476,
          2.517587939698492,
          2.5477386934673367,
          2.5778894472361804,
          2.608040201005025,
          2.6381909547738687,
          2.6683417085427132,
          2.698492462311558,
          2.7286432160804015,
          2.758793969849246,
          2.7889447236180906,
          2.8190954773869343,
          2.849246231155779,
          2.8793969849246226,
          2.909547738693467,
          2.9396984924623117,
          2.9698492462311554,
          3
         ],
         "y": [
          0.004780780171998872,
          0.005213028336169956,
          0.005679811489990097,
          0.006183428684554951,
          0.0067262881485123365,
          0.00731090842434121,
          0.007939919094980798,
          0.008616061058503651,
          0.009342186307547597,
          0.010121257169479241,
          0.010956344962785518,
          0.01185062802500631,
          0.012807389067662022,
          0.013830011814121789,
          0.01492197687722839,
          0.016086856834772827,
          0.017328310462618218,
          0.018650076087433375,
          0.02005596402363175,
          0.021549848062239262,
          0.02313565598304951,
          0.024817359065578425,
          0.026598960579010365,
          0.028484483236535636,
          0.030477955605213235,
          0.03258339746874709,
          0.03480480414732247,
          0.03714612978589608,
          0.039611269630042384,
          0.042204041316596615,
          0.04492816521486819,
          0.04778724386307644,
          0.05078474055383727,
          0.0539239571319452,
          0.05720801107728211,
          0.060639811955380124,
          0.06422203732788145,
          0.06795710822480586,
          0.07184716429005693,
          0.07589403872088397,
          0.08009923313097629,
          0.08446389247539386,
          0.08898878018353706,
          0.09367425365372865,
          0.09852024026961138,
          0.10352621410436758,
          0.10869117348362889,
          0.11401361958177793,
          0.11949153622905571,
          0.12512237110838664,
          0.1309030185210504,
          0.136829803899176,
          0.14289847024046934,
          0.14910416663653797,
          0.15544143906062063,
          0.16190422357343018,
          0.16848584209716175,
          0.1751790008975116,
          0.18197579190180008,
          0.18886769696803415,
          0.195845595205027,
          0.20289977342757284,
          0.21001993981323663,
          0.21719524080866176,
          0.22441428131352173,
          0.23166514814948935,
          0.238935436799991,
          0.2462122813842271,
          0.2534823878061258,
          0.26073206999574233,
          0.26794728913730514,
          0.27511369575484335,
          0.28221667450330085,
          0.2892413914904692,
          0.2961728439331535,
          0.30299591192993547,
          0.3096954121129223,
          0.31625615292217174,
          0.3226629912292527,
          0.3289008900208336,
          0.33495497683944986,
          0.3408106026668583,
          0.3464534009257867,
          0.3518693462685478,
          0.3570448128160389,
          0.3619666315081563,
          0.3666221462267102,
          0.3709992683545512,
          0.3750865294398523,
          0.37887313164231395,
          0.3823489956484524,
          0.38550480575603224,
          0.38833205184303915,
          0.39082306795425165,
          0.39297106725833275,
          0.3947701731502779,
          0.39621544629785255,
          0.39730290745613817,
          0.3980295559012796,
          0.39839338336275554,
          0.39839338336275554,
          0.3980295559012796,
          0.39730290745613817,
          0.39621544629785255,
          0.3947701731502779,
          0.39297106725833275,
          0.39082306795425165,
          0.38833205184303915,
          0.3855048057560323,
          0.3823489956484525,
          0.378873131642314,
          0.3750865294398523,
          0.3709992683545512,
          0.3666221462267103,
          0.36196663150815633,
          0.357044812816039,
          0.3518693462685478,
          0.3464534009257867,
          0.3408106026668584,
          0.33495497683944997,
          0.3289008900208338,
          0.3226629912292527,
          0.31625615292217174,
          0.3096954121129224,
          0.3029959119299355,
          0.29617284393315363,
          0.2892413914904692,
          0.28221667450330085,
          0.2751136957548434,
          0.26794728913730526,
          0.26073206999574244,
          0.2534823878061258,
          0.2462122813842271,
          0.23893543679999107,
          0.23166514814948935,
          0.22441428131352184,
          0.21719524080866176,
          0.21001993981323674,
          0.20289977342757293,
          0.195845595205027,
          0.18886769696803424,
          0.18197579190180008,
          0.17517900089751176,
          0.16848584209716178,
          0.16190422357343018,
          0.15544143906062075,
          0.14910416663653797,
          0.14289847024046948,
          0.13682980389917604,
          0.1309030185210504,
          0.12512237110838675,
          0.11949153622905571,
          0.11401361958177814,
          0.10869117348362893,
          0.10352621410436758,
          0.09852024026961148,
          0.09367425365372865,
          0.08898878018353715,
          0.08446389247539389,
          0.08009923313097629,
          0.07589403872088404,
          0.071847164290057,
          0.06795710822480595,
          0.06422203732788145,
          0.060639811955380124,
          0.057208011077282156,
          0.0539239571319452,
          0.05078474055383734,
          0.04778724386307648,
          0.04492816521486819,
          0.042204041316596635,
          0.039611269630042384,
          0.03714612978589616,
          0.034804804147322496,
          0.03258339746874709,
          0.030477955605213262,
          0.028484483236535636,
          0.026598960579010414,
          0.024817359065578457,
          0.02313565598304951,
          0.02154984806223929,
          0.02005596402363175,
          0.018650076087433416,
          0.01732831046261825,
          0.016086856834772827,
          0.014921976877228403,
          0.013830011814121789,
          0.012807389067662057,
          0.011850628025006332,
          0.010956344962785518,
          0.010121257169479252,
          0.009342186307547597,
          0.008616061058503651,
          0.007939919094980812,
          0.00731090842434121,
          0.006726288148512343,
          0.006183428684554951,
          0.005679811489990097,
          0.00521302833616997,
          0.004780780171998872
         ]
        },
        {
         "line": {
          "color": "red",
          "dash": "dash"
         },
         "mode": "lines",
         "name": "Critical Value",
         "type": "scatter",
         "x": [
          1.6525857836172075,
          1.6525857836172075
         ],
         "y": [
          0,
          0.4
         ]
        },
        {
         "line": {
          "color": "green",
          "dash": "dash"
         },
         "mode": "lines",
         "name": "t-statistic",
         "type": "scatter",
         "x": [
          -2.4225046120579825,
          -2.4225046120579825
         ],
         "y": [
          0,
          0.4
         ]
        }
       ],
       "layout": {
        "showlegend": true,
        "template": {
         "data": {
          "bar": [
           {
            "error_x": {
             "color": "rgb(36,36,36)"
            },
            "error_y": {
             "color": "rgb(36,36,36)"
            },
            "marker": {
             "line": {
              "color": "rgb(234,234,242)",
              "width": 0.5
             },
             "pattern": {
              "fillmode": "overlay",
              "size": 10,
              "solidity": 0.2
             }
            },
            "type": "bar"
           }
          ],
          "barpolar": [
           {
            "marker": {
             "line": {
              "color": "rgb(234,234,242)",
              "width": 0.5
             },
             "pattern": {
              "fillmode": "overlay",
              "size": 10,
              "solidity": 0.2
             }
            },
            "type": "barpolar"
           }
          ],
          "carpet": [
           {
            "aaxis": {
             "endlinecolor": "rgb(36,36,36)",
             "gridcolor": "white",
             "linecolor": "white",
             "minorgridcolor": "white",
             "startlinecolor": "rgb(36,36,36)"
            },
            "baxis": {
             "endlinecolor": "rgb(36,36,36)",
             "gridcolor": "white",
             "linecolor": "white",
             "minorgridcolor": "white",
             "startlinecolor": "rgb(36,36,36)"
            },
            "type": "carpet"
           }
          ],
          "choropleth": [
           {
            "colorbar": {
             "outlinewidth": 0,
             "tickcolor": "rgb(36,36,36)",
             "ticklen": 8,
             "ticks": "outside",
             "tickwidth": 2
            },
            "type": "choropleth"
           }
          ],
          "contour": [
           {
            "colorbar": {
             "outlinewidth": 0,
             "tickcolor": "rgb(36,36,36)",
             "ticklen": 8,
             "ticks": "outside",
             "tickwidth": 2
            },
            "colorscale": [
             [
              0,
              "rgb(2,4,25)"
             ],
             [
              0.06274509803921569,
              "rgb(24,15,41)"
             ],
             [
              0.12549019607843137,
              "rgb(47,23,57)"
             ],
             [
              0.18823529411764706,
              "rgb(71,28,72)"
             ],
             [
              0.25098039215686274,
              "rgb(97,30,82)"
             ],
             [
              0.3137254901960784,
              "rgb(123,30,89)"
             ],
             [
              0.3764705882352941,
              "rgb(150,27,91)"
             ],
             [
              0.4392156862745098,
              "rgb(177,22,88)"
             ],
             [
              0.5019607843137255,
              "rgb(203,26,79)"
             ],
             [
              0.5647058823529412,
              "rgb(223,47,67)"
             ],
             [
              0.6274509803921569,
              "rgb(236,76,61)"
             ],
             [
              0.6901960784313725,
              "rgb(242,107,73)"
             ],
             [
              0.7529411764705882,
              "rgb(244,135,95)"
             ],
             [
              0.8156862745098039,
              "rgb(245,162,122)"
             ],
             [
              0.8784313725490196,
              "rgb(246,188,153)"
             ],
             [
              0.9411764705882353,
              "rgb(247,212,187)"
             ],
             [
              1,
              "rgb(250,234,220)"
             ]
            ],
            "type": "contour"
           }
          ],
          "contourcarpet": [
           {
            "colorbar": {
             "outlinewidth": 0,
             "tickcolor": "rgb(36,36,36)",
             "ticklen": 8,
             "ticks": "outside",
             "tickwidth": 2
            },
            "type": "contourcarpet"
           }
          ],
          "heatmap": [
           {
            "colorbar": {
             "outlinewidth": 0,
             "tickcolor": "rgb(36,36,36)",
             "ticklen": 8,
             "ticks": "outside",
             "tickwidth": 2
            },
            "colorscale": [
             [
              0,
              "rgb(2,4,25)"
             ],
             [
              0.06274509803921569,
              "rgb(24,15,41)"
             ],
             [
              0.12549019607843137,
              "rgb(47,23,57)"
             ],
             [
              0.18823529411764706,
              "rgb(71,28,72)"
             ],
             [
              0.25098039215686274,
              "rgb(97,30,82)"
             ],
             [
              0.3137254901960784,
              "rgb(123,30,89)"
             ],
             [
              0.3764705882352941,
              "rgb(150,27,91)"
             ],
             [
              0.4392156862745098,
              "rgb(177,22,88)"
             ],
             [
              0.5019607843137255,
              "rgb(203,26,79)"
             ],
             [
              0.5647058823529412,
              "rgb(223,47,67)"
             ],
             [
              0.6274509803921569,
              "rgb(236,76,61)"
             ],
             [
              0.6901960784313725,
              "rgb(242,107,73)"
             ],
             [
              0.7529411764705882,
              "rgb(244,135,95)"
             ],
             [
              0.8156862745098039,
              "rgb(245,162,122)"
             ],
             [
              0.8784313725490196,
              "rgb(246,188,153)"
             ],
             [
              0.9411764705882353,
              "rgb(247,212,187)"
             ],
             [
              1,
              "rgb(250,234,220)"
             ]
            ],
            "type": "heatmap"
           }
          ],
          "heatmapgl": [
           {
            "colorbar": {
             "outlinewidth": 0,
             "tickcolor": "rgb(36,36,36)",
             "ticklen": 8,
             "ticks": "outside",
             "tickwidth": 2
            },
            "colorscale": [
             [
              0,
              "rgb(2,4,25)"
             ],
             [
              0.06274509803921569,
              "rgb(24,15,41)"
             ],
             [
              0.12549019607843137,
              "rgb(47,23,57)"
             ],
             [
              0.18823529411764706,
              "rgb(71,28,72)"
             ],
             [
              0.25098039215686274,
              "rgb(97,30,82)"
             ],
             [
              0.3137254901960784,
              "rgb(123,30,89)"
             ],
             [
              0.3764705882352941,
              "rgb(150,27,91)"
             ],
             [
              0.4392156862745098,
              "rgb(177,22,88)"
             ],
             [
              0.5019607843137255,
              "rgb(203,26,79)"
             ],
             [
              0.5647058823529412,
              "rgb(223,47,67)"
             ],
             [
              0.6274509803921569,
              "rgb(236,76,61)"
             ],
             [
              0.6901960784313725,
              "rgb(242,107,73)"
             ],
             [
              0.7529411764705882,
              "rgb(244,135,95)"
             ],
             [
              0.8156862745098039,
              "rgb(245,162,122)"
             ],
             [
              0.8784313725490196,
              "rgb(246,188,153)"
             ],
             [
              0.9411764705882353,
              "rgb(247,212,187)"
             ],
             [
              1,
              "rgb(250,234,220)"
             ]
            ],
            "type": "heatmapgl"
           }
          ],
          "histogram": [
           {
            "marker": {
             "pattern": {
              "fillmode": "overlay",
              "size": 10,
              "solidity": 0.2
             }
            },
            "type": "histogram"
           }
          ],
          "histogram2d": [
           {
            "colorbar": {
             "outlinewidth": 0,
             "tickcolor": "rgb(36,36,36)",
             "ticklen": 8,
             "ticks": "outside",
             "tickwidth": 2
            },
            "colorscale": [
             [
              0,
              "rgb(2,4,25)"
             ],
             [
              0.06274509803921569,
              "rgb(24,15,41)"
             ],
             [
              0.12549019607843137,
              "rgb(47,23,57)"
             ],
             [
              0.18823529411764706,
              "rgb(71,28,72)"
             ],
             [
              0.25098039215686274,
              "rgb(97,30,82)"
             ],
             [
              0.3137254901960784,
              "rgb(123,30,89)"
             ],
             [
              0.3764705882352941,
              "rgb(150,27,91)"
             ],
             [
              0.4392156862745098,
              "rgb(177,22,88)"
             ],
             [
              0.5019607843137255,
              "rgb(203,26,79)"
             ],
             [
              0.5647058823529412,
              "rgb(223,47,67)"
             ],
             [
              0.6274509803921569,
              "rgb(236,76,61)"
             ],
             [
              0.6901960784313725,
              "rgb(242,107,73)"
             ],
             [
              0.7529411764705882,
              "rgb(244,135,95)"
             ],
             [
              0.8156862745098039,
              "rgb(245,162,122)"
             ],
             [
              0.8784313725490196,
              "rgb(246,188,153)"
             ],
             [
              0.9411764705882353,
              "rgb(247,212,187)"
             ],
             [
              1,
              "rgb(250,234,220)"
             ]
            ],
            "type": "histogram2d"
           }
          ],
          "histogram2dcontour": [
           {
            "colorbar": {
             "outlinewidth": 0,
             "tickcolor": "rgb(36,36,36)",
             "ticklen": 8,
             "ticks": "outside",
             "tickwidth": 2
            },
            "colorscale": [
             [
              0,
              "rgb(2,4,25)"
             ],
             [
              0.06274509803921569,
              "rgb(24,15,41)"
             ],
             [
              0.12549019607843137,
              "rgb(47,23,57)"
             ],
             [
              0.18823529411764706,
              "rgb(71,28,72)"
             ],
             [
              0.25098039215686274,
              "rgb(97,30,82)"
             ],
             [
              0.3137254901960784,
              "rgb(123,30,89)"
             ],
             [
              0.3764705882352941,
              "rgb(150,27,91)"
             ],
             [
              0.4392156862745098,
              "rgb(177,22,88)"
             ],
             [
              0.5019607843137255,
              "rgb(203,26,79)"
             ],
             [
              0.5647058823529412,
              "rgb(223,47,67)"
             ],
             [
              0.6274509803921569,
              "rgb(236,76,61)"
             ],
             [
              0.6901960784313725,
              "rgb(242,107,73)"
             ],
             [
              0.7529411764705882,
              "rgb(244,135,95)"
             ],
             [
              0.8156862745098039,
              "rgb(245,162,122)"
             ],
             [
              0.8784313725490196,
              "rgb(246,188,153)"
             ],
             [
              0.9411764705882353,
              "rgb(247,212,187)"
             ],
             [
              1,
              "rgb(250,234,220)"
             ]
            ],
            "type": "histogram2dcontour"
           }
          ],
          "mesh3d": [
           {
            "colorbar": {
             "outlinewidth": 0,
             "tickcolor": "rgb(36,36,36)",
             "ticklen": 8,
             "ticks": "outside",
             "tickwidth": 2
            },
            "type": "mesh3d"
           }
          ],
          "parcoords": [
           {
            "line": {
             "colorbar": {
              "outlinewidth": 0,
              "tickcolor": "rgb(36,36,36)",
              "ticklen": 8,
              "ticks": "outside",
              "tickwidth": 2
             }
            },
            "type": "parcoords"
           }
          ],
          "pie": [
           {
            "automargin": true,
            "type": "pie"
           }
          ],
          "scatter": [
           {
            "fillpattern": {
             "fillmode": "overlay",
             "size": 10,
             "solidity": 0.2
            },
            "type": "scatter"
           }
          ],
          "scatter3d": [
           {
            "line": {
             "colorbar": {
              "outlinewidth": 0,
              "tickcolor": "rgb(36,36,36)",
              "ticklen": 8,
              "ticks": "outside",
              "tickwidth": 2
             }
            },
            "marker": {
             "colorbar": {
              "outlinewidth": 0,
              "tickcolor": "rgb(36,36,36)",
              "ticklen": 8,
              "ticks": "outside",
              "tickwidth": 2
             }
            },
            "type": "scatter3d"
           }
          ],
          "scattercarpet": [
           {
            "marker": {
             "colorbar": {
              "outlinewidth": 0,
              "tickcolor": "rgb(36,36,36)",
              "ticklen": 8,
              "ticks": "outside",
              "tickwidth": 2
             }
            },
            "type": "scattercarpet"
           }
          ],
          "scattergeo": [
           {
            "marker": {
             "colorbar": {
              "outlinewidth": 0,
              "tickcolor": "rgb(36,36,36)",
              "ticklen": 8,
              "ticks": "outside",
              "tickwidth": 2
             }
            },
            "type": "scattergeo"
           }
          ],
          "scattergl": [
           {
            "marker": {
             "colorbar": {
              "outlinewidth": 0,
              "tickcolor": "rgb(36,36,36)",
              "ticklen": 8,
              "ticks": "outside",
              "tickwidth": 2
             }
            },
            "type": "scattergl"
           }
          ],
          "scattermapbox": [
           {
            "marker": {
             "colorbar": {
              "outlinewidth": 0,
              "tickcolor": "rgb(36,36,36)",
              "ticklen": 8,
              "ticks": "outside",
              "tickwidth": 2
             }
            },
            "type": "scattermapbox"
           }
          ],
          "scatterpolar": [
           {
            "marker": {
             "colorbar": {
              "outlinewidth": 0,
              "tickcolor": "rgb(36,36,36)",
              "ticklen": 8,
              "ticks": "outside",
              "tickwidth": 2
             }
            },
            "type": "scatterpolar"
           }
          ],
          "scatterpolargl": [
           {
            "marker": {
             "colorbar": {
              "outlinewidth": 0,
              "tickcolor": "rgb(36,36,36)",
              "ticklen": 8,
              "ticks": "outside",
              "tickwidth": 2
             }
            },
            "type": "scatterpolargl"
           }
          ],
          "scatterternary": [
           {
            "marker": {
             "colorbar": {
              "outlinewidth": 0,
              "tickcolor": "rgb(36,36,36)",
              "ticklen": 8,
              "ticks": "outside",
              "tickwidth": 2
             }
            },
            "type": "scatterternary"
           }
          ],
          "surface": [
           {
            "colorbar": {
             "outlinewidth": 0,
             "tickcolor": "rgb(36,36,36)",
             "ticklen": 8,
             "ticks": "outside",
             "tickwidth": 2
            },
            "colorscale": [
             [
              0,
              "rgb(2,4,25)"
             ],
             [
              0.06274509803921569,
              "rgb(24,15,41)"
             ],
             [
              0.12549019607843137,
              "rgb(47,23,57)"
             ],
             [
              0.18823529411764706,
              "rgb(71,28,72)"
             ],
             [
              0.25098039215686274,
              "rgb(97,30,82)"
             ],
             [
              0.3137254901960784,
              "rgb(123,30,89)"
             ],
             [
              0.3764705882352941,
              "rgb(150,27,91)"
             ],
             [
              0.4392156862745098,
              "rgb(177,22,88)"
             ],
             [
              0.5019607843137255,
              "rgb(203,26,79)"
             ],
             [
              0.5647058823529412,
              "rgb(223,47,67)"
             ],
             [
              0.6274509803921569,
              "rgb(236,76,61)"
             ],
             [
              0.6901960784313725,
              "rgb(242,107,73)"
             ],
             [
              0.7529411764705882,
              "rgb(244,135,95)"
             ],
             [
              0.8156862745098039,
              "rgb(245,162,122)"
             ],
             [
              0.8784313725490196,
              "rgb(246,188,153)"
             ],
             [
              0.9411764705882353,
              "rgb(247,212,187)"
             ],
             [
              1,
              "rgb(250,234,220)"
             ]
            ],
            "type": "surface"
           }
          ],
          "table": [
           {
            "cells": {
             "fill": {
              "color": "rgb(231,231,240)"
             },
             "line": {
              "color": "white"
             }
            },
            "header": {
             "fill": {
              "color": "rgb(183,183,191)"
             },
             "line": {
              "color": "white"
             }
            },
            "type": "table"
           }
          ]
         },
         "layout": {
          "annotationdefaults": {
           "arrowcolor": "rgb(67,103,167)",
           "arrowhead": 0,
           "arrowwidth": 1
          },
          "autotypenumbers": "strict",
          "coloraxis": {
           "colorbar": {
            "outlinewidth": 0,
            "tickcolor": "rgb(36,36,36)",
            "ticklen": 8,
            "ticks": "outside",
            "tickwidth": 2
           }
          },
          "colorscale": {
           "sequential": [
            [
             0,
             "rgb(2,4,25)"
            ],
            [
             0.06274509803921569,
             "rgb(24,15,41)"
            ],
            [
             0.12549019607843137,
             "rgb(47,23,57)"
            ],
            [
             0.18823529411764706,
             "rgb(71,28,72)"
            ],
            [
             0.25098039215686274,
             "rgb(97,30,82)"
            ],
            [
             0.3137254901960784,
             "rgb(123,30,89)"
            ],
            [
             0.3764705882352941,
             "rgb(150,27,91)"
            ],
            [
             0.4392156862745098,
             "rgb(177,22,88)"
            ],
            [
             0.5019607843137255,
             "rgb(203,26,79)"
            ],
            [
             0.5647058823529412,
             "rgb(223,47,67)"
            ],
            [
             0.6274509803921569,
             "rgb(236,76,61)"
            ],
            [
             0.6901960784313725,
             "rgb(242,107,73)"
            ],
            [
             0.7529411764705882,
             "rgb(244,135,95)"
            ],
            [
             0.8156862745098039,
             "rgb(245,162,122)"
            ],
            [
             0.8784313725490196,
             "rgb(246,188,153)"
            ],
            [
             0.9411764705882353,
             "rgb(247,212,187)"
            ],
            [
             1,
             "rgb(250,234,220)"
            ]
           ],
           "sequentialminus": [
            [
             0,
             "rgb(2,4,25)"
            ],
            [
             0.06274509803921569,
             "rgb(24,15,41)"
            ],
            [
             0.12549019607843137,
             "rgb(47,23,57)"
            ],
            [
             0.18823529411764706,
             "rgb(71,28,72)"
            ],
            [
             0.25098039215686274,
             "rgb(97,30,82)"
            ],
            [
             0.3137254901960784,
             "rgb(123,30,89)"
            ],
            [
             0.3764705882352941,
             "rgb(150,27,91)"
            ],
            [
             0.4392156862745098,
             "rgb(177,22,88)"
            ],
            [
             0.5019607843137255,
             "rgb(203,26,79)"
            ],
            [
             0.5647058823529412,
             "rgb(223,47,67)"
            ],
            [
             0.6274509803921569,
             "rgb(236,76,61)"
            ],
            [
             0.6901960784313725,
             "rgb(242,107,73)"
            ],
            [
             0.7529411764705882,
             "rgb(244,135,95)"
            ],
            [
             0.8156862745098039,
             "rgb(245,162,122)"
            ],
            [
             0.8784313725490196,
             "rgb(246,188,153)"
            ],
            [
             0.9411764705882353,
             "rgb(247,212,187)"
            ],
            [
             1,
             "rgb(250,234,220)"
            ]
           ]
          },
          "colorway": [
           "rgb(76,114,176)",
           "rgb(221,132,82)",
           "rgb(85,168,104)",
           "rgb(196,78,82)",
           "rgb(129,114,179)",
           "rgb(147,120,96)",
           "rgb(218,139,195)",
           "rgb(140,140,140)",
           "rgb(204,185,116)",
           "rgb(100,181,205)"
          ],
          "font": {
           "color": "rgb(36,36,36)"
          },
          "geo": {
           "bgcolor": "white",
           "lakecolor": "white",
           "landcolor": "rgb(234,234,242)",
           "showlakes": true,
           "showland": true,
           "subunitcolor": "white"
          },
          "hoverlabel": {
           "align": "left"
          },
          "hovermode": "closest",
          "paper_bgcolor": "white",
          "plot_bgcolor": "rgb(234,234,242)",
          "polar": {
           "angularaxis": {
            "gridcolor": "white",
            "linecolor": "white",
            "showgrid": true,
            "tickcolor": "rgb(51,51,51)",
            "ticks": ""
           },
           "bgcolor": "rgb(234,234,242)",
           "radialaxis": {
            "gridcolor": "white",
            "linecolor": "white",
            "showgrid": true,
            "tickcolor": "rgb(51,51,51)",
            "ticks": ""
           }
          },
          "scene": {
           "xaxis": {
            "backgroundcolor": "rgb(234,234,242)",
            "gridcolor": "white",
            "gridwidth": 2,
            "linecolor": "white",
            "showbackground": true,
            "showgrid": true,
            "tickcolor": "rgb(51,51,51)",
            "ticks": "",
            "zerolinecolor": "white"
           },
           "yaxis": {
            "backgroundcolor": "rgb(234,234,242)",
            "gridcolor": "white",
            "gridwidth": 2,
            "linecolor": "white",
            "showbackground": true,
            "showgrid": true,
            "tickcolor": "rgb(51,51,51)",
            "ticks": "",
            "zerolinecolor": "white"
           },
           "zaxis": {
            "backgroundcolor": "rgb(234,234,242)",
            "gridcolor": "white",
            "gridwidth": 2,
            "linecolor": "white",
            "showbackground": true,
            "showgrid": true,
            "tickcolor": "rgb(51,51,51)",
            "ticks": "",
            "zerolinecolor": "white"
           }
          },
          "shapedefaults": {
           "fillcolor": "rgb(67,103,167)",
           "line": {
            "width": 0
           },
           "opacity": 0.5
          },
          "ternary": {
           "aaxis": {
            "gridcolor": "white",
            "linecolor": "white",
            "showgrid": true,
            "tickcolor": "rgb(51,51,51)",
            "ticks": ""
           },
           "baxis": {
            "gridcolor": "white",
            "linecolor": "white",
            "showgrid": true,
            "tickcolor": "rgb(51,51,51)",
            "ticks": ""
           },
           "bgcolor": "rgb(234,234,242)",
           "caxis": {
            "gridcolor": "white",
            "linecolor": "white",
            "showgrid": true,
            "tickcolor": "rgb(51,51,51)",
            "ticks": ""
           }
          },
          "xaxis": {
           "automargin": true,
           "gridcolor": "white",
           "linecolor": "white",
           "showgrid": true,
           "tickcolor": "rgb(51,51,51)",
           "ticks": "",
           "title": {
            "standoff": 15
           },
           "zerolinecolor": "white"
          },
          "yaxis": {
           "automargin": true,
           "gridcolor": "white",
           "linecolor": "white",
           "showgrid": true,
           "tickcolor": "rgb(51,51,51)",
           "ticks": "",
           "title": {
            "standoff": 15
           },
           "zerolinecolor": "white"
          }
         }
        },
        "title": {
         "text": "ONE-TAILED TEST (RIGHT TAIL)"
        },
        "xaxis": {
         "title": {
          "text": "t-value"
         }
        },
        "yaxis": {
         "title": {
          "text": "Density"
         }
        }
       }
      }
     },
     "metadata": {},
     "output_type": "display_data"
    }
   ],
   "source": [
    "import numpy as np\n",
    "import scipy.stats as stats\n",
    "import plotly.graph_objects as go\n",
    "\n",
    "## Calculate the t_critical value for the right tail\n",
    "t_crit = stats.t.ppf((1-0.05), 198)  # Positive critical value for the right tail\n",
    "\n",
    "## The values of the distribution\n",
    "t_xvals = np.linspace(-3, 3, 200)\n",
    "\n",
    "## The PDF of the t-distribution\n",
    "t_dist_pdf = stats.t.pdf(t_xvals, 198)\n",
    "\n",
    "## Plot the PDF\n",
    "t_dist_fig_right = go.Figure()\n",
    "\n",
    "## Add the PDF trace\n",
    "t_dist_fig_right.add_trace(\n",
    "    go.Scatter(\n",
    "        x=t_xvals,\n",
    "        y=t_dist_pdf,\n",
    "        name='PDF',\n",
    "        mode='lines'\n",
    "    )\n",
    ")\n",
    "\n",
    "## Add the critical value line (right tail)\n",
    "t_dist_fig_right.add_trace(\n",
    "    go.Scatter(\n",
    "        x=[t_crit, t_crit],  # Use positive t_crit for the right tail\n",
    "        y=[0, 0.4],\n",
    "        name='Critical Value',\n",
    "        mode='lines',\n",
    "        line=dict(color='red', dash='dash')\n",
    "    )\n",
    ")\n",
    "\n",
    "## Add the t-statistic line (right tail)\n",
    "  # Replace this with your actual t-statistic value\n",
    "t_dist_fig_right.add_trace(\n",
    "    go.Scatter(\n",
    "        x=[t_stat, t_stat],  # Use the t-statistic value\n",
    "        y=[0, 0.4],\n",
    "        name='t-statistic',\n",
    "        mode='lines',\n",
    "        line=dict(color='green', dash='dash')\n",
    "    )\n",
    ")\n",
    "\n",
    "## Update layout\n",
    "t_dist_fig_right.update_layout(\n",
    "    title='ONE-TAILED TEST (RIGHT TAIL)',\n",
    "    xaxis_title='t-value',\n",
    "    yaxis_title='Density',\n",
    "    showlegend=True\n",
    ")\n",
    "\n",
    "## Show the figure\n",
    "t_dist_fig_right.show()"
   ]
  },
  {
   "cell_type": "code",
   "execution_count": 20,
   "metadata": {},
   "outputs": [
    {
     "data": {
      "text/plain": [
       "0.00815709170533677"
      ]
     },
     "execution_count": 20,
     "metadata": {},
     "output_type": "execute_result"
    }
   ],
   "source": [
    "stats.t.cdf(t_stat,198)"
   ]
  },
  {
   "cell_type": "code",
   "execution_count": 21,
   "metadata": {},
   "outputs": [
    {
     "data": {
      "text/plain": [
       "1.6525857836172075"
      ]
     },
     "execution_count": 21,
     "metadata": {},
     "output_type": "execute_result"
    }
   ],
   "source": [
    "t_crit = stats.t.ppf((1-0.05), 198)\n",
    "t_crit"
   ]
  },
  {
   "cell_type": "code",
   "execution_count": 22,
   "metadata": {},
   "outputs": [
    {
     "name": "stdout",
     "output_type": "stream",
     "text": [
      "Right-tailed p-value (t_stat = 2.0): 0.0234\n",
      "Right-tailed p-value (t_stat = -2.0): Not relevant for right-tailed test\n"
     ]
    }
   ],
   "source": [
    "import scipy.stats as stats\n",
    "\n",
    "# Case 1: Positive t-statistic\n",
    "t_stat_positive = 2.0\n",
    "df = 198\n",
    "\n",
    "# Calculate the right-tailed p-value\n",
    "p_value_positive = 1 - stats.t.cdf(t_stat_positive, df)\n",
    "print(f\"Right-tailed p-value (t_stat = 2.0): {p_value_positive:.4f}\")  # Output: ~0.024\n",
    "\n",
    "# Case 2: Negative t-statistic\n",
    "t_stat_negative = -2.0\n",
    "\n",
    "# For a right-tailed test, a negative t-statistic is not relevant\n",
    "if t_stat_negative > 0:\n",
    "    p_value_negative = 1 - stats.t.cdf(t_stat_negative, df)\n",
    "else:\n",
    "    p_value_negative = \"Not relevant for right-tailed test\"\n",
    "print(f\"Right-tailed p-value (t_stat = -2.0): {p_value_negative}\")  # Output: Not relevant"
   ]
  },
  {
   "cell_type": "code",
   "execution_count": null,
   "metadata": {},
   "outputs": [],
   "source": []
  }
 ],
 "metadata": {
  "kernelspec": {
   "display_name": "jt",
   "language": "python",
   "name": "python3"
  },
  "language_info": {
   "codemirror_mode": {
    "name": "ipython",
    "version": 3
   },
   "file_extension": ".py",
   "mimetype": "text/x-python",
   "name": "python",
   "nbconvert_exporter": "python",
   "pygments_lexer": "ipython3",
   "version": "3.12.2"
  }
 },
 "nbformat": 4,
 "nbformat_minor": 2
}
